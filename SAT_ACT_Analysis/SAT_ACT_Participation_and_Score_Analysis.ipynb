{
 "cells": [
  {
   "cell_type": "markdown",
   "metadata": {},
   "source": [
    "# SAT & ACT Participation & Score Analysis\n",
    "## Magnus Bigelow"
   ]
  },
  {
   "cell_type": "markdown",
   "metadata": {},
   "source": [
    "## Problem Statement"
   ]
  },
  {
   "cell_type": "markdown",
   "metadata": {},
   "source": [
    "The SAT and ACT play a prominent role in the lives of young Americans as the primary tests taken by prospective college students to demonstrate their college readiness. As important gatekeepers to a college education, and determinants in which college a student is admitted to both tests see a great degree of scrutiny and are constantly considering potential revisions. In 2016 the SAT decided to shorten the test and revise the content in order to better test for skill's needed in college and reduce the reliance on 'tricks' and specific prep for the test.\n",
    "\n",
    "With a dataset of average scores and participation in the SAT and ACT by state for the years 2017 and 2018 we will look at states that have had large increases or decreases in SAT / ACT participation and identify why those states have seen such swings. Then we will identify a state that is ripe for the SAT to increase their presence in and recommend strategies to increase participation."
   ]
  },
  {
   "cell_type": "markdown",
   "metadata": {},
   "source": [
    "### Contents:\n",
    "- [Data Sources](#Data-Sources)\n",
    "- [Imports & Loading Data](#Imports-&-Loading-Data)\n",
    "- [Displaying Data, Preliminary EDA & Cleaning](#Displaying-Data,-Preliminary-EDA-&-Cleaning)\n",
    "- [Data Dictionary](#Data-Dictionary)\n",
    "- [Exploratory Data Analysis](#Exploratory-Data-Analysis)\n",
    "- [Data Visualization](#Data-Visualization)\n",
    "- [Outside Research](#Outside-Research)\n",
    "- [Conclusions and Recommendations](#Conclusions-and-Recommendations)"
   ]
  },
  {
   "cell_type": "markdown",
   "metadata": {},
   "source": [
    "## Data Sources"
   ]
  },
  {
   "cell_type": "markdown",
   "metadata": {},
   "source": [
    "The data used for this project was compiled from the following locations: \n",
    "    [2017 SAT](https://blog.collegevine.com/here-are-the-average-sat-scores-by-state/)\n",
    "    [2018 SAT](https://reports.collegeboard.org/sat-suite-program-results/state-results)\n",
    "    [2017 ACT](https://blog.prepscholar.com/act-scores-by-state-averages-highs-and-lows)\n",
    "    [2018 ACT](http://www.act.org/content/dam/act/unsecured/documents/cccr2018/Average-Scores-by-State.pdf)"
   ]
  },
  {
   "cell_type": "markdown",
   "metadata": {},
   "source": [
    "## Imports & Loading Data "
   ]
  },
  {
   "cell_type": "markdown",
   "metadata": {},
   "source": [
    "#### Importing Necessary Libraries"
   ]
  },
  {
   "cell_type": "code",
   "execution_count": 1,
   "metadata": {},
   "outputs": [],
   "source": [
    "import numpy as np\n",
    "import pandas as pd\n",
    "import matplotlib.pyplot as plt\n",
    "import seaborn as sns"
   ]
  },
  {
   "cell_type": "markdown",
   "metadata": {},
   "source": [
    "#### Reading In SAT & ACT  Data"
   ]
  },
  {
   "cell_type": "code",
   "execution_count": 2,
   "metadata": {},
   "outputs": [],
   "source": [
    "sat_17 = pd.read_csv('Data/sat_2017.csv')\n",
    "act_17 = pd.read_csv('Data/act_2017.csv')\n",
    "sat_18 = pd.read_csv('Data/sat_2018.csv')\n",
    "act_18 = pd.read_csv('Data/act_2018.csv')"
   ]
  },
  {
   "cell_type": "markdown",
   "metadata": {},
   "source": [
    "## Displaying Data, Preliminary EDA & Cleaning"
   ]
  },
  {
   "cell_type": "markdown",
   "metadata": {},
   "source": [
    "###### SAT 2017"
   ]
  },
  {
   "cell_type": "code",
   "execution_count": 3,
   "metadata": {},
   "outputs": [
    {
     "data": {
      "text/html": [
       "<div>\n",
       "<style scoped>\n",
       "    .dataframe tbody tr th:only-of-type {\n",
       "        vertical-align: middle;\n",
       "    }\n",
       "\n",
       "    .dataframe tbody tr th {\n",
       "        vertical-align: top;\n",
       "    }\n",
       "\n",
       "    .dataframe thead th {\n",
       "        text-align: right;\n",
       "    }\n",
       "</style>\n",
       "<table border=\"1\" class=\"dataframe\">\n",
       "  <thead>\n",
       "    <tr style=\"text-align: right;\">\n",
       "      <th></th>\n",
       "      <th>State</th>\n",
       "      <th>Participation</th>\n",
       "      <th>Evidence-Based Reading and Writing</th>\n",
       "      <th>Math</th>\n",
       "      <th>Total</th>\n",
       "    </tr>\n",
       "  </thead>\n",
       "  <tbody>\n",
       "    <tr>\n",
       "      <th>0</th>\n",
       "      <td>Alabama</td>\n",
       "      <td>5%</td>\n",
       "      <td>593</td>\n",
       "      <td>572</td>\n",
       "      <td>1165</td>\n",
       "    </tr>\n",
       "    <tr>\n",
       "      <th>1</th>\n",
       "      <td>Alaska</td>\n",
       "      <td>38%</td>\n",
       "      <td>547</td>\n",
       "      <td>533</td>\n",
       "      <td>1080</td>\n",
       "    </tr>\n",
       "    <tr>\n",
       "      <th>2</th>\n",
       "      <td>Arizona</td>\n",
       "      <td>30%</td>\n",
       "      <td>563</td>\n",
       "      <td>553</td>\n",
       "      <td>1116</td>\n",
       "    </tr>\n",
       "  </tbody>\n",
       "</table>\n",
       "</div>"
      ],
      "text/plain": [
       "     State Participation  Evidence-Based Reading and Writing  Math  Total\n",
       "0  Alabama            5%                                 593   572   1165\n",
       "1   Alaska           38%                                 547   533   1080\n",
       "2  Arizona           30%                                 563   553   1116"
      ]
     },
     "metadata": {},
     "output_type": "display_data"
    },
    {
     "name": "stdout",
     "output_type": "stream",
     "text": [
      "<class 'pandas.core.frame.DataFrame'>\n",
      "RangeIndex: 51 entries, 0 to 50\n",
      "Data columns (total 5 columns):\n",
      "State                                 51 non-null object\n",
      "Participation                         51 non-null object\n",
      "Evidence-Based Reading and Writing    51 non-null int64\n",
      "Math                                  51 non-null int64\n",
      "Total                                 51 non-null int64\n",
      "dtypes: int64(3), object(2)\n",
      "memory usage: 2.1+ KB\n"
     ]
    },
    {
     "data": {
      "text/plain": [
       "None"
      ]
     },
     "metadata": {},
     "output_type": "display_data"
    },
    {
     "data": {
      "text/html": [
       "<div>\n",
       "<style scoped>\n",
       "    .dataframe tbody tr th:only-of-type {\n",
       "        vertical-align: middle;\n",
       "    }\n",
       "\n",
       "    .dataframe tbody tr th {\n",
       "        vertical-align: top;\n",
       "    }\n",
       "\n",
       "    .dataframe thead th {\n",
       "        text-align: right;\n",
       "    }\n",
       "</style>\n",
       "<table border=\"1\" class=\"dataframe\">\n",
       "  <thead>\n",
       "    <tr style=\"text-align: right;\">\n",
       "      <th></th>\n",
       "      <th>Evidence-Based Reading and Writing</th>\n",
       "      <th>Math</th>\n",
       "      <th>Total</th>\n",
       "    </tr>\n",
       "  </thead>\n",
       "  <tbody>\n",
       "    <tr>\n",
       "      <th>count</th>\n",
       "      <td>51.000000</td>\n",
       "      <td>51.000000</td>\n",
       "      <td>51.000000</td>\n",
       "    </tr>\n",
       "    <tr>\n",
       "      <th>mean</th>\n",
       "      <td>569.117647</td>\n",
       "      <td>547.627451</td>\n",
       "      <td>1126.098039</td>\n",
       "    </tr>\n",
       "    <tr>\n",
       "      <th>std</th>\n",
       "      <td>45.666901</td>\n",
       "      <td>84.909119</td>\n",
       "      <td>92.494812</td>\n",
       "    </tr>\n",
       "    <tr>\n",
       "      <th>min</th>\n",
       "      <td>482.000000</td>\n",
       "      <td>52.000000</td>\n",
       "      <td>950.000000</td>\n",
       "    </tr>\n",
       "    <tr>\n",
       "      <th>25%</th>\n",
       "      <td>533.500000</td>\n",
       "      <td>522.000000</td>\n",
       "      <td>1055.500000</td>\n",
       "    </tr>\n",
       "    <tr>\n",
       "      <th>50%</th>\n",
       "      <td>559.000000</td>\n",
       "      <td>548.000000</td>\n",
       "      <td>1107.000000</td>\n",
       "    </tr>\n",
       "    <tr>\n",
       "      <th>75%</th>\n",
       "      <td>613.000000</td>\n",
       "      <td>599.000000</td>\n",
       "      <td>1212.000000</td>\n",
       "    </tr>\n",
       "    <tr>\n",
       "      <th>max</th>\n",
       "      <td>644.000000</td>\n",
       "      <td>651.000000</td>\n",
       "      <td>1295.000000</td>\n",
       "    </tr>\n",
       "  </tbody>\n",
       "</table>\n",
       "</div>"
      ],
      "text/plain": [
       "       Evidence-Based Reading and Writing        Math        Total\n",
       "count                           51.000000   51.000000    51.000000\n",
       "mean                           569.117647  547.627451  1126.098039\n",
       "std                             45.666901   84.909119    92.494812\n",
       "min                            482.000000   52.000000   950.000000\n",
       "25%                            533.500000  522.000000  1055.500000\n",
       "50%                            559.000000  548.000000  1107.000000\n",
       "75%                            613.000000  599.000000  1212.000000\n",
       "max                            644.000000  651.000000  1295.000000"
      ]
     },
     "metadata": {},
     "output_type": "display_data"
    }
   ],
   "source": [
    "display(sat_17.head(3))\n",
    "display(sat_17.info())\n",
    "display(sat_17.describe())"
   ]
  },
  {
   "cell_type": "markdown",
   "metadata": {},
   "source": [
    "We can see that the SAT 17 dataset consists of 51 entries (all 50 states + DC) and includedes: participation, evidence-based reading and writing, math and a total scores. There are not null objects in the dataset, however, a couple things immediately spring to mind as errors / in need of revision: the min for the Math variable is only 52 when the minimum SAT score in a subject is 200 and participation is an object which needs to be changed to a float so we can perform math operations on it.\n",
    "\n",
    "Next steps will be to locate the error(s) within math and fix that along with the participation column."
   ]
  },
  {
   "cell_type": "code",
   "execution_count": 4,
   "metadata": {},
   "outputs": [
    {
     "data": {
      "text/html": [
       "<div>\n",
       "<style scoped>\n",
       "    .dataframe tbody tr th:only-of-type {\n",
       "        vertical-align: middle;\n",
       "    }\n",
       "\n",
       "    .dataframe tbody tr th {\n",
       "        vertical-align: top;\n",
       "    }\n",
       "\n",
       "    .dataframe thead th {\n",
       "        text-align: right;\n",
       "    }\n",
       "</style>\n",
       "<table border=\"1\" class=\"dataframe\">\n",
       "  <thead>\n",
       "    <tr style=\"text-align: right;\">\n",
       "      <th></th>\n",
       "      <th>State</th>\n",
       "      <th>Participation</th>\n",
       "      <th>Evidence-Based Reading and Writing</th>\n",
       "      <th>Math</th>\n",
       "      <th>Total</th>\n",
       "    </tr>\n",
       "  </thead>\n",
       "  <tbody>\n",
       "    <tr>\n",
       "      <th>20</th>\n",
       "      <td>Maryland</td>\n",
       "      <td>69%</td>\n",
       "      <td>536</td>\n",
       "      <td>52</td>\n",
       "      <td>1060</td>\n",
       "    </tr>\n",
       "    <tr>\n",
       "      <th>8</th>\n",
       "      <td>District of Columbia</td>\n",
       "      <td>100%</td>\n",
       "      <td>482</td>\n",
       "      <td>468</td>\n",
       "      <td>950</td>\n",
       "    </tr>\n",
       "    <tr>\n",
       "      <th>7</th>\n",
       "      <td>Delaware</td>\n",
       "      <td>100%</td>\n",
       "      <td>503</td>\n",
       "      <td>492</td>\n",
       "      <td>996</td>\n",
       "    </tr>\n",
       "  </tbody>\n",
       "</table>\n",
       "</div>"
      ],
      "text/plain": [
       "                   State Participation  Evidence-Based Reading and Writing  \\\n",
       "20              Maryland           69%                                 536   \n",
       "8   District of Columbia          100%                                 482   \n",
       "7               Delaware          100%                                 503   \n",
       "\n",
       "    Math  Total  \n",
       "20    52   1060  \n",
       "8    468    950  \n",
       "7    492    996  "
      ]
     },
     "metadata": {},
     "output_type": "display_data"
    }
   ],
   "source": [
    "display(sat_17.sort_values(by = 'Math').head(3))"
   ]
  },
  {
   "cell_type": "markdown",
   "metadata": {},
   "source": [
    "We can see that the Maryland has a Math value of 52 that is clearly incorrect, however, the other states look to be okay. Referencing the source file for the 2017 SAT we can see that Maryland's Math score should in fact be 524."
   ]
  },
  {
   "cell_type": "code",
   "execution_count": 5,
   "metadata": {},
   "outputs": [],
   "source": [
    "# create a Maryland boolean filter using 2 letter state code (will use as standard throughout analysis)\n",
    "md_sort_sat_17 = sat_17['State'] == 'Maryland'\n",
    "# Assign Maryland the correct math score of 524\n",
    "sat_17.loc[md_sort_sat_17,'Math'] = 524"
   ]
  },
  {
   "cell_type": "code",
   "execution_count": 6,
   "metadata": {},
   "outputs": [],
   "source": [
    "# Fix data type of participation\n",
    "# Code taken with minor modifications from\n",
    "# https://stackoverflow.com/questions/50686004/change-column-with-string-of-percent-to-float-pandas-dataframe\n",
    "sat_17['Participation'] = sat_17['Participation'].str.replace(r'%', r'.0').astype('float')"
   ]
  },
  {
   "cell_type": "markdown",
   "metadata": {},
   "source": [
    "Additionally we can see that some of the column names are quite long and going forward there will likely be some overlap in names between datasets. As such, we need a naming convention that makes it easier to reference columns and doesn't cause confusion between data sets.\n",
    "\n",
    "The convention will be as follows: 'act' for ACT of 'sat' for SAT _ 3/5 letter abbreviation (i.e. part for participation) _ year\n",
    "\n",
    "an example would be sat_math_17 or sat_ebrw_17 from this dataset\n",
    "\n",
    "We will not rename 'State' besides making lowercase as we will merge on that variable"
   ]
  },
  {
   "cell_type": "code",
   "execution_count": 7,
   "metadata": {},
   "outputs": [],
   "source": [
    "# initialize dictionary of new names for the dataset\n",
    "sat_17_names = {'State':'state',\n",
    "                'Participation':'sat_part_17',\n",
    "                'Evidence-Based Reading and Writing':'sat_ebrw_17',\n",
    "                'Math':'sat_math_17',\n",
    "                'Total':'sat_total_17'}\n",
    "sat_17.rename(columns=sat_17_names, inplace=True)"
   ]
  },
  {
   "cell_type": "markdown",
   "metadata": {},
   "source": [
    "###### ACT 2017"
   ]
  },
  {
   "cell_type": "code",
   "execution_count": 8,
   "metadata": {},
   "outputs": [
    {
     "data": {
      "text/html": [
       "<div>\n",
       "<style scoped>\n",
       "    .dataframe tbody tr th:only-of-type {\n",
       "        vertical-align: middle;\n",
       "    }\n",
       "\n",
       "    .dataframe tbody tr th {\n",
       "        vertical-align: top;\n",
       "    }\n",
       "\n",
       "    .dataframe thead th {\n",
       "        text-align: right;\n",
       "    }\n",
       "</style>\n",
       "<table border=\"1\" class=\"dataframe\">\n",
       "  <thead>\n",
       "    <tr style=\"text-align: right;\">\n",
       "      <th></th>\n",
       "      <th>State</th>\n",
       "      <th>Participation</th>\n",
       "      <th>English</th>\n",
       "      <th>Math</th>\n",
       "      <th>Reading</th>\n",
       "      <th>Science</th>\n",
       "      <th>Composite</th>\n",
       "    </tr>\n",
       "  </thead>\n",
       "  <tbody>\n",
       "    <tr>\n",
       "      <th>0</th>\n",
       "      <td>National</td>\n",
       "      <td>60%</td>\n",
       "      <td>20.3</td>\n",
       "      <td>20.7</td>\n",
       "      <td>21.4</td>\n",
       "      <td>21.0</td>\n",
       "      <td>21.0</td>\n",
       "    </tr>\n",
       "    <tr>\n",
       "      <th>1</th>\n",
       "      <td>Alabama</td>\n",
       "      <td>100%</td>\n",
       "      <td>18.9</td>\n",
       "      <td>18.4</td>\n",
       "      <td>19.7</td>\n",
       "      <td>19.4</td>\n",
       "      <td>19.2</td>\n",
       "    </tr>\n",
       "    <tr>\n",
       "      <th>2</th>\n",
       "      <td>Alaska</td>\n",
       "      <td>65%</td>\n",
       "      <td>18.7</td>\n",
       "      <td>19.8</td>\n",
       "      <td>20.4</td>\n",
       "      <td>19.9</td>\n",
       "      <td>19.8</td>\n",
       "    </tr>\n",
       "  </tbody>\n",
       "</table>\n",
       "</div>"
      ],
      "text/plain": [
       "      State Participation  English  Math  Reading  Science Composite\n",
       "0  National           60%     20.3  20.7     21.4     21.0      21.0\n",
       "1   Alabama          100%     18.9  18.4     19.7     19.4      19.2\n",
       "2    Alaska           65%     18.7  19.8     20.4     19.9      19.8"
      ]
     },
     "metadata": {},
     "output_type": "display_data"
    },
    {
     "name": "stdout",
     "output_type": "stream",
     "text": [
      "<class 'pandas.core.frame.DataFrame'>\n",
      "RangeIndex: 52 entries, 0 to 51\n",
      "Data columns (total 7 columns):\n",
      "State            52 non-null object\n",
      "Participation    52 non-null object\n",
      "English          52 non-null float64\n",
      "Math             52 non-null float64\n",
      "Reading          52 non-null float64\n",
      "Science          52 non-null float64\n",
      "Composite        52 non-null object\n",
      "dtypes: float64(4), object(3)\n",
      "memory usage: 3.0+ KB\n"
     ]
    },
    {
     "data": {
      "text/plain": [
       "None"
      ]
     },
     "metadata": {},
     "output_type": "display_data"
    },
    {
     "data": {
      "text/html": [
       "<div>\n",
       "<style scoped>\n",
       "    .dataframe tbody tr th:only-of-type {\n",
       "        vertical-align: middle;\n",
       "    }\n",
       "\n",
       "    .dataframe tbody tr th {\n",
       "        vertical-align: top;\n",
       "    }\n",
       "\n",
       "    .dataframe thead th {\n",
       "        text-align: right;\n",
       "    }\n",
       "</style>\n",
       "<table border=\"1\" class=\"dataframe\">\n",
       "  <thead>\n",
       "    <tr style=\"text-align: right;\">\n",
       "      <th></th>\n",
       "      <th>English</th>\n",
       "      <th>Math</th>\n",
       "      <th>Reading</th>\n",
       "      <th>Science</th>\n",
       "    </tr>\n",
       "  </thead>\n",
       "  <tbody>\n",
       "    <tr>\n",
       "      <th>count</th>\n",
       "      <td>52.000000</td>\n",
       "      <td>52.000000</td>\n",
       "      <td>52.000000</td>\n",
       "      <td>52.000000</td>\n",
       "    </tr>\n",
       "    <tr>\n",
       "      <th>mean</th>\n",
       "      <td>20.919231</td>\n",
       "      <td>21.173077</td>\n",
       "      <td>22.001923</td>\n",
       "      <td>21.040385</td>\n",
       "    </tr>\n",
       "    <tr>\n",
       "      <th>std</th>\n",
       "      <td>2.332132</td>\n",
       "      <td>1.963602</td>\n",
       "      <td>2.048672</td>\n",
       "      <td>3.151113</td>\n",
       "    </tr>\n",
       "    <tr>\n",
       "      <th>min</th>\n",
       "      <td>16.300000</td>\n",
       "      <td>18.000000</td>\n",
       "      <td>18.100000</td>\n",
       "      <td>2.300000</td>\n",
       "    </tr>\n",
       "    <tr>\n",
       "      <th>25%</th>\n",
       "      <td>19.000000</td>\n",
       "      <td>19.400000</td>\n",
       "      <td>20.475000</td>\n",
       "      <td>19.900000</td>\n",
       "    </tr>\n",
       "    <tr>\n",
       "      <th>50%</th>\n",
       "      <td>20.550000</td>\n",
       "      <td>20.900000</td>\n",
       "      <td>21.700000</td>\n",
       "      <td>21.150000</td>\n",
       "    </tr>\n",
       "    <tr>\n",
       "      <th>75%</th>\n",
       "      <td>23.300000</td>\n",
       "      <td>23.100000</td>\n",
       "      <td>24.125000</td>\n",
       "      <td>22.525000</td>\n",
       "    </tr>\n",
       "    <tr>\n",
       "      <th>max</th>\n",
       "      <td>25.500000</td>\n",
       "      <td>25.300000</td>\n",
       "      <td>26.000000</td>\n",
       "      <td>24.900000</td>\n",
       "    </tr>\n",
       "  </tbody>\n",
       "</table>\n",
       "</div>"
      ],
      "text/plain": [
       "         English       Math    Reading    Science\n",
       "count  52.000000  52.000000  52.000000  52.000000\n",
       "mean   20.919231  21.173077  22.001923  21.040385\n",
       "std     2.332132   1.963602   2.048672   3.151113\n",
       "min    16.300000  18.000000  18.100000   2.300000\n",
       "25%    19.000000  19.400000  20.475000  19.900000\n",
       "50%    20.550000  20.900000  21.700000  21.150000\n",
       "75%    23.300000  23.100000  24.125000  22.525000\n",
       "max    25.500000  25.300000  26.000000  24.900000"
      ]
     },
     "metadata": {},
     "output_type": "display_data"
    }
   ],
   "source": [
    "display(act_17.head(3))\n",
    "display(act_17.info())\n",
    "display(act_17.describe())"
   ]
  },
  {
   "cell_type": "markdown",
   "metadata": {},
   "source": [
    "We can see that the ACT 17 dataset consists of 52 entries (all 50 states, DC and national) and includedes: participation, english, math, reading, science and a composite scores. There are not null objects in the dataset, however, a couple things immediately spring to mind as errors / in need of revision: the min for the science variable is only 2.3 which is much lower than the other minimum scores and participation is an object which needs to be changed to a float so we can perform math operations on it and so is composite.\n",
    "\n",
    "Next steps will be to locate the error(s) within science and fix that along with the participation and composite columns.\n",
    "\n",
    "Additionally we will use the naming convention mentioned previously to make it easier to reference columns"
   ]
  },
  {
   "cell_type": "code",
   "execution_count": 9,
   "metadata": {},
   "outputs": [
    {
     "data": {
      "text/html": [
       "<div>\n",
       "<style scoped>\n",
       "    .dataframe tbody tr th:only-of-type {\n",
       "        vertical-align: middle;\n",
       "    }\n",
       "\n",
       "    .dataframe tbody tr th {\n",
       "        vertical-align: top;\n",
       "    }\n",
       "\n",
       "    .dataframe thead th {\n",
       "        text-align: right;\n",
       "    }\n",
       "</style>\n",
       "<table border=\"1\" class=\"dataframe\">\n",
       "  <thead>\n",
       "    <tr style=\"text-align: right;\">\n",
       "      <th></th>\n",
       "      <th>State</th>\n",
       "      <th>Participation</th>\n",
       "      <th>English</th>\n",
       "      <th>Math</th>\n",
       "      <th>Reading</th>\n",
       "      <th>Science</th>\n",
       "      <th>Composite</th>\n",
       "    </tr>\n",
       "  </thead>\n",
       "  <tbody>\n",
       "    <tr>\n",
       "      <th>21</th>\n",
       "      <td>Maryland</td>\n",
       "      <td>28%</td>\n",
       "      <td>23.3</td>\n",
       "      <td>23.1</td>\n",
       "      <td>24.2</td>\n",
       "      <td>2.3</td>\n",
       "      <td>23.6</td>\n",
       "    </tr>\n",
       "    <tr>\n",
       "      <th>29</th>\n",
       "      <td>Nevada</td>\n",
       "      <td>100%</td>\n",
       "      <td>16.3</td>\n",
       "      <td>18.0</td>\n",
       "      <td>18.1</td>\n",
       "      <td>18.2</td>\n",
       "      <td>17.8</td>\n",
       "    </tr>\n",
       "    <tr>\n",
       "      <th>25</th>\n",
       "      <td>Mississippi</td>\n",
       "      <td>100%</td>\n",
       "      <td>18.2</td>\n",
       "      <td>18.1</td>\n",
       "      <td>18.8</td>\n",
       "      <td>18.8</td>\n",
       "      <td>18.6</td>\n",
       "    </tr>\n",
       "  </tbody>\n",
       "</table>\n",
       "</div>"
      ],
      "text/plain": [
       "          State Participation  English  Math  Reading  Science Composite\n",
       "21     Maryland           28%     23.3  23.1     24.2      2.3      23.6\n",
       "29       Nevada          100%     16.3  18.0     18.1     18.2      17.8\n",
       "25  Mississippi          100%     18.2  18.1     18.8     18.8      18.6"
      ]
     },
     "execution_count": 9,
     "metadata": {},
     "output_type": "execute_result"
    }
   ],
   "source": [
    "act_17.sort_values(by = 'Science').head(3)"
   ]
  },
  {
   "cell_type": "markdown",
   "metadata": {},
   "source": [
    "We can see that it appears as though only Maryland has the wrong number for science, and checking the source file we can see that Maryland's science score should be 23.2"
   ]
  },
  {
   "cell_type": "code",
   "execution_count": 10,
   "metadata": {},
   "outputs": [],
   "source": [
    "# create a Maryland boolean filter using 2 letter state code (will use as standard throughout analysis)\n",
    "md_sort_act_17 = act_17['State'] == 'Maryland'\n",
    "# Assign Maryland the correct math score of 524\n",
    "act_17.loc[md_sort_act_17,'Science'] = 23.2"
   ]
  },
  {
   "cell_type": "code",
   "execution_count": 11,
   "metadata": {},
   "outputs": [],
   "source": [
    "# Fix data type of participation\n",
    "# Code taken with minor modifications from\n",
    "# https://stackoverflow.com/questions/50686004/change-column-with-string-of-percent-to-float-pandas-dataframe\n",
    "act_17['Participation'] = act_17['Participation'].str.replace(r'%', r'.0').astype('float');"
   ]
  },
  {
   "cell_type": "markdown",
   "metadata": {},
   "source": [
    "In attempting to convert the 'Composite' column to numeric an error occurred and it became apparent that one of 'cells' has an x at the end. We will fix that and then standardize the column names"
   ]
  },
  {
   "cell_type": "code",
   "execution_count": 12,
   "metadata": {},
   "outputs": [],
   "source": [
    "# Fix composite \n",
    "act_17['Composite'] = act_17['Composite'].str.replace(r'x', r'').astype('float');"
   ]
  },
  {
   "cell_type": "code",
   "execution_count": 13,
   "metadata": {},
   "outputs": [],
   "source": [
    "# initialize dictionary of new names for the dataset\n",
    "act_17_names = {'State':'state',\n",
    "                'Participation':'act_part_17',\n",
    "                'English':'act_engl_17',\n",
    "                'Math':'act_math_17',\n",
    "                'Reading':'act_read_17',\n",
    "                'Science':'act_sci_17',\n",
    "                'Composite':'act_comp_17'}\n",
    "act_17.rename(columns=act_17_names, inplace=True)"
   ]
  },
  {
   "cell_type": "markdown",
   "metadata": {},
   "source": [
    "###### SAT 2018"
   ]
  },
  {
   "cell_type": "code",
   "execution_count": 14,
   "metadata": {},
   "outputs": [
    {
     "data": {
      "text/html": [
       "<div>\n",
       "<style scoped>\n",
       "    .dataframe tbody tr th:only-of-type {\n",
       "        vertical-align: middle;\n",
       "    }\n",
       "\n",
       "    .dataframe tbody tr th {\n",
       "        vertical-align: top;\n",
       "    }\n",
       "\n",
       "    .dataframe thead th {\n",
       "        text-align: right;\n",
       "    }\n",
       "</style>\n",
       "<table border=\"1\" class=\"dataframe\">\n",
       "  <thead>\n",
       "    <tr style=\"text-align: right;\">\n",
       "      <th></th>\n",
       "      <th>State</th>\n",
       "      <th>Participation</th>\n",
       "      <th>Evidence-Based Reading and Writing</th>\n",
       "      <th>Math</th>\n",
       "      <th>Total</th>\n",
       "    </tr>\n",
       "  </thead>\n",
       "  <tbody>\n",
       "    <tr>\n",
       "      <th>0</th>\n",
       "      <td>Alabama</td>\n",
       "      <td>6%</td>\n",
       "      <td>595</td>\n",
       "      <td>571</td>\n",
       "      <td>1166</td>\n",
       "    </tr>\n",
       "    <tr>\n",
       "      <th>1</th>\n",
       "      <td>Alaska</td>\n",
       "      <td>43%</td>\n",
       "      <td>562</td>\n",
       "      <td>544</td>\n",
       "      <td>1106</td>\n",
       "    </tr>\n",
       "    <tr>\n",
       "      <th>2</th>\n",
       "      <td>Arizona</td>\n",
       "      <td>29%</td>\n",
       "      <td>577</td>\n",
       "      <td>572</td>\n",
       "      <td>1149</td>\n",
       "    </tr>\n",
       "  </tbody>\n",
       "</table>\n",
       "</div>"
      ],
      "text/plain": [
       "     State Participation  Evidence-Based Reading and Writing  Math  Total\n",
       "0  Alabama            6%                                 595   571   1166\n",
       "1   Alaska           43%                                 562   544   1106\n",
       "2  Arizona           29%                                 577   572   1149"
      ]
     },
     "metadata": {},
     "output_type": "display_data"
    },
    {
     "name": "stdout",
     "output_type": "stream",
     "text": [
      "<class 'pandas.core.frame.DataFrame'>\n",
      "RangeIndex: 51 entries, 0 to 50\n",
      "Data columns (total 5 columns):\n",
      "State                                 51 non-null object\n",
      "Participation                         51 non-null object\n",
      "Evidence-Based Reading and Writing    51 non-null int64\n",
      "Math                                  51 non-null int64\n",
      "Total                                 51 non-null int64\n",
      "dtypes: int64(3), object(2)\n",
      "memory usage: 2.1+ KB\n"
     ]
    },
    {
     "data": {
      "text/plain": [
       "None"
      ]
     },
     "metadata": {},
     "output_type": "display_data"
    },
    {
     "data": {
      "text/html": [
       "<div>\n",
       "<style scoped>\n",
       "    .dataframe tbody tr th:only-of-type {\n",
       "        vertical-align: middle;\n",
       "    }\n",
       "\n",
       "    .dataframe tbody tr th {\n",
       "        vertical-align: top;\n",
       "    }\n",
       "\n",
       "    .dataframe thead th {\n",
       "        text-align: right;\n",
       "    }\n",
       "</style>\n",
       "<table border=\"1\" class=\"dataframe\">\n",
       "  <thead>\n",
       "    <tr style=\"text-align: right;\">\n",
       "      <th></th>\n",
       "      <th>Evidence-Based Reading and Writing</th>\n",
       "      <th>Math</th>\n",
       "      <th>Total</th>\n",
       "    </tr>\n",
       "  </thead>\n",
       "  <tbody>\n",
       "    <tr>\n",
       "      <th>count</th>\n",
       "      <td>51.000000</td>\n",
       "      <td>51.000000</td>\n",
       "      <td>51.000000</td>\n",
       "    </tr>\n",
       "    <tr>\n",
       "      <th>mean</th>\n",
       "      <td>563.686275</td>\n",
       "      <td>556.235294</td>\n",
       "      <td>1120.019608</td>\n",
       "    </tr>\n",
       "    <tr>\n",
       "      <th>std</th>\n",
       "      <td>47.502627</td>\n",
       "      <td>47.772623</td>\n",
       "      <td>94.155083</td>\n",
       "    </tr>\n",
       "    <tr>\n",
       "      <th>min</th>\n",
       "      <td>480.000000</td>\n",
       "      <td>480.000000</td>\n",
       "      <td>977.000000</td>\n",
       "    </tr>\n",
       "    <tr>\n",
       "      <th>25%</th>\n",
       "      <td>534.500000</td>\n",
       "      <td>522.500000</td>\n",
       "      <td>1057.500000</td>\n",
       "    </tr>\n",
       "    <tr>\n",
       "      <th>50%</th>\n",
       "      <td>552.000000</td>\n",
       "      <td>544.000000</td>\n",
       "      <td>1098.000000</td>\n",
       "    </tr>\n",
       "    <tr>\n",
       "      <th>75%</th>\n",
       "      <td>610.500000</td>\n",
       "      <td>593.500000</td>\n",
       "      <td>1204.000000</td>\n",
       "    </tr>\n",
       "    <tr>\n",
       "      <th>max</th>\n",
       "      <td>643.000000</td>\n",
       "      <td>655.000000</td>\n",
       "      <td>1298.000000</td>\n",
       "    </tr>\n",
       "  </tbody>\n",
       "</table>\n",
       "</div>"
      ],
      "text/plain": [
       "       Evidence-Based Reading and Writing        Math        Total\n",
       "count                           51.000000   51.000000    51.000000\n",
       "mean                           563.686275  556.235294  1120.019608\n",
       "std                             47.502627   47.772623    94.155083\n",
       "min                            480.000000  480.000000   977.000000\n",
       "25%                            534.500000  522.500000  1057.500000\n",
       "50%                            552.000000  544.000000  1098.000000\n",
       "75%                            610.500000  593.500000  1204.000000\n",
       "max                            643.000000  655.000000  1298.000000"
      ]
     },
     "metadata": {},
     "output_type": "display_data"
    }
   ],
   "source": [
    "display(sat_18.head(3))\n",
    "display(sat_18.info())\n",
    "display(sat_18.describe())"
   ]
  },
  {
   "cell_type": "markdown",
   "metadata": {},
   "source": [
    "The 2018 SAT dataset does not have obvious outliers and we will only need to convert Participation to a float and fix the column names as we did with the previous SAT dataset"
   ]
  },
  {
   "cell_type": "code",
   "execution_count": 15,
   "metadata": {},
   "outputs": [],
   "source": [
    "# Fix data type of participation\n",
    "# Code taken with minor modifications from\n",
    "# https://stackoverflow.com/questions/50686004/change-column-with-string-of-percent-to-float-pandas-dataframe\n",
    "sat_18['Participation'] = sat_18['Participation'].str.replace(r'%', r'.0').astype('float')"
   ]
  },
  {
   "cell_type": "code",
   "execution_count": 16,
   "metadata": {},
   "outputs": [],
   "source": [
    "# initialize dictionary of new names for the dataset\n",
    "sat_18_names = {'State':'state',\n",
    "                'Participation':'sat_part_18',\n",
    "                'Evidence-Based Reading and Writing':'sat_ebrw_18',\n",
    "                'Math':'sat_math_18',\n",
    "                'Total':'sat_total_18'}\n",
    "sat_18.rename(columns=sat_18_names, inplace=True)"
   ]
  },
  {
   "cell_type": "markdown",
   "metadata": {},
   "source": [
    "###### ACT 2018"
   ]
  },
  {
   "cell_type": "code",
   "execution_count": 17,
   "metadata": {},
   "outputs": [
    {
     "data": {
      "text/html": [
       "<div>\n",
       "<style scoped>\n",
       "    .dataframe tbody tr th:only-of-type {\n",
       "        vertical-align: middle;\n",
       "    }\n",
       "\n",
       "    .dataframe tbody tr th {\n",
       "        vertical-align: top;\n",
       "    }\n",
       "\n",
       "    .dataframe thead th {\n",
       "        text-align: right;\n",
       "    }\n",
       "</style>\n",
       "<table border=\"1\" class=\"dataframe\">\n",
       "  <thead>\n",
       "    <tr style=\"text-align: right;\">\n",
       "      <th></th>\n",
       "      <th>State</th>\n",
       "      <th>Participation</th>\n",
       "      <th>Composite</th>\n",
       "    </tr>\n",
       "  </thead>\n",
       "  <tbody>\n",
       "    <tr>\n",
       "      <th>0</th>\n",
       "      <td>Alabama</td>\n",
       "      <td>100%</td>\n",
       "      <td>19.1</td>\n",
       "    </tr>\n",
       "    <tr>\n",
       "      <th>1</th>\n",
       "      <td>Alaska</td>\n",
       "      <td>33%</td>\n",
       "      <td>20.8</td>\n",
       "    </tr>\n",
       "    <tr>\n",
       "      <th>2</th>\n",
       "      <td>Arizona</td>\n",
       "      <td>66%</td>\n",
       "      <td>19.2</td>\n",
       "    </tr>\n",
       "  </tbody>\n",
       "</table>\n",
       "</div>"
      ],
      "text/plain": [
       "     State Participation  Composite\n",
       "0  Alabama          100%       19.1\n",
       "1   Alaska           33%       20.8\n",
       "2  Arizona           66%       19.2"
      ]
     },
     "metadata": {},
     "output_type": "display_data"
    },
    {
     "name": "stdout",
     "output_type": "stream",
     "text": [
      "<class 'pandas.core.frame.DataFrame'>\n",
      "RangeIndex: 52 entries, 0 to 51\n",
      "Data columns (total 3 columns):\n",
      "State            52 non-null object\n",
      "Participation    52 non-null object\n",
      "Composite        52 non-null float64\n",
      "dtypes: float64(1), object(2)\n",
      "memory usage: 1.3+ KB\n"
     ]
    },
    {
     "data": {
      "text/plain": [
       "None"
      ]
     },
     "metadata": {},
     "output_type": "display_data"
    },
    {
     "data": {
      "text/html": [
       "<div>\n",
       "<style scoped>\n",
       "    .dataframe tbody tr th:only-of-type {\n",
       "        vertical-align: middle;\n",
       "    }\n",
       "\n",
       "    .dataframe tbody tr th {\n",
       "        vertical-align: top;\n",
       "    }\n",
       "\n",
       "    .dataframe thead th {\n",
       "        text-align: right;\n",
       "    }\n",
       "</style>\n",
       "<table border=\"1\" class=\"dataframe\">\n",
       "  <thead>\n",
       "    <tr style=\"text-align: right;\">\n",
       "      <th></th>\n",
       "      <th>Composite</th>\n",
       "    </tr>\n",
       "  </thead>\n",
       "  <tbody>\n",
       "    <tr>\n",
       "      <th>count</th>\n",
       "      <td>52.000000</td>\n",
       "    </tr>\n",
       "    <tr>\n",
       "      <th>mean</th>\n",
       "      <td>21.544231</td>\n",
       "    </tr>\n",
       "    <tr>\n",
       "      <th>std</th>\n",
       "      <td>2.119417</td>\n",
       "    </tr>\n",
       "    <tr>\n",
       "      <th>min</th>\n",
       "      <td>17.700000</td>\n",
       "    </tr>\n",
       "    <tr>\n",
       "      <th>25%</th>\n",
       "      <td>19.975000</td>\n",
       "    </tr>\n",
       "    <tr>\n",
       "      <th>50%</th>\n",
       "      <td>21.300000</td>\n",
       "    </tr>\n",
       "    <tr>\n",
       "      <th>75%</th>\n",
       "      <td>23.725000</td>\n",
       "    </tr>\n",
       "    <tr>\n",
       "      <th>max</th>\n",
       "      <td>25.600000</td>\n",
       "    </tr>\n",
       "  </tbody>\n",
       "</table>\n",
       "</div>"
      ],
      "text/plain": [
       "       Composite\n",
       "count  52.000000\n",
       "mean   21.544231\n",
       "std     2.119417\n",
       "min    17.700000\n",
       "25%    19.975000\n",
       "50%    21.300000\n",
       "75%    23.725000\n",
       "max    25.600000"
      ]
     },
     "metadata": {},
     "output_type": "display_data"
    }
   ],
   "source": [
    "display(act_18.head(3))\n",
    "display(act_18.info())\n",
    "display(act_18.describe())"
   ]
  },
  {
   "cell_type": "markdown",
   "metadata": {},
   "source": [
    "We can see that for the 2018 ACT data we only have a composite score and not the individual components, this is not a problem as we are doing a fairly high level analysis and getting into sub categories is not as pertinent.\n",
    "\n",
    "We do need to fix the participation column once again and change the column names"
   ]
  },
  {
   "cell_type": "code",
   "execution_count": 18,
   "metadata": {},
   "outputs": [],
   "source": [
    "# Fix data type of participation\n",
    "# Code taken with minor modifications from\n",
    "# https://stackoverflow.com/questions/50686004/change-column-with-string-of-percent-to-float-pandas-dataframe\n",
    "act_18['Participation'] = act_18['Participation'].str.replace(r'%', r'.0').astype('float');"
   ]
  },
  {
   "cell_type": "code",
   "execution_count": 19,
   "metadata": {},
   "outputs": [],
   "source": [
    "# initialize dictionary of new names for the dataset\n",
    "act_18_names = {'State':'state',\n",
    "                'Participation':'act_part_18',\n",
    "                'Composite':'act_comp_18'}\n",
    "act_18.rename(columns=act_18_names, inplace=True)"
   ]
  },
  {
   "cell_type": "markdown",
   "metadata": {},
   "source": [
    "###### Preparing for Merger & Merging"
   ]
  },
  {
   "cell_type": "markdown",
   "metadata": {},
   "source": [
    "We are planning to merge the dataframes on the 'state' column so we must ensure that there are no duplicates in any of the 'state' columns and make all the names lowercase to ensure we don't run into issues with missing or false capitalization"
   ]
  },
  {
   "cell_type": "code",
   "execution_count": 20,
   "metadata": {},
   "outputs": [],
   "source": [
    "# lower case all state columns\n",
    "sat_17['state'] = sat_17['state'].str.lower()\n",
    "sat_18['state'] = sat_18['state'].str.lower()\n",
    "act_17['state'] = act_17['state'].str.lower()\n",
    "act_18['state'] = act_18['state'].str.lower()"
   ]
  },
  {
   "cell_type": "code",
   "execution_count": 21,
   "metadata": {},
   "outputs": [
    {
     "data": {
      "text/html": [
       "<div>\n",
       "<style scoped>\n",
       "    .dataframe tbody tr th:only-of-type {\n",
       "        vertical-align: middle;\n",
       "    }\n",
       "\n",
       "    .dataframe tbody tr th {\n",
       "        vertical-align: top;\n",
       "    }\n",
       "\n",
       "    .dataframe thead th {\n",
       "        text-align: right;\n",
       "    }\n",
       "</style>\n",
       "<table border=\"1\" class=\"dataframe\">\n",
       "  <thead>\n",
       "    <tr style=\"text-align: right;\">\n",
       "      <th></th>\n",
       "      <th>state</th>\n",
       "      <th>sat_part_17</th>\n",
       "      <th>sat_ebrw_17</th>\n",
       "      <th>sat_math_17</th>\n",
       "      <th>sat_total_17</th>\n",
       "    </tr>\n",
       "  </thead>\n",
       "  <tbody>\n",
       "  </tbody>\n",
       "</table>\n",
       "</div>"
      ],
      "text/plain": [
       "Empty DataFrame\n",
       "Columns: [state, sat_part_17, sat_ebrw_17, sat_math_17, sat_total_17]\n",
       "Index: []"
      ]
     },
     "metadata": {},
     "output_type": "display_data"
    },
    {
     "data": {
      "text/html": [
       "<div>\n",
       "<style scoped>\n",
       "    .dataframe tbody tr th:only-of-type {\n",
       "        vertical-align: middle;\n",
       "    }\n",
       "\n",
       "    .dataframe tbody tr th {\n",
       "        vertical-align: top;\n",
       "    }\n",
       "\n",
       "    .dataframe thead th {\n",
       "        text-align: right;\n",
       "    }\n",
       "</style>\n",
       "<table border=\"1\" class=\"dataframe\">\n",
       "  <thead>\n",
       "    <tr style=\"text-align: right;\">\n",
       "      <th></th>\n",
       "      <th>state</th>\n",
       "      <th>sat_part_18</th>\n",
       "      <th>sat_ebrw_18</th>\n",
       "      <th>sat_math_18</th>\n",
       "      <th>sat_total_18</th>\n",
       "    </tr>\n",
       "  </thead>\n",
       "  <tbody>\n",
       "  </tbody>\n",
       "</table>\n",
       "</div>"
      ],
      "text/plain": [
       "Empty DataFrame\n",
       "Columns: [state, sat_part_18, sat_ebrw_18, sat_math_18, sat_total_18]\n",
       "Index: []"
      ]
     },
     "metadata": {},
     "output_type": "display_data"
    },
    {
     "data": {
      "text/html": [
       "<div>\n",
       "<style scoped>\n",
       "    .dataframe tbody tr th:only-of-type {\n",
       "        vertical-align: middle;\n",
       "    }\n",
       "\n",
       "    .dataframe tbody tr th {\n",
       "        vertical-align: top;\n",
       "    }\n",
       "\n",
       "    .dataframe thead th {\n",
       "        text-align: right;\n",
       "    }\n",
       "</style>\n",
       "<table border=\"1\" class=\"dataframe\">\n",
       "  <thead>\n",
       "    <tr style=\"text-align: right;\">\n",
       "      <th></th>\n",
       "      <th>state</th>\n",
       "      <th>act_part_17</th>\n",
       "      <th>act_engl_17</th>\n",
       "      <th>act_math_17</th>\n",
       "      <th>act_read_17</th>\n",
       "      <th>act_sci_17</th>\n",
       "      <th>act_comp_17</th>\n",
       "    </tr>\n",
       "  </thead>\n",
       "  <tbody>\n",
       "  </tbody>\n",
       "</table>\n",
       "</div>"
      ],
      "text/plain": [
       "Empty DataFrame\n",
       "Columns: [state, act_part_17, act_engl_17, act_math_17, act_read_17, act_sci_17, act_comp_17]\n",
       "Index: []"
      ]
     },
     "metadata": {},
     "output_type": "display_data"
    },
    {
     "data": {
      "text/html": [
       "<div>\n",
       "<style scoped>\n",
       "    .dataframe tbody tr th:only-of-type {\n",
       "        vertical-align: middle;\n",
       "    }\n",
       "\n",
       "    .dataframe tbody tr th {\n",
       "        vertical-align: top;\n",
       "    }\n",
       "\n",
       "    .dataframe thead th {\n",
       "        text-align: right;\n",
       "    }\n",
       "</style>\n",
       "<table border=\"1\" class=\"dataframe\">\n",
       "  <thead>\n",
       "    <tr style=\"text-align: right;\">\n",
       "      <th></th>\n",
       "      <th>state</th>\n",
       "      <th>act_part_18</th>\n",
       "      <th>act_comp_18</th>\n",
       "    </tr>\n",
       "  </thead>\n",
       "  <tbody>\n",
       "    <tr>\n",
       "      <th>19</th>\n",
       "      <td>maine</td>\n",
       "      <td>7.0</td>\n",
       "      <td>24.0</td>\n",
       "    </tr>\n",
       "    <tr>\n",
       "      <th>20</th>\n",
       "      <td>maine</td>\n",
       "      <td>7.0</td>\n",
       "      <td>24.0</td>\n",
       "    </tr>\n",
       "  </tbody>\n",
       "</table>\n",
       "</div>"
      ],
      "text/plain": [
       "    state  act_part_18  act_comp_18\n",
       "19  maine          7.0         24.0\n",
       "20  maine          7.0         24.0"
      ]
     },
     "metadata": {},
     "output_type": "display_data"
    }
   ],
   "source": [
    "# check for duplicates\n",
    "display(sat_17[sat_17.duplicated('state',False)])\n",
    "display(sat_18[sat_18.duplicated('state',False)])\n",
    "display(act_17[act_17.duplicated('state',False)])\n",
    "display(act_18[act_18.duplicated('state',False)])"
   ]
  },
  {
   "cell_type": "markdown",
   "metadata": {},
   "source": [
    "We can see that the act_18 dataframe has maine duplicated, lets delete the second maine and then start merging"
   ]
  },
  {
   "cell_type": "code",
   "execution_count": 22,
   "metadata": {},
   "outputs": [],
   "source": [
    "act_18.drop_duplicates('state', inplace=True)"
   ]
  },
  {
   "cell_type": "code",
   "execution_count": 23,
   "metadata": {},
   "outputs": [],
   "source": [
    "# combine act datasets\n",
    "act_combined = pd.merge(act_17,act_18, on = 'state')\n",
    "# combine sat datasets\n",
    "sat_combined = pd.merge(sat_17,sat_18, on = 'state')"
   ]
  },
  {
   "cell_type": "markdown",
   "metadata": {},
   "source": [
    "Both ACT and SAT dataframs appear to have merged well and have 0 nulls and 51 total rows, so lets merge them together and look at the results"
   ]
  },
  {
   "cell_type": "code",
   "execution_count": 24,
   "metadata": {},
   "outputs": [],
   "source": [
    "test_data = pd.merge(act_combined,sat_combined, on = 'state')"
   ]
  },
  {
   "cell_type": "markdown",
   "metadata": {},
   "source": [
    "Additional test were run to look for null values and looking at the states. There are no null values and all values were included from the 4 original dataframes for the 50 states & DC, national was automatically removed from act_17 when merging. The dataframe is now ready to be analyzed.\n",
    "\n",
    "Tests were removed for readability"
   ]
  },
  {
   "cell_type": "markdown",
   "metadata": {},
   "source": [
    "##### Note: Florida\n",
    "\n",
    "In exploratory data analysis I noted that Florida had a huge drop in SAT participation in 2018, I looked into this and the initial dataset did not match the information from the CollegeBoard, both for Florida's participation and their 2018 SAT scores. I did a spot check on a couple of other states and they seemed to be correct so I inferred that Florida was likely the only mistake, and fixed it below so that the analysis could be run with correct data.\n",
    "\n",
    "The correct data I pulled from the [SAT State Report for Florida 2018](https://reports.collegeboard.org/pdf/2018-florida-sat-suite-assessments-annual-report.pdf)"
   ]
  },
  {
   "cell_type": "code",
   "execution_count": 25,
   "metadata": {},
   "outputs": [
    {
     "data": {
      "text/html": [
       "<div>\n",
       "<style scoped>\n",
       "    .dataframe tbody tr th:only-of-type {\n",
       "        vertical-align: middle;\n",
       "    }\n",
       "\n",
       "    .dataframe tbody tr th {\n",
       "        vertical-align: top;\n",
       "    }\n",
       "\n",
       "    .dataframe thead th {\n",
       "        text-align: right;\n",
       "    }\n",
       "</style>\n",
       "<table border=\"1\" class=\"dataframe\">\n",
       "  <thead>\n",
       "    <tr style=\"text-align: right;\">\n",
       "      <th></th>\n",
       "      <th>sat_part_18</th>\n",
       "      <th>sat_math_18</th>\n",
       "      <th>sat_ebrw_18</th>\n",
       "      <th>sat_total_18</th>\n",
       "    </tr>\n",
       "  </thead>\n",
       "  <tbody>\n",
       "    <tr>\n",
       "      <th>9</th>\n",
       "      <td>97.0</td>\n",
       "      <td>493</td>\n",
       "      <td>522</td>\n",
       "      <td>1014</td>\n",
       "    </tr>\n",
       "  </tbody>\n",
       "</table>\n",
       "</div>"
      ],
      "text/plain": [
       "   sat_part_18  sat_math_18  sat_ebrw_18  sat_total_18\n",
       "9         97.0          493          522          1014"
      ]
     },
     "execution_count": 25,
     "metadata": {},
     "output_type": "execute_result"
    }
   ],
   "source": [
    "# correct information in list [participation, math, ebrw, total]\n",
    "fl_18_correct = [97,493,522,1014]\n",
    "# filter for Florida\n",
    "fl_filt = test_data['state'] == 'florida'\n",
    "# name of columns to be fixed in a list\n",
    "fl_columns = ['sat_part_18','sat_math_18','sat_ebrw_18','sat_total_18']\n",
    "# loop too add correct values\n",
    "for i in range(0,len(fl_columns)):\n",
    "    test_data.loc[fl_filt,fl_columns[i]] = fl_18_correct[i]\n",
    "    \n",
    "# Check that fix worked\n",
    "test_data[fl_filt][fl_columns]"
   ]
  },
  {
   "cell_type": "markdown",
   "metadata": {},
   "source": [
    "**Note: Utah**\n",
    "\n",
    "In exploring scatter plots I noted 2 states with huge drops in average SAT score from 2017 to 2018, while one state's (Colorado's) drop made sense given my other findings, the other (Utah) did not and I double checked their 2018 SAT data and corrected it.\n",
    "\n",
    "The correct data is pulled from: [SAT State Report for Utah 2018](https://reports.collegeboard.org/pdf/2018-utah-sat-suite-assessments-annual-report.pdf)"
   ]
  },
  {
   "cell_type": "code",
   "execution_count": 26,
   "metadata": {},
   "outputs": [
    {
     "data": {
      "text/html": [
       "<div>\n",
       "<style scoped>\n",
       "    .dataframe tbody tr th:only-of-type {\n",
       "        vertical-align: middle;\n",
       "    }\n",
       "\n",
       "    .dataframe tbody tr th {\n",
       "        vertical-align: top;\n",
       "    }\n",
       "\n",
       "    .dataframe thead th {\n",
       "        text-align: right;\n",
       "    }\n",
       "</style>\n",
       "<table border=\"1\" class=\"dataframe\">\n",
       "  <thead>\n",
       "    <tr style=\"text-align: right;\">\n",
       "      <th></th>\n",
       "      <th>sat_math_18</th>\n",
       "      <th>sat_ebrw_18</th>\n",
       "      <th>sat_total_18</th>\n",
       "    </tr>\n",
       "  </thead>\n",
       "  <tbody>\n",
       "    <tr>\n",
       "      <th>44</th>\n",
       "      <td>612</td>\n",
       "      <td>618</td>\n",
       "      <td>1230</td>\n",
       "    </tr>\n",
       "  </tbody>\n",
       "</table>\n",
       "</div>"
      ],
      "text/plain": [
       "    sat_math_18  sat_ebrw_18  sat_total_18\n",
       "44          612          618          1230"
      ]
     },
     "execution_count": 26,
     "metadata": {},
     "output_type": "execute_result"
    }
   ],
   "source": [
    "# correct information in list [math, ebrw, total]\n",
    "ut_18_correct = [612,618,1230]\n",
    "# filter for utah\n",
    "ut_filt = test_data['state'] == 'utah'\n",
    "# name of columns to be fixed in a list\n",
    "ut_columns = ['sat_math_18','sat_ebrw_18','sat_total_18']\n",
    "# loop too add correct values\n",
    "for i in range(0,len(ut_columns)):\n",
    "    test_data.loc[ut_filt,ut_columns[i]] = ut_18_correct[i]\n",
    "    \n",
    "# Check that fix worked\n",
    "test_data[ut_filt][ut_columns]"
   ]
  },
  {
   "cell_type": "markdown",
   "metadata": {},
   "source": [
    "###### Additional Information of Interest\n",
    "\n",
    "In addition to the given data, there are a couple values we want to calculate to improve the analysis:\n",
    "change in SAT participation, change in ACT participation, combined change in SAT and ACT participation, SAT part > ACT part by year"
   ]
  },
  {
   "cell_type": "code",
   "execution_count": 27,
   "metadata": {},
   "outputs": [],
   "source": [
    "# Increase in SAT participation\n",
    "test_data['sat_part_inc'] = test_data['sat_part_18'] - test_data['sat_part_17']\n",
    "# Increase in ACT participation\n",
    "test_data['act_part_inc'] = test_data['act_part_18'] - test_data['act_part_17']\n",
    "# Increase in combined SAT + ACT participation\n",
    "test_data['part_inc'] = test_data['sat_part_inc'] + test_data['act_part_inc']\n",
    "# Boolean for if SAT is more popular in 2017\n",
    "# Thanks wmatt\n",
    "# https://stackoverflow.com/questions/47741920/python-pandas-assign-where-to-compute-boolean-column\n",
    "test_data['sat_dom_17'] = test_data['sat_part_17'] > test_data['act_part_17']\n",
    "# Boolean for if SAT is more popular in 2018\n",
    "test_data['sat_dom_18'] = test_data['sat_part_18'] > test_data['act_part_18']"
   ]
  },
  {
   "cell_type": "markdown",
   "metadata": {},
   "source": [
    "## Data Dictionary\n"
   ]
  },
  {
   "cell_type": "markdown",
   "metadata": {},
   "source": [
    "The data library for the cleaned and merged dataset is as follows:\n",
    "\n",
    "|Feature|Type|Dataset|Description|\n",
    "|:---|:---:|:---:|---:|\n",
    "|**state**|*object*|ACT/SAT|State name|\n",
    "|**'test'_part_'year'**|*float*|ACT/SAT|Participation percentage for students in a given state, test & year (0 - 100)|\n",
    "|**sat_ebrw_'year'**|*int*|SAT|Average Evidence Based Reading & Writing score for students in a given state and year (200 - 800)|\n",
    "|**sat_math_'year'**|*int*|SAT|Average Math score for students in a given state and year (200 - 800)|\n",
    "|**sat_total_'year'**|*int*|SAT|Average combined EBRW & Math score for students in a given state and year (400 - 1600)|\n",
    "|**act_math_17**|*float*|ACT|Average Math score for students in a given state and year (1 - 36)|\n",
    "|**act_engl_17**|*float*|ACT|Average English score for students in a given state and year (1 - 36)|\n",
    "|**act_sci_17**|*float*|ACT|Average Science score for students in a given state and year (1 - 36)|\n",
    "|**act_read_17**|*float*|ACT|Average Reading score for students in a given state and year (1 - 36)|\n",
    "|**act_comp_'year'**|*float*|ACT|Average overal ACT score for a given state and year (1 - 36)|\n",
    "|**'test'_part_inc**|*float*|ACT/SAT|Increase in participation percentage for students in a given state & test from 2017 to 2018 (-100 - 100)|\n",
    "|**part_inc**|*float*|ACT/SAT|Increase in participation percentage for students in a given state for the SAT & ACT combined from 2017 to 2018 (-200 - 200)|\n",
    "|**sat_dom_'year'**|*bool*|SAT/ACT|Whether or not the percentage of students taking the SAT was great than that of students taking the ACT in a given year & state|\n",
    "\n",
    "**note**: feature names enclosed in ' ' denote several variables of the same type which are further demarcated as follows:\n",
    "\n",
    "**'test'**: 'sat' if feature refers to the SAT and 'act' for the ACT\n",
    "\n",
    "**'year'**: '17' if refers to 2017 and '18' if 2018"
   ]
  },
  {
   "cell_type": "markdown",
   "metadata": {},
   "source": [
    "## Exploratory Data Analysis\n",
    "\n",
    "\n",
    "###### Summary Statistics"
   ]
  },
  {
   "cell_type": "code",
   "execution_count": 28,
   "metadata": {},
   "outputs": [
    {
     "data": {
      "text/html": [
       "<div>\n",
       "<style scoped>\n",
       "    .dataframe tbody tr th:only-of-type {\n",
       "        vertical-align: middle;\n",
       "    }\n",
       "\n",
       "    .dataframe tbody tr th {\n",
       "        vertical-align: top;\n",
       "    }\n",
       "\n",
       "    .dataframe thead th {\n",
       "        text-align: right;\n",
       "    }\n",
       "</style>\n",
       "<table border=\"1\" class=\"dataframe\">\n",
       "  <thead>\n",
       "    <tr style=\"text-align: right;\">\n",
       "      <th></th>\n",
       "      <th>count</th>\n",
       "      <th>mean</th>\n",
       "      <th>std</th>\n",
       "      <th>min</th>\n",
       "      <th>25%</th>\n",
       "      <th>50%</th>\n",
       "      <th>75%</th>\n",
       "      <th>max</th>\n",
       "    </tr>\n",
       "  </thead>\n",
       "  <tbody>\n",
       "    <tr>\n",
       "      <th>act_part_17</th>\n",
       "      <td>51.0</td>\n",
       "      <td>65.254902</td>\n",
       "      <td>32.140842</td>\n",
       "      <td>8.0</td>\n",
       "      <td>31.00</td>\n",
       "      <td>69.0</td>\n",
       "      <td>100.00</td>\n",
       "      <td>100.0</td>\n",
       "    </tr>\n",
       "    <tr>\n",
       "      <th>act_engl_17</th>\n",
       "      <td>51.0</td>\n",
       "      <td>20.931373</td>\n",
       "      <td>2.353677</td>\n",
       "      <td>16.3</td>\n",
       "      <td>19.00</td>\n",
       "      <td>20.7</td>\n",
       "      <td>23.30</td>\n",
       "      <td>25.5</td>\n",
       "    </tr>\n",
       "    <tr>\n",
       "      <th>act_math_17</th>\n",
       "      <td>51.0</td>\n",
       "      <td>21.182353</td>\n",
       "      <td>1.981989</td>\n",
       "      <td>18.0</td>\n",
       "      <td>19.40</td>\n",
       "      <td>20.9</td>\n",
       "      <td>23.10</td>\n",
       "      <td>25.3</td>\n",
       "    </tr>\n",
       "    <tr>\n",
       "      <th>act_read_17</th>\n",
       "      <td>51.0</td>\n",
       "      <td>22.013725</td>\n",
       "      <td>2.067271</td>\n",
       "      <td>18.1</td>\n",
       "      <td>20.45</td>\n",
       "      <td>21.8</td>\n",
       "      <td>24.15</td>\n",
       "      <td>26.0</td>\n",
       "    </tr>\n",
       "    <tr>\n",
       "      <th>act_sci_17</th>\n",
       "      <td>51.0</td>\n",
       "      <td>21.450980</td>\n",
       "      <td>1.739353</td>\n",
       "      <td>18.2</td>\n",
       "      <td>19.95</td>\n",
       "      <td>21.3</td>\n",
       "      <td>23.20</td>\n",
       "      <td>24.9</td>\n",
       "    </tr>\n",
       "    <tr>\n",
       "      <th>act_comp_17</th>\n",
       "      <td>51.0</td>\n",
       "      <td>21.519608</td>\n",
       "      <td>2.020695</td>\n",
       "      <td>17.8</td>\n",
       "      <td>19.80</td>\n",
       "      <td>21.4</td>\n",
       "      <td>23.60</td>\n",
       "      <td>25.5</td>\n",
       "    </tr>\n",
       "    <tr>\n",
       "      <th>act_part_18</th>\n",
       "      <td>51.0</td>\n",
       "      <td>61.725490</td>\n",
       "      <td>34.037085</td>\n",
       "      <td>7.0</td>\n",
       "      <td>28.50</td>\n",
       "      <td>66.0</td>\n",
       "      <td>100.00</td>\n",
       "      <td>100.0</td>\n",
       "    </tr>\n",
       "    <tr>\n",
       "      <th>act_comp_18</th>\n",
       "      <td>51.0</td>\n",
       "      <td>21.496078</td>\n",
       "      <td>2.111583</td>\n",
       "      <td>17.7</td>\n",
       "      <td>19.95</td>\n",
       "      <td>21.3</td>\n",
       "      <td>23.65</td>\n",
       "      <td>25.6</td>\n",
       "    </tr>\n",
       "    <tr>\n",
       "      <th>sat_part_17</th>\n",
       "      <td>51.0</td>\n",
       "      <td>39.803922</td>\n",
       "      <td>35.276632</td>\n",
       "      <td>2.0</td>\n",
       "      <td>4.00</td>\n",
       "      <td>38.0</td>\n",
       "      <td>66.00</td>\n",
       "      <td>100.0</td>\n",
       "    </tr>\n",
       "    <tr>\n",
       "      <th>sat_ebrw_17</th>\n",
       "      <td>51.0</td>\n",
       "      <td>569.117647</td>\n",
       "      <td>45.666901</td>\n",
       "      <td>482.0</td>\n",
       "      <td>533.50</td>\n",
       "      <td>559.0</td>\n",
       "      <td>613.00</td>\n",
       "      <td>644.0</td>\n",
       "    </tr>\n",
       "    <tr>\n",
       "      <th>sat_math_17</th>\n",
       "      <td>51.0</td>\n",
       "      <td>556.882353</td>\n",
       "      <td>47.121395</td>\n",
       "      <td>468.0</td>\n",
       "      <td>523.50</td>\n",
       "      <td>548.0</td>\n",
       "      <td>599.00</td>\n",
       "      <td>651.0</td>\n",
       "    </tr>\n",
       "    <tr>\n",
       "      <th>sat_total_17</th>\n",
       "      <td>51.0</td>\n",
       "      <td>1126.098039</td>\n",
       "      <td>92.494812</td>\n",
       "      <td>950.0</td>\n",
       "      <td>1055.50</td>\n",
       "      <td>1107.0</td>\n",
       "      <td>1212.00</td>\n",
       "      <td>1295.0</td>\n",
       "    </tr>\n",
       "    <tr>\n",
       "      <th>sat_part_18</th>\n",
       "      <td>51.0</td>\n",
       "      <td>46.549020</td>\n",
       "      <td>37.975420</td>\n",
       "      <td>2.0</td>\n",
       "      <td>4.50</td>\n",
       "      <td>52.0</td>\n",
       "      <td>79.50</td>\n",
       "      <td>100.0</td>\n",
       "    </tr>\n",
       "    <tr>\n",
       "      <th>sat_ebrw_18</th>\n",
       "      <td>51.0</td>\n",
       "      <td>565.843137</td>\n",
       "      <td>46.922222</td>\n",
       "      <td>480.0</td>\n",
       "      <td>534.50</td>\n",
       "      <td>552.0</td>\n",
       "      <td>616.50</td>\n",
       "      <td>643.0</td>\n",
       "    </tr>\n",
       "    <tr>\n",
       "      <th>sat_math_18</th>\n",
       "      <td>51.0</td>\n",
       "      <td>556.745098</td>\n",
       "      <td>49.084761</td>\n",
       "      <td>480.0</td>\n",
       "      <td>521.50</td>\n",
       "      <td>544.0</td>\n",
       "      <td>600.50</td>\n",
       "      <td>655.0</td>\n",
       "    </tr>\n",
       "    <tr>\n",
       "      <th>sat_total_18</th>\n",
       "      <td>51.0</td>\n",
       "      <td>1122.666667</td>\n",
       "      <td>95.256636</td>\n",
       "      <td>977.0</td>\n",
       "      <td>1057.50</td>\n",
       "      <td>1098.0</td>\n",
       "      <td>1220.00</td>\n",
       "      <td>1298.0</td>\n",
       "    </tr>\n",
       "    <tr>\n",
       "      <th>sat_part_inc</th>\n",
       "      <td>51.0</td>\n",
       "      <td>6.745098</td>\n",
       "      <td>17.685975</td>\n",
       "      <td>-8.0</td>\n",
       "      <td>0.00</td>\n",
       "      <td>1.0</td>\n",
       "      <td>5.00</td>\n",
       "      <td>90.0</td>\n",
       "    </tr>\n",
       "    <tr>\n",
       "      <th>act_part_inc</th>\n",
       "      <td>51.0</td>\n",
       "      <td>-3.529412</td>\n",
       "      <td>13.457121</td>\n",
       "      <td>-70.0</td>\n",
       "      <td>-4.00</td>\n",
       "      <td>-1.0</td>\n",
       "      <td>0.00</td>\n",
       "      <td>25.0</td>\n",
       "    </tr>\n",
       "    <tr>\n",
       "      <th>part_inc</th>\n",
       "      <td>51.0</td>\n",
       "      <td>3.215686</td>\n",
       "      <td>9.598570</td>\n",
       "      <td>-27.0</td>\n",
       "      <td>0.00</td>\n",
       "      <td>1.0</td>\n",
       "      <td>5.50</td>\n",
       "      <td>40.0</td>\n",
       "    </tr>\n",
       "  </tbody>\n",
       "</table>\n",
       "</div>"
      ],
      "text/plain": [
       "              count         mean        std    min      25%     50%      75%  \\\n",
       "act_part_17    51.0    65.254902  32.140842    8.0    31.00    69.0   100.00   \n",
       "act_engl_17    51.0    20.931373   2.353677   16.3    19.00    20.7    23.30   \n",
       "act_math_17    51.0    21.182353   1.981989   18.0    19.40    20.9    23.10   \n",
       "act_read_17    51.0    22.013725   2.067271   18.1    20.45    21.8    24.15   \n",
       "act_sci_17     51.0    21.450980   1.739353   18.2    19.95    21.3    23.20   \n",
       "act_comp_17    51.0    21.519608   2.020695   17.8    19.80    21.4    23.60   \n",
       "act_part_18    51.0    61.725490  34.037085    7.0    28.50    66.0   100.00   \n",
       "act_comp_18    51.0    21.496078   2.111583   17.7    19.95    21.3    23.65   \n",
       "sat_part_17    51.0    39.803922  35.276632    2.0     4.00    38.0    66.00   \n",
       "sat_ebrw_17    51.0   569.117647  45.666901  482.0   533.50   559.0   613.00   \n",
       "sat_math_17    51.0   556.882353  47.121395  468.0   523.50   548.0   599.00   \n",
       "sat_total_17   51.0  1126.098039  92.494812  950.0  1055.50  1107.0  1212.00   \n",
       "sat_part_18    51.0    46.549020  37.975420    2.0     4.50    52.0    79.50   \n",
       "sat_ebrw_18    51.0   565.843137  46.922222  480.0   534.50   552.0   616.50   \n",
       "sat_math_18    51.0   556.745098  49.084761  480.0   521.50   544.0   600.50   \n",
       "sat_total_18   51.0  1122.666667  95.256636  977.0  1057.50  1098.0  1220.00   \n",
       "sat_part_inc   51.0     6.745098  17.685975   -8.0     0.00     1.0     5.00   \n",
       "act_part_inc   51.0    -3.529412  13.457121  -70.0    -4.00    -1.0     0.00   \n",
       "part_inc       51.0     3.215686   9.598570  -27.0     0.00     1.0     5.50   \n",
       "\n",
       "                 max  \n",
       "act_part_17    100.0  \n",
       "act_engl_17     25.5  \n",
       "act_math_17     25.3  \n",
       "act_read_17     26.0  \n",
       "act_sci_17      24.9  \n",
       "act_comp_17     25.5  \n",
       "act_part_18    100.0  \n",
       "act_comp_18     25.6  \n",
       "sat_part_17    100.0  \n",
       "sat_ebrw_17    644.0  \n",
       "sat_math_17    651.0  \n",
       "sat_total_17  1295.0  \n",
       "sat_part_18    100.0  \n",
       "sat_ebrw_18    643.0  \n",
       "sat_math_18    655.0  \n",
       "sat_total_18  1298.0  \n",
       "sat_part_inc    90.0  \n",
       "act_part_inc    25.0  \n",
       "part_inc        40.0  "
      ]
     },
     "execution_count": 28,
     "metadata": {},
     "output_type": "execute_result"
    }
   ],
   "source": [
    "test_data.describe().T"
   ]
  },
  {
   "cell_type": "code",
   "execution_count": 29,
   "metadata": {},
   "outputs": [],
   "source": [
    "# Function for calculating standard deviation, takes a list as an argument\n",
    "def s_dev(column):\n",
    "    # calculate length of the column and average value\n",
    "    n = len(column) \n",
    "    u = column.mean()\n",
    "    # initiate sum\n",
    "    total = 0\n",
    "    # loop through column and find (x-u)^2 and add to total \n",
    "    for i in column:\n",
    "        total += (i-u)**2\n",
    "    # calculate and return std\n",
    "    return (total / n)**0.5"
   ]
  },
  {
   "cell_type": "code",
   "execution_count": 30,
   "metadata": {},
   "outputs": [],
   "source": [
    "# Dictionary comprehension to calculate sd\n",
    "# Code from entropy\n",
    "# https://stackoverflow.com/questions/55048445/dictionary-comprehension-to-apply-a-function-to-dataframe-columns\n",
    "sd = {col.name: s_dev(col) for col in [test_data[i] for i in test_data.columns if (test_data[i].dtype=='float64') or (test_data[i].dtype=='int64')]}"
   ]
  },
  {
   "cell_type": "code",
   "execution_count": 31,
   "metadata": {},
   "outputs": [
    {
     "data": {
      "text/plain": [
       "{'act_part_17': 31.824175751231806,\n",
       " 'act_engl_17': 2.3304876369363363,\n",
       " 'act_math_17': 1.9624620273436781,\n",
       " 'act_read_17': 2.0469029314842646,\n",
       " 'act_sci_17': 1.7222161451443676,\n",
       " 'act_comp_17': 2.000786081581989,\n",
       " 'act_part_18': 33.70173582041031,\n",
       " 'act_comp_18': 2.090779082141178,\n",
       " 'sat_part_17': 34.92907076664508,\n",
       " 'sat_ebrw_17': 45.21697020437866,\n",
       " 'sat_math_17': 46.65713364485503,\n",
       " 'sat_total_17': 91.58351056778743,\n",
       " 'sat_part_18': 37.60126913038045,\n",
       " 'sat_ebrw_18': 46.459922661225384,\n",
       " 'sat_math_18': 48.60115512919779,\n",
       " 'sat_total_18': 94.31812390379712,\n",
       " 'sat_part_inc': 17.511725077400765,\n",
       " 'act_part_inc': 13.324535736570926,\n",
       " 'part_inc': 9.504000655018702}"
      ]
     },
     "execution_count": 31,
     "metadata": {},
     "output_type": "execute_result"
    }
   ],
   "source": [
    "sd"
   ]
  },
  {
   "cell_type": "code",
   "execution_count": 32,
   "metadata": {},
   "outputs": [
    {
     "data": {
      "text/plain": [
       "31.824175751231806"
      ]
     },
     "execution_count": 32,
     "metadata": {},
     "output_type": "execute_result"
    }
   ],
   "source": [
    "np.std(test_data['act_part_17'])"
   ]
  },
  {
   "cell_type": "markdown",
   "metadata": {},
   "source": [
    "Do your manually calculated standard deviations match up with the output from pandas `describe`? What about numpy's `std` method?"
   ]
  },
  {
   "cell_type": "markdown",
   "metadata": {},
   "source": [
    "My manually calculated standard deviations match numpy's 'std' calculations, however, it does not match the values from pandas 'describe'. In trouble shooting it seems as though pandas 'describe' uses an 'unbiased estimator' i.e. a denominator of 'n-1' in calculating std. This causes pandas to have a slightly higher std."
   ]
  },
  {
   "cell_type": "markdown",
   "metadata": {},
   "source": [
    "#### Investigating trends in the data\n",
    "\n",
    "First some functions to make sorting and displaying more legible and quicker"
   ]
  },
  {
   "cell_type": "code",
   "execution_count": 33,
   "metadata": {},
   "outputs": [],
   "source": [
    "# highlight styling from jezrael\n",
    "# https://stackoverflow.com/questions/41654949/pandas-style-function-to-hignlight-specific-columns\n",
    "# used to highlight column that exploratory look is sorted on\n",
    "def highlight_cols(s):\n",
    "    color = 'yellow'\n",
    "    return 'background-color: %s' % color"
   ]
  },
  {
   "cell_type": "code",
   "execution_count": 34,
   "metadata": {},
   "outputs": [],
   "source": [
    "# formula to automate sorting by values and displaying the head / tail\n",
    "# additionally highlights the row that is being sorted on\n",
    "# arguments include: a data frame, column name to be sorted, list of column names to be displayed\n",
    "# additional arguments are: increasing / decreasing sort that defaults to decending\n",
    "# also # of rows, default to 5\n",
    "# must use in conjunction with highlight_cols function\n",
    "def df_value_sort_head(df, col, col_list, ascend = False, rows = 5):\n",
    "    return df.sort_values(col, ascending=ascend)[col_list].head(rows).style.applymap(highlight_cols, subset=pd.IndexSlice[:, col])"
   ]
  },
  {
   "cell_type": "markdown",
   "metadata": {},
   "source": [
    "###### Looking at Participation"
   ]
  },
  {
   "cell_type": "code",
   "execution_count": 35,
   "metadata": {},
   "outputs": [],
   "source": [
    "# create list of columns of interest when looking at participation\n",
    "part_interest = ['state','part_inc',\n",
    "                 'sat_part_17','sat_part_18',\n",
    "                 'sat_part_inc','act_part_17',\n",
    "                 'act_part_18','act_part_inc',\n",
    "                 'sat_dom_17','sat_dom_18']"
   ]
  },
  {
   "cell_type": "code",
   "execution_count": 36,
   "metadata": {},
   "outputs": [
    {
     "data": {
      "text/html": [
       "<style  type=\"text/css\" >\n",
       "    #T_2dcc60d2_25f3_11ea_bf5f_f0189815766crow0_col4 {\n",
       "            background-color:  yellow;\n",
       "        }    #T_2dcc60d2_25f3_11ea_bf5f_f0189815766crow1_col4 {\n",
       "            background-color:  yellow;\n",
       "        }    #T_2dcc60d2_25f3_11ea_bf5f_f0189815766crow2_col4 {\n",
       "            background-color:  yellow;\n",
       "        }    #T_2dcc60d2_25f3_11ea_bf5f_f0189815766crow3_col4 {\n",
       "            background-color:  yellow;\n",
       "        }    #T_2dcc60d2_25f3_11ea_bf5f_f0189815766crow4_col4 {\n",
       "            background-color:  yellow;\n",
       "        }</style><table id=\"T_2dcc60d2_25f3_11ea_bf5f_f0189815766c\" ><thead>    <tr>        <th class=\"blank level0\" ></th>        <th class=\"col_heading level0 col0\" >state</th>        <th class=\"col_heading level0 col1\" >part_inc</th>        <th class=\"col_heading level0 col2\" >sat_part_17</th>        <th class=\"col_heading level0 col3\" >sat_part_18</th>        <th class=\"col_heading level0 col4\" >sat_part_inc</th>        <th class=\"col_heading level0 col5\" >act_part_17</th>        <th class=\"col_heading level0 col6\" >act_part_18</th>        <th class=\"col_heading level0 col7\" >act_part_inc</th>        <th class=\"col_heading level0 col8\" >sat_dom_17</th>        <th class=\"col_heading level0 col9\" >sat_dom_18</th>    </tr></thead><tbody>\n",
       "                <tr>\n",
       "                        <th id=\"T_2dcc60d2_25f3_11ea_bf5f_f0189815766clevel0_row0\" class=\"row_heading level0 row0\" >13</th>\n",
       "                        <td id=\"T_2dcc60d2_25f3_11ea_bf5f_f0189815766crow0_col0\" class=\"data row0 col0\" >illinois</td>\n",
       "                        <td id=\"T_2dcc60d2_25f3_11ea_bf5f_f0189815766crow0_col1\" class=\"data row0 col1\" >40</td>\n",
       "                        <td id=\"T_2dcc60d2_25f3_11ea_bf5f_f0189815766crow0_col2\" class=\"data row0 col2\" >9</td>\n",
       "                        <td id=\"T_2dcc60d2_25f3_11ea_bf5f_f0189815766crow0_col3\" class=\"data row0 col3\" >99</td>\n",
       "                        <td id=\"T_2dcc60d2_25f3_11ea_bf5f_f0189815766crow0_col4\" class=\"data row0 col4\" >90</td>\n",
       "                        <td id=\"T_2dcc60d2_25f3_11ea_bf5f_f0189815766crow0_col5\" class=\"data row0 col5\" >93</td>\n",
       "                        <td id=\"T_2dcc60d2_25f3_11ea_bf5f_f0189815766crow0_col6\" class=\"data row0 col6\" >43</td>\n",
       "                        <td id=\"T_2dcc60d2_25f3_11ea_bf5f_f0189815766crow0_col7\" class=\"data row0 col7\" >-50</td>\n",
       "                        <td id=\"T_2dcc60d2_25f3_11ea_bf5f_f0189815766crow0_col8\" class=\"data row0 col8\" >False</td>\n",
       "                        <td id=\"T_2dcc60d2_25f3_11ea_bf5f_f0189815766crow0_col9\" class=\"data row0 col9\" >True</td>\n",
       "            </tr>\n",
       "            <tr>\n",
       "                        <th id=\"T_2dcc60d2_25f3_11ea_bf5f_f0189815766clevel0_row1\" class=\"row_heading level0 row1\" >5</th>\n",
       "                        <td id=\"T_2dcc60d2_25f3_11ea_bf5f_f0189815766crow1_col0\" class=\"data row1 col0\" >colorado</td>\n",
       "                        <td id=\"T_2dcc60d2_25f3_11ea_bf5f_f0189815766crow1_col1\" class=\"data row1 col1\" >19</td>\n",
       "                        <td id=\"T_2dcc60d2_25f3_11ea_bf5f_f0189815766crow1_col2\" class=\"data row1 col2\" >11</td>\n",
       "                        <td id=\"T_2dcc60d2_25f3_11ea_bf5f_f0189815766crow1_col3\" class=\"data row1 col3\" >100</td>\n",
       "                        <td id=\"T_2dcc60d2_25f3_11ea_bf5f_f0189815766crow1_col4\" class=\"data row1 col4\" >89</td>\n",
       "                        <td id=\"T_2dcc60d2_25f3_11ea_bf5f_f0189815766crow1_col5\" class=\"data row1 col5\" >100</td>\n",
       "                        <td id=\"T_2dcc60d2_25f3_11ea_bf5f_f0189815766crow1_col6\" class=\"data row1 col6\" >30</td>\n",
       "                        <td id=\"T_2dcc60d2_25f3_11ea_bf5f_f0189815766crow1_col7\" class=\"data row1 col7\" >-70</td>\n",
       "                        <td id=\"T_2dcc60d2_25f3_11ea_bf5f_f0189815766crow1_col8\" class=\"data row1 col8\" >False</td>\n",
       "                        <td id=\"T_2dcc60d2_25f3_11ea_bf5f_f0189815766crow1_col9\" class=\"data row1 col9\" >True</td>\n",
       "            </tr>\n",
       "            <tr>\n",
       "                        <th id=\"T_2dcc60d2_25f3_11ea_bf5f_f0189815766clevel0_row2\" class=\"row_heading level0 row2\" >39</th>\n",
       "                        <td id=\"T_2dcc60d2_25f3_11ea_bf5f_f0189815766crow2_col0\" class=\"data row2 col0\" >rhode island</td>\n",
       "                        <td id=\"T_2dcc60d2_25f3_11ea_bf5f_f0189815766crow2_col1\" class=\"data row2 col1\" >20</td>\n",
       "                        <td id=\"T_2dcc60d2_25f3_11ea_bf5f_f0189815766crow2_col2\" class=\"data row2 col2\" >71</td>\n",
       "                        <td id=\"T_2dcc60d2_25f3_11ea_bf5f_f0189815766crow2_col3\" class=\"data row2 col3\" >97</td>\n",
       "                        <td id=\"T_2dcc60d2_25f3_11ea_bf5f_f0189815766crow2_col4\" class=\"data row2 col4\" >26</td>\n",
       "                        <td id=\"T_2dcc60d2_25f3_11ea_bf5f_f0189815766crow2_col5\" class=\"data row2 col5\" >21</td>\n",
       "                        <td id=\"T_2dcc60d2_25f3_11ea_bf5f_f0189815766crow2_col6\" class=\"data row2 col6\" >15</td>\n",
       "                        <td id=\"T_2dcc60d2_25f3_11ea_bf5f_f0189815766crow2_col7\" class=\"data row2 col7\" >-6</td>\n",
       "                        <td id=\"T_2dcc60d2_25f3_11ea_bf5f_f0189815766crow2_col8\" class=\"data row2 col8\" >True</td>\n",
       "                        <td id=\"T_2dcc60d2_25f3_11ea_bf5f_f0189815766crow2_col9\" class=\"data row2 col9\" >True</td>\n",
       "            </tr>\n",
       "            <tr>\n",
       "                        <th id=\"T_2dcc60d2_25f3_11ea_bf5f_f0189815766clevel0_row3\" class=\"row_heading level0 row3\" >9</th>\n",
       "                        <td id=\"T_2dcc60d2_25f3_11ea_bf5f_f0189815766crow3_col0\" class=\"data row3 col0\" >florida</td>\n",
       "                        <td id=\"T_2dcc60d2_25f3_11ea_bf5f_f0189815766crow3_col1\" class=\"data row3 col1\" >7</td>\n",
       "                        <td id=\"T_2dcc60d2_25f3_11ea_bf5f_f0189815766crow3_col2\" class=\"data row3 col2\" >83</td>\n",
       "                        <td id=\"T_2dcc60d2_25f3_11ea_bf5f_f0189815766crow3_col3\" class=\"data row3 col3\" >97</td>\n",
       "                        <td id=\"T_2dcc60d2_25f3_11ea_bf5f_f0189815766crow3_col4\" class=\"data row3 col4\" >14</td>\n",
       "                        <td id=\"T_2dcc60d2_25f3_11ea_bf5f_f0189815766crow3_col5\" class=\"data row3 col5\" >73</td>\n",
       "                        <td id=\"T_2dcc60d2_25f3_11ea_bf5f_f0189815766crow3_col6\" class=\"data row3 col6\" >66</td>\n",
       "                        <td id=\"T_2dcc60d2_25f3_11ea_bf5f_f0189815766crow3_col7\" class=\"data row3 col7\" >-7</td>\n",
       "                        <td id=\"T_2dcc60d2_25f3_11ea_bf5f_f0189815766crow3_col8\" class=\"data row3 col8\" >True</td>\n",
       "                        <td id=\"T_2dcc60d2_25f3_11ea_bf5f_f0189815766crow3_col9\" class=\"data row3 col9\" >True</td>\n",
       "            </tr>\n",
       "            <tr>\n",
       "                        <th id=\"T_2dcc60d2_25f3_11ea_bf5f_f0189815766clevel0_row4\" class=\"row_heading level0 row4\" >48</th>\n",
       "                        <td id=\"T_2dcc60d2_25f3_11ea_bf5f_f0189815766crow4_col0\" class=\"data row4 col0\" >west virginia</td>\n",
       "                        <td id=\"T_2dcc60d2_25f3_11ea_bf5f_f0189815766crow4_col1\" class=\"data row4 col1\" >10</td>\n",
       "                        <td id=\"T_2dcc60d2_25f3_11ea_bf5f_f0189815766crow4_col2\" class=\"data row4 col2\" >14</td>\n",
       "                        <td id=\"T_2dcc60d2_25f3_11ea_bf5f_f0189815766crow4_col3\" class=\"data row4 col3\" >28</td>\n",
       "                        <td id=\"T_2dcc60d2_25f3_11ea_bf5f_f0189815766crow4_col4\" class=\"data row4 col4\" >14</td>\n",
       "                        <td id=\"T_2dcc60d2_25f3_11ea_bf5f_f0189815766crow4_col5\" class=\"data row4 col5\" >69</td>\n",
       "                        <td id=\"T_2dcc60d2_25f3_11ea_bf5f_f0189815766crow4_col6\" class=\"data row4 col6\" >65</td>\n",
       "                        <td id=\"T_2dcc60d2_25f3_11ea_bf5f_f0189815766crow4_col7\" class=\"data row4 col7\" >-4</td>\n",
       "                        <td id=\"T_2dcc60d2_25f3_11ea_bf5f_f0189815766crow4_col8\" class=\"data row4 col8\" >False</td>\n",
       "                        <td id=\"T_2dcc60d2_25f3_11ea_bf5f_f0189815766crow4_col9\" class=\"data row4 col9\" >False</td>\n",
       "            </tr>\n",
       "    </tbody></table>"
      ],
      "text/plain": [
       "<pandas.io.formats.style.Styler at 0x1a1d92d890>"
      ]
     },
     "metadata": {},
     "output_type": "display_data"
    },
    {
     "data": {
      "text/html": [
       "<style  type=\"text/css\" >\n",
       "    #T_2dcd9d44_25f3_11ea_bf5f_f0189815766crow0_col4 {\n",
       "            background-color:  yellow;\n",
       "        }    #T_2dcd9d44_25f3_11ea_bf5f_f0189815766crow1_col4 {\n",
       "            background-color:  yellow;\n",
       "        }    #T_2dcd9d44_25f3_11ea_bf5f_f0189815766crow2_col4 {\n",
       "            background-color:  yellow;\n",
       "        }    #T_2dcd9d44_25f3_11ea_bf5f_f0189815766crow3_col4 {\n",
       "            background-color:  yellow;\n",
       "        }    #T_2dcd9d44_25f3_11ea_bf5f_f0189815766crow4_col4 {\n",
       "            background-color:  yellow;\n",
       "        }</style><table id=\"T_2dcd9d44_25f3_11ea_bf5f_f0189815766c\" ><thead>    <tr>        <th class=\"blank level0\" ></th>        <th class=\"col_heading level0 col0\" >state</th>        <th class=\"col_heading level0 col1\" >part_inc</th>        <th class=\"col_heading level0 col2\" >sat_part_17</th>        <th class=\"col_heading level0 col3\" >sat_part_18</th>        <th class=\"col_heading level0 col4\" >sat_part_inc</th>        <th class=\"col_heading level0 col5\" >act_part_17</th>        <th class=\"col_heading level0 col6\" >act_part_18</th>        <th class=\"col_heading level0 col7\" >act_part_inc</th>        <th class=\"col_heading level0 col8\" >sat_dom_17</th>        <th class=\"col_heading level0 col9\" >sat_dom_18</th>    </tr></thead><tbody>\n",
       "                <tr>\n",
       "                        <th id=\"T_2dcd9d44_25f3_11ea_bf5f_f0189815766clevel0_row0\" class=\"row_heading level0 row0\" >8</th>\n",
       "                        <td id=\"T_2dcd9d44_25f3_11ea_bf5f_f0189815766crow0_col0\" class=\"data row0 col0\" >district of columbia</td>\n",
       "                        <td id=\"T_2dcd9d44_25f3_11ea_bf5f_f0189815766crow0_col1\" class=\"data row0 col1\" >-8</td>\n",
       "                        <td id=\"T_2dcd9d44_25f3_11ea_bf5f_f0189815766crow0_col2\" class=\"data row0 col2\" >100</td>\n",
       "                        <td id=\"T_2dcd9d44_25f3_11ea_bf5f_f0189815766crow0_col3\" class=\"data row0 col3\" >92</td>\n",
       "                        <td id=\"T_2dcd9d44_25f3_11ea_bf5f_f0189815766crow0_col4\" class=\"data row0 col4\" >-8</td>\n",
       "                        <td id=\"T_2dcd9d44_25f3_11ea_bf5f_f0189815766crow0_col5\" class=\"data row0 col5\" >32</td>\n",
       "                        <td id=\"T_2dcd9d44_25f3_11ea_bf5f_f0189815766crow0_col6\" class=\"data row0 col6\" >32</td>\n",
       "                        <td id=\"T_2dcd9d44_25f3_11ea_bf5f_f0189815766crow0_col7\" class=\"data row0 col7\" >0</td>\n",
       "                        <td id=\"T_2dcd9d44_25f3_11ea_bf5f_f0189815766crow0_col8\" class=\"data row0 col8\" >True</td>\n",
       "                        <td id=\"T_2dcd9d44_25f3_11ea_bf5f_f0189815766crow0_col9\" class=\"data row0 col9\" >True</td>\n",
       "            </tr>\n",
       "            <tr>\n",
       "                        <th id=\"T_2dcd9d44_25f3_11ea_bf5f_f0189815766clevel0_row1\" class=\"row_heading level0 row1\" >28</th>\n",
       "                        <td id=\"T_2dcd9d44_25f3_11ea_bf5f_f0189815766crow1_col0\" class=\"data row1 col0\" >nevada</td>\n",
       "                        <td id=\"T_2dcd9d44_25f3_11ea_bf5f_f0189815766crow1_col1\" class=\"data row1 col1\" >-3</td>\n",
       "                        <td id=\"T_2dcd9d44_25f3_11ea_bf5f_f0189815766crow1_col2\" class=\"data row1 col2\" >26</td>\n",
       "                        <td id=\"T_2dcd9d44_25f3_11ea_bf5f_f0189815766crow1_col3\" class=\"data row1 col3\" >23</td>\n",
       "                        <td id=\"T_2dcd9d44_25f3_11ea_bf5f_f0189815766crow1_col4\" class=\"data row1 col4\" >-3</td>\n",
       "                        <td id=\"T_2dcd9d44_25f3_11ea_bf5f_f0189815766crow1_col5\" class=\"data row1 col5\" >100</td>\n",
       "                        <td id=\"T_2dcd9d44_25f3_11ea_bf5f_f0189815766crow1_col6\" class=\"data row1 col6\" >100</td>\n",
       "                        <td id=\"T_2dcd9d44_25f3_11ea_bf5f_f0189815766crow1_col7\" class=\"data row1 col7\" >0</td>\n",
       "                        <td id=\"T_2dcd9d44_25f3_11ea_bf5f_f0189815766crow1_col8\" class=\"data row1 col8\" >False</td>\n",
       "                        <td id=\"T_2dcd9d44_25f3_11ea_bf5f_f0189815766crow1_col9\" class=\"data row1 col9\" >False</td>\n",
       "            </tr>\n",
       "            <tr>\n",
       "                        <th id=\"T_2dcd9d44_25f3_11ea_bf5f_f0189815766clevel0_row2\" class=\"row_heading level0 row2\" >2</th>\n",
       "                        <td id=\"T_2dcd9d44_25f3_11ea_bf5f_f0189815766crow2_col0\" class=\"data row2 col0\" >arizona</td>\n",
       "                        <td id=\"T_2dcd9d44_25f3_11ea_bf5f_f0189815766crow2_col1\" class=\"data row2 col1\" >3</td>\n",
       "                        <td id=\"T_2dcd9d44_25f3_11ea_bf5f_f0189815766crow2_col2\" class=\"data row2 col2\" >30</td>\n",
       "                        <td id=\"T_2dcd9d44_25f3_11ea_bf5f_f0189815766crow2_col3\" class=\"data row2 col3\" >29</td>\n",
       "                        <td id=\"T_2dcd9d44_25f3_11ea_bf5f_f0189815766crow2_col4\" class=\"data row2 col4\" >-1</td>\n",
       "                        <td id=\"T_2dcd9d44_25f3_11ea_bf5f_f0189815766crow2_col5\" class=\"data row2 col5\" >62</td>\n",
       "                        <td id=\"T_2dcd9d44_25f3_11ea_bf5f_f0189815766crow2_col6\" class=\"data row2 col6\" >66</td>\n",
       "                        <td id=\"T_2dcd9d44_25f3_11ea_bf5f_f0189815766crow2_col7\" class=\"data row2 col7\" >4</td>\n",
       "                        <td id=\"T_2dcd9d44_25f3_11ea_bf5f_f0189815766crow2_col8\" class=\"data row2 col8\" >False</td>\n",
       "                        <td id=\"T_2dcd9d44_25f3_11ea_bf5f_f0189815766crow2_col9\" class=\"data row2 col9\" >False</td>\n",
       "            </tr>\n",
       "            <tr>\n",
       "                        <th id=\"T_2dcd9d44_25f3_11ea_bf5f_f0189815766clevel0_row3\" class=\"row_heading level0 row3\" >50</th>\n",
       "                        <td id=\"T_2dcd9d44_25f3_11ea_bf5f_f0189815766crow3_col0\" class=\"data row3 col0\" >wyoming</td>\n",
       "                        <td id=\"T_2dcd9d44_25f3_11ea_bf5f_f0189815766crow3_col1\" class=\"data row3 col1\" >0</td>\n",
       "                        <td id=\"T_2dcd9d44_25f3_11ea_bf5f_f0189815766crow3_col2\" class=\"data row3 col2\" >3</td>\n",
       "                        <td id=\"T_2dcd9d44_25f3_11ea_bf5f_f0189815766crow3_col3\" class=\"data row3 col3\" >3</td>\n",
       "                        <td id=\"T_2dcd9d44_25f3_11ea_bf5f_f0189815766crow3_col4\" class=\"data row3 col4\" >0</td>\n",
       "                        <td id=\"T_2dcd9d44_25f3_11ea_bf5f_f0189815766crow3_col5\" class=\"data row3 col5\" >100</td>\n",
       "                        <td id=\"T_2dcd9d44_25f3_11ea_bf5f_f0189815766crow3_col6\" class=\"data row3 col6\" >100</td>\n",
       "                        <td id=\"T_2dcd9d44_25f3_11ea_bf5f_f0189815766crow3_col7\" class=\"data row3 col7\" >0</td>\n",
       "                        <td id=\"T_2dcd9d44_25f3_11ea_bf5f_f0189815766crow3_col8\" class=\"data row3 col8\" >False</td>\n",
       "                        <td id=\"T_2dcd9d44_25f3_11ea_bf5f_f0189815766crow3_col9\" class=\"data row3 col9\" >False</td>\n",
       "            </tr>\n",
       "            <tr>\n",
       "                        <th id=\"T_2dcd9d44_25f3_11ea_bf5f_f0189815766clevel0_row4\" class=\"row_heading level0 row4\" >18</th>\n",
       "                        <td id=\"T_2dcd9d44_25f3_11ea_bf5f_f0189815766crow4_col0\" class=\"data row4 col0\" >louisiana</td>\n",
       "                        <td id=\"T_2dcd9d44_25f3_11ea_bf5f_f0189815766crow4_col1\" class=\"data row4 col1\" >0</td>\n",
       "                        <td id=\"T_2dcd9d44_25f3_11ea_bf5f_f0189815766crow4_col2\" class=\"data row4 col2\" >4</td>\n",
       "                        <td id=\"T_2dcd9d44_25f3_11ea_bf5f_f0189815766crow4_col3\" class=\"data row4 col3\" >4</td>\n",
       "                        <td id=\"T_2dcd9d44_25f3_11ea_bf5f_f0189815766crow4_col4\" class=\"data row4 col4\" >0</td>\n",
       "                        <td id=\"T_2dcd9d44_25f3_11ea_bf5f_f0189815766crow4_col5\" class=\"data row4 col5\" >100</td>\n",
       "                        <td id=\"T_2dcd9d44_25f3_11ea_bf5f_f0189815766crow4_col6\" class=\"data row4 col6\" >100</td>\n",
       "                        <td id=\"T_2dcd9d44_25f3_11ea_bf5f_f0189815766crow4_col7\" class=\"data row4 col7\" >0</td>\n",
       "                        <td id=\"T_2dcd9d44_25f3_11ea_bf5f_f0189815766crow4_col8\" class=\"data row4 col8\" >False</td>\n",
       "                        <td id=\"T_2dcd9d44_25f3_11ea_bf5f_f0189815766crow4_col9\" class=\"data row4 col9\" >False</td>\n",
       "            </tr>\n",
       "    </tbody></table>"
      ],
      "text/plain": [
       "<pandas.io.formats.style.Styler at 0x1a263addd0>"
      ]
     },
     "metadata": {},
     "output_type": "display_data"
    }
   ],
   "source": [
    "# highest and lowest SAT participation increase\n",
    "display(df_value_sort_head(test_data,'sat_part_inc',part_interest))\n",
    "display(df_value_sort_head(test_data,'sat_part_inc',part_interest, ascend=True))"
   ]
  },
  {
   "cell_type": "markdown",
   "metadata": {},
   "source": [
    "**Of interest**: \n",
    "\n",
    "**Illinois & Colorado**: Extreme increse in SAT participation, went from ACT dominant to SAT dominant, corresponding huge drop in ACT participation\n",
    "\n",
    "**Rhode Island & Florida**: Jump from strong SAT participation to near universal\n",
    "\n",
    "**West Viginia**: Still low SAT participation, but doubled from 2017 to 2018"
   ]
  },
  {
   "cell_type": "code",
   "execution_count": 37,
   "metadata": {},
   "outputs": [
    {
     "data": {
      "text/html": [
       "<style  type=\"text/css\" >\n",
       "    #T_2dd0a98a_25f3_11ea_bf5f_f0189815766crow0_col7 {\n",
       "            background-color:  yellow;\n",
       "        }    #T_2dd0a98a_25f3_11ea_bf5f_f0189815766crow1_col7 {\n",
       "            background-color:  yellow;\n",
       "        }    #T_2dd0a98a_25f3_11ea_bf5f_f0189815766crow2_col7 {\n",
       "            background-color:  yellow;\n",
       "        }    #T_2dd0a98a_25f3_11ea_bf5f_f0189815766crow3_col7 {\n",
       "            background-color:  yellow;\n",
       "        }    #T_2dd0a98a_25f3_11ea_bf5f_f0189815766crow4_col7 {\n",
       "            background-color:  yellow;\n",
       "        }</style><table id=\"T_2dd0a98a_25f3_11ea_bf5f_f0189815766c\" ><thead>    <tr>        <th class=\"blank level0\" ></th>        <th class=\"col_heading level0 col0\" >state</th>        <th class=\"col_heading level0 col1\" >part_inc</th>        <th class=\"col_heading level0 col2\" >sat_part_17</th>        <th class=\"col_heading level0 col3\" >sat_part_18</th>        <th class=\"col_heading level0 col4\" >sat_part_inc</th>        <th class=\"col_heading level0 col5\" >act_part_17</th>        <th class=\"col_heading level0 col6\" >act_part_18</th>        <th class=\"col_heading level0 col7\" >act_part_inc</th>        <th class=\"col_heading level0 col8\" >sat_dom_17</th>        <th class=\"col_heading level0 col9\" >sat_dom_18</th>    </tr></thead><tbody>\n",
       "                <tr>\n",
       "                        <th id=\"T_2dd0a98a_25f3_11ea_bf5f_f0189815766clevel0_row0\" class=\"row_heading level0 row0\" >35</th>\n",
       "                        <td id=\"T_2dd0a98a_25f3_11ea_bf5f_f0189815766crow0_col0\" class=\"data row0 col0\" >ohio</td>\n",
       "                        <td id=\"T_2dd0a98a_25f3_11ea_bf5f_f0189815766crow0_col1\" class=\"data row0 col1\" >31</td>\n",
       "                        <td id=\"T_2dd0a98a_25f3_11ea_bf5f_f0189815766crow0_col2\" class=\"data row0 col2\" >12</td>\n",
       "                        <td id=\"T_2dd0a98a_25f3_11ea_bf5f_f0189815766crow0_col3\" class=\"data row0 col3\" >18</td>\n",
       "                        <td id=\"T_2dd0a98a_25f3_11ea_bf5f_f0189815766crow0_col4\" class=\"data row0 col4\" >6</td>\n",
       "                        <td id=\"T_2dd0a98a_25f3_11ea_bf5f_f0189815766crow0_col5\" class=\"data row0 col5\" >75</td>\n",
       "                        <td id=\"T_2dd0a98a_25f3_11ea_bf5f_f0189815766crow0_col6\" class=\"data row0 col6\" >100</td>\n",
       "                        <td id=\"T_2dd0a98a_25f3_11ea_bf5f_f0189815766crow0_col7\" class=\"data row0 col7\" >25</td>\n",
       "                        <td id=\"T_2dd0a98a_25f3_11ea_bf5f_f0189815766crow0_col8\" class=\"data row0 col8\" >False</td>\n",
       "                        <td id=\"T_2dd0a98a_25f3_11ea_bf5f_f0189815766crow0_col9\" class=\"data row0 col9\" >False</td>\n",
       "            </tr>\n",
       "            <tr>\n",
       "                        <th id=\"T_2dd0a98a_25f3_11ea_bf5f_f0189815766clevel0_row1\" class=\"row_heading level0 row1\" >27</th>\n",
       "                        <td id=\"T_2dd0a98a_25f3_11ea_bf5f_f0189815766crow1_col0\" class=\"data row1 col0\" >nebraska</td>\n",
       "                        <td id=\"T_2dd0a98a_25f3_11ea_bf5f_f0189815766crow1_col1\" class=\"data row1 col1\" >16</td>\n",
       "                        <td id=\"T_2dd0a98a_25f3_11ea_bf5f_f0189815766crow1_col2\" class=\"data row1 col2\" >3</td>\n",
       "                        <td id=\"T_2dd0a98a_25f3_11ea_bf5f_f0189815766crow1_col3\" class=\"data row1 col3\" >3</td>\n",
       "                        <td id=\"T_2dd0a98a_25f3_11ea_bf5f_f0189815766crow1_col4\" class=\"data row1 col4\" >0</td>\n",
       "                        <td id=\"T_2dd0a98a_25f3_11ea_bf5f_f0189815766crow1_col5\" class=\"data row1 col5\" >84</td>\n",
       "                        <td id=\"T_2dd0a98a_25f3_11ea_bf5f_f0189815766crow1_col6\" class=\"data row1 col6\" >100</td>\n",
       "                        <td id=\"T_2dd0a98a_25f3_11ea_bf5f_f0189815766crow1_col7\" class=\"data row1 col7\" >16</td>\n",
       "                        <td id=\"T_2dd0a98a_25f3_11ea_bf5f_f0189815766crow1_col8\" class=\"data row1 col8\" >False</td>\n",
       "                        <td id=\"T_2dd0a98a_25f3_11ea_bf5f_f0189815766crow1_col9\" class=\"data row1 col9\" >False</td>\n",
       "            </tr>\n",
       "            <tr>\n",
       "                        <th id=\"T_2dd0a98a_25f3_11ea_bf5f_f0189815766clevel0_row2\" class=\"row_heading level0 row2\" >2</th>\n",
       "                        <td id=\"T_2dd0a98a_25f3_11ea_bf5f_f0189815766crow2_col0\" class=\"data row2 col0\" >arizona</td>\n",
       "                        <td id=\"T_2dd0a98a_25f3_11ea_bf5f_f0189815766crow2_col1\" class=\"data row2 col1\" >3</td>\n",
       "                        <td id=\"T_2dd0a98a_25f3_11ea_bf5f_f0189815766crow2_col2\" class=\"data row2 col2\" >30</td>\n",
       "                        <td id=\"T_2dd0a98a_25f3_11ea_bf5f_f0189815766crow2_col3\" class=\"data row2 col3\" >29</td>\n",
       "                        <td id=\"T_2dd0a98a_25f3_11ea_bf5f_f0189815766crow2_col4\" class=\"data row2 col4\" >-1</td>\n",
       "                        <td id=\"T_2dd0a98a_25f3_11ea_bf5f_f0189815766crow2_col5\" class=\"data row2 col5\" >62</td>\n",
       "                        <td id=\"T_2dd0a98a_25f3_11ea_bf5f_f0189815766crow2_col6\" class=\"data row2 col6\" >66</td>\n",
       "                        <td id=\"T_2dd0a98a_25f3_11ea_bf5f_f0189815766crow2_col7\" class=\"data row2 col7\" >4</td>\n",
       "                        <td id=\"T_2dd0a98a_25f3_11ea_bf5f_f0189815766crow2_col8\" class=\"data row2 col8\" >False</td>\n",
       "                        <td id=\"T_2dd0a98a_25f3_11ea_bf5f_f0189815766crow2_col9\" class=\"data row2 col9\" >False</td>\n",
       "            </tr>\n",
       "            <tr>\n",
       "                        <th id=\"T_2dd0a98a_25f3_11ea_bf5f_f0189815766clevel0_row3\" class=\"row_heading level0 row3\" >20</th>\n",
       "                        <td id=\"T_2dd0a98a_25f3_11ea_bf5f_f0189815766crow3_col0\" class=\"data row3 col0\" >maryland</td>\n",
       "                        <td id=\"T_2dd0a98a_25f3_11ea_bf5f_f0189815766crow3_col1\" class=\"data row3 col1\" >10</td>\n",
       "                        <td id=\"T_2dd0a98a_25f3_11ea_bf5f_f0189815766crow3_col2\" class=\"data row3 col2\" >69</td>\n",
       "                        <td id=\"T_2dd0a98a_25f3_11ea_bf5f_f0189815766crow3_col3\" class=\"data row3 col3\" >76</td>\n",
       "                        <td id=\"T_2dd0a98a_25f3_11ea_bf5f_f0189815766crow3_col4\" class=\"data row3 col4\" >7</td>\n",
       "                        <td id=\"T_2dd0a98a_25f3_11ea_bf5f_f0189815766crow3_col5\" class=\"data row3 col5\" >28</td>\n",
       "                        <td id=\"T_2dd0a98a_25f3_11ea_bf5f_f0189815766crow3_col6\" class=\"data row3 col6\" >31</td>\n",
       "                        <td id=\"T_2dd0a98a_25f3_11ea_bf5f_f0189815766crow3_col7\" class=\"data row3 col7\" >3</td>\n",
       "                        <td id=\"T_2dd0a98a_25f3_11ea_bf5f_f0189815766crow3_col8\" class=\"data row3 col8\" >True</td>\n",
       "                        <td id=\"T_2dd0a98a_25f3_11ea_bf5f_f0189815766crow3_col9\" class=\"data row3 col9\" >True</td>\n",
       "            </tr>\n",
       "            <tr>\n",
       "                        <th id=\"T_2dd0a98a_25f3_11ea_bf5f_f0189815766clevel0_row4\" class=\"row_heading level0 row4\" >37</th>\n",
       "                        <td id=\"T_2dd0a98a_25f3_11ea_bf5f_f0189815766crow4_col0\" class=\"data row4 col0\" >oregon</td>\n",
       "                        <td id=\"T_2dd0a98a_25f3_11ea_bf5f_f0189815766crow4_col1\" class=\"data row4 col1\" >7</td>\n",
       "                        <td id=\"T_2dd0a98a_25f3_11ea_bf5f_f0189815766crow4_col2\" class=\"data row4 col2\" >43</td>\n",
       "                        <td id=\"T_2dd0a98a_25f3_11ea_bf5f_f0189815766crow4_col3\" class=\"data row4 col3\" >48</td>\n",
       "                        <td id=\"T_2dd0a98a_25f3_11ea_bf5f_f0189815766crow4_col4\" class=\"data row4 col4\" >5</td>\n",
       "                        <td id=\"T_2dd0a98a_25f3_11ea_bf5f_f0189815766crow4_col5\" class=\"data row4 col5\" >40</td>\n",
       "                        <td id=\"T_2dd0a98a_25f3_11ea_bf5f_f0189815766crow4_col6\" class=\"data row4 col6\" >42</td>\n",
       "                        <td id=\"T_2dd0a98a_25f3_11ea_bf5f_f0189815766crow4_col7\" class=\"data row4 col7\" >2</td>\n",
       "                        <td id=\"T_2dd0a98a_25f3_11ea_bf5f_f0189815766crow4_col8\" class=\"data row4 col8\" >True</td>\n",
       "                        <td id=\"T_2dd0a98a_25f3_11ea_bf5f_f0189815766crow4_col9\" class=\"data row4 col9\" >True</td>\n",
       "            </tr>\n",
       "    </tbody></table>"
      ],
      "text/plain": [
       "<pandas.io.formats.style.Styler at 0x1a263cef90>"
      ]
     },
     "metadata": {},
     "output_type": "display_data"
    },
    {
     "data": {
      "text/html": [
       "<style  type=\"text/css\" >\n",
       "    #T_2dd259b0_25f3_11ea_bf5f_f0189815766crow0_col7 {\n",
       "            background-color:  yellow;\n",
       "        }    #T_2dd259b0_25f3_11ea_bf5f_f0189815766crow1_col7 {\n",
       "            background-color:  yellow;\n",
       "        }    #T_2dd259b0_25f3_11ea_bf5f_f0189815766crow2_col7 {\n",
       "            background-color:  yellow;\n",
       "        }    #T_2dd259b0_25f3_11ea_bf5f_f0189815766crow3_col7 {\n",
       "            background-color:  yellow;\n",
       "        }    #T_2dd259b0_25f3_11ea_bf5f_f0189815766crow4_col7 {\n",
       "            background-color:  yellow;\n",
       "        }</style><table id=\"T_2dd259b0_25f3_11ea_bf5f_f0189815766c\" ><thead>    <tr>        <th class=\"blank level0\" ></th>        <th class=\"col_heading level0 col0\" >state</th>        <th class=\"col_heading level0 col1\" >part_inc</th>        <th class=\"col_heading level0 col2\" >sat_part_17</th>        <th class=\"col_heading level0 col3\" >sat_part_18</th>        <th class=\"col_heading level0 col4\" >sat_part_inc</th>        <th class=\"col_heading level0 col5\" >act_part_17</th>        <th class=\"col_heading level0 col6\" >act_part_18</th>        <th class=\"col_heading level0 col7\" >act_part_inc</th>        <th class=\"col_heading level0 col8\" >sat_dom_17</th>        <th class=\"col_heading level0 col9\" >sat_dom_18</th>    </tr></thead><tbody>\n",
       "                <tr>\n",
       "                        <th id=\"T_2dd259b0_25f3_11ea_bf5f_f0189815766clevel0_row0\" class=\"row_heading level0 row0\" >5</th>\n",
       "                        <td id=\"T_2dd259b0_25f3_11ea_bf5f_f0189815766crow0_col0\" class=\"data row0 col0\" >colorado</td>\n",
       "                        <td id=\"T_2dd259b0_25f3_11ea_bf5f_f0189815766crow0_col1\" class=\"data row0 col1\" >19</td>\n",
       "                        <td id=\"T_2dd259b0_25f3_11ea_bf5f_f0189815766crow0_col2\" class=\"data row0 col2\" >11</td>\n",
       "                        <td id=\"T_2dd259b0_25f3_11ea_bf5f_f0189815766crow0_col3\" class=\"data row0 col3\" >100</td>\n",
       "                        <td id=\"T_2dd259b0_25f3_11ea_bf5f_f0189815766crow0_col4\" class=\"data row0 col4\" >89</td>\n",
       "                        <td id=\"T_2dd259b0_25f3_11ea_bf5f_f0189815766crow0_col5\" class=\"data row0 col5\" >100</td>\n",
       "                        <td id=\"T_2dd259b0_25f3_11ea_bf5f_f0189815766crow0_col6\" class=\"data row0 col6\" >30</td>\n",
       "                        <td id=\"T_2dd259b0_25f3_11ea_bf5f_f0189815766crow0_col7\" class=\"data row0 col7\" >-70</td>\n",
       "                        <td id=\"T_2dd259b0_25f3_11ea_bf5f_f0189815766crow0_col8\" class=\"data row0 col8\" >False</td>\n",
       "                        <td id=\"T_2dd259b0_25f3_11ea_bf5f_f0189815766crow0_col9\" class=\"data row0 col9\" >True</td>\n",
       "            </tr>\n",
       "            <tr>\n",
       "                        <th id=\"T_2dd259b0_25f3_11ea_bf5f_f0189815766clevel0_row1\" class=\"row_heading level0 row1\" >13</th>\n",
       "                        <td id=\"T_2dd259b0_25f3_11ea_bf5f_f0189815766crow1_col0\" class=\"data row1 col0\" >illinois</td>\n",
       "                        <td id=\"T_2dd259b0_25f3_11ea_bf5f_f0189815766crow1_col1\" class=\"data row1 col1\" >40</td>\n",
       "                        <td id=\"T_2dd259b0_25f3_11ea_bf5f_f0189815766crow1_col2\" class=\"data row1 col2\" >9</td>\n",
       "                        <td id=\"T_2dd259b0_25f3_11ea_bf5f_f0189815766crow1_col3\" class=\"data row1 col3\" >99</td>\n",
       "                        <td id=\"T_2dd259b0_25f3_11ea_bf5f_f0189815766crow1_col4\" class=\"data row1 col4\" >90</td>\n",
       "                        <td id=\"T_2dd259b0_25f3_11ea_bf5f_f0189815766crow1_col5\" class=\"data row1 col5\" >93</td>\n",
       "                        <td id=\"T_2dd259b0_25f3_11ea_bf5f_f0189815766crow1_col6\" class=\"data row1 col6\" >43</td>\n",
       "                        <td id=\"T_2dd259b0_25f3_11ea_bf5f_f0189815766crow1_col7\" class=\"data row1 col7\" >-50</td>\n",
       "                        <td id=\"T_2dd259b0_25f3_11ea_bf5f_f0189815766crow1_col8\" class=\"data row1 col8\" >False</td>\n",
       "                        <td id=\"T_2dd259b0_25f3_11ea_bf5f_f0189815766crow1_col9\" class=\"data row1 col9\" >True</td>\n",
       "            </tr>\n",
       "            <tr>\n",
       "                        <th id=\"T_2dd259b0_25f3_11ea_bf5f_f0189815766clevel0_row2\" class=\"row_heading level0 row2\" >1</th>\n",
       "                        <td id=\"T_2dd259b0_25f3_11ea_bf5f_f0189815766crow2_col0\" class=\"data row2 col0\" >alaska</td>\n",
       "                        <td id=\"T_2dd259b0_25f3_11ea_bf5f_f0189815766crow2_col1\" class=\"data row2 col1\" >-27</td>\n",
       "                        <td id=\"T_2dd259b0_25f3_11ea_bf5f_f0189815766crow2_col2\" class=\"data row2 col2\" >38</td>\n",
       "                        <td id=\"T_2dd259b0_25f3_11ea_bf5f_f0189815766crow2_col3\" class=\"data row2 col3\" >43</td>\n",
       "                        <td id=\"T_2dd259b0_25f3_11ea_bf5f_f0189815766crow2_col4\" class=\"data row2 col4\" >5</td>\n",
       "                        <td id=\"T_2dd259b0_25f3_11ea_bf5f_f0189815766crow2_col5\" class=\"data row2 col5\" >65</td>\n",
       "                        <td id=\"T_2dd259b0_25f3_11ea_bf5f_f0189815766crow2_col6\" class=\"data row2 col6\" >33</td>\n",
       "                        <td id=\"T_2dd259b0_25f3_11ea_bf5f_f0189815766crow2_col7\" class=\"data row2 col7\" >-32</td>\n",
       "                        <td id=\"T_2dd259b0_25f3_11ea_bf5f_f0189815766crow2_col8\" class=\"data row2 col8\" >False</td>\n",
       "                        <td id=\"T_2dd259b0_25f3_11ea_bf5f_f0189815766crow2_col9\" class=\"data row2 col9\" >True</td>\n",
       "            </tr>\n",
       "            <tr>\n",
       "                        <th id=\"T_2dd259b0_25f3_11ea_bf5f_f0189815766clevel0_row3\" class=\"row_heading level0 row3\" >9</th>\n",
       "                        <td id=\"T_2dd259b0_25f3_11ea_bf5f_f0189815766crow3_col0\" class=\"data row3 col0\" >florida</td>\n",
       "                        <td id=\"T_2dd259b0_25f3_11ea_bf5f_f0189815766crow3_col1\" class=\"data row3 col1\" >7</td>\n",
       "                        <td id=\"T_2dd259b0_25f3_11ea_bf5f_f0189815766crow3_col2\" class=\"data row3 col2\" >83</td>\n",
       "                        <td id=\"T_2dd259b0_25f3_11ea_bf5f_f0189815766crow3_col3\" class=\"data row3 col3\" >97</td>\n",
       "                        <td id=\"T_2dd259b0_25f3_11ea_bf5f_f0189815766crow3_col4\" class=\"data row3 col4\" >14</td>\n",
       "                        <td id=\"T_2dd259b0_25f3_11ea_bf5f_f0189815766crow3_col5\" class=\"data row3 col5\" >73</td>\n",
       "                        <td id=\"T_2dd259b0_25f3_11ea_bf5f_f0189815766crow3_col6\" class=\"data row3 col6\" >66</td>\n",
       "                        <td id=\"T_2dd259b0_25f3_11ea_bf5f_f0189815766crow3_col7\" class=\"data row3 col7\" >-7</td>\n",
       "                        <td id=\"T_2dd259b0_25f3_11ea_bf5f_f0189815766crow3_col8\" class=\"data row3 col8\" >True</td>\n",
       "                        <td id=\"T_2dd259b0_25f3_11ea_bf5f_f0189815766crow3_col9\" class=\"data row3 col9\" >True</td>\n",
       "            </tr>\n",
       "            <tr>\n",
       "                        <th id=\"T_2dd259b0_25f3_11ea_bf5f_f0189815766clevel0_row4\" class=\"row_heading level0 row4\" >22</th>\n",
       "                        <td id=\"T_2dd259b0_25f3_11ea_bf5f_f0189815766crow4_col0\" class=\"data row4 col0\" >michigan</td>\n",
       "                        <td id=\"T_2dd259b0_25f3_11ea_bf5f_f0189815766crow4_col1\" class=\"data row4 col1\" >-7</td>\n",
       "                        <td id=\"T_2dd259b0_25f3_11ea_bf5f_f0189815766crow4_col2\" class=\"data row4 col2\" >100</td>\n",
       "                        <td id=\"T_2dd259b0_25f3_11ea_bf5f_f0189815766crow4_col3\" class=\"data row4 col3\" >100</td>\n",
       "                        <td id=\"T_2dd259b0_25f3_11ea_bf5f_f0189815766crow4_col4\" class=\"data row4 col4\" >0</td>\n",
       "                        <td id=\"T_2dd259b0_25f3_11ea_bf5f_f0189815766crow4_col5\" class=\"data row4 col5\" >29</td>\n",
       "                        <td id=\"T_2dd259b0_25f3_11ea_bf5f_f0189815766crow4_col6\" class=\"data row4 col6\" >22</td>\n",
       "                        <td id=\"T_2dd259b0_25f3_11ea_bf5f_f0189815766crow4_col7\" class=\"data row4 col7\" >-7</td>\n",
       "                        <td id=\"T_2dd259b0_25f3_11ea_bf5f_f0189815766crow4_col8\" class=\"data row4 col8\" >True</td>\n",
       "                        <td id=\"T_2dd259b0_25f3_11ea_bf5f_f0189815766crow4_col9\" class=\"data row4 col9\" >True</td>\n",
       "            </tr>\n",
       "    </tbody></table>"
      ],
      "text/plain": [
       "<pandas.io.formats.style.Styler at 0x1a2636c410>"
      ]
     },
     "metadata": {},
     "output_type": "display_data"
    }
   ],
   "source": [
    "# highest and lowest ACT participation increase\n",
    "display(df_value_sort_head(test_data,'act_part_inc',part_interest))\n",
    "display(df_value_sort_head(test_data,'act_part_inc',part_interest, ascend=True))"
   ]
  },
  {
   "cell_type": "markdown",
   "metadata": {},
   "source": [
    "**Of interest:**\n",
    "\n",
    "**Ohio & Nebraska**: Jump from strong ACT participation to universal\n",
    "\n",
    "**Alaska**: Huge drop in ACT participation and little change in SAT, went from ACT to SAT dominant"
   ]
  },
  {
   "cell_type": "code",
   "execution_count": 38,
   "metadata": {},
   "outputs": [
    {
     "data": {
      "text/html": [
       "<style  type=\"text/css\" >\n",
       "    #T_2dd5084a_25f3_11ea_bf5f_f0189815766crow0_col1 {\n",
       "            background-color:  yellow;\n",
       "        }    #T_2dd5084a_25f3_11ea_bf5f_f0189815766crow1_col1 {\n",
       "            background-color:  yellow;\n",
       "        }    #T_2dd5084a_25f3_11ea_bf5f_f0189815766crow2_col1 {\n",
       "            background-color:  yellow;\n",
       "        }    #T_2dd5084a_25f3_11ea_bf5f_f0189815766crow3_col1 {\n",
       "            background-color:  yellow;\n",
       "        }    #T_2dd5084a_25f3_11ea_bf5f_f0189815766crow4_col1 {\n",
       "            background-color:  yellow;\n",
       "        }</style><table id=\"T_2dd5084a_25f3_11ea_bf5f_f0189815766c\" ><thead>    <tr>        <th class=\"blank level0\" ></th>        <th class=\"col_heading level0 col0\" >state</th>        <th class=\"col_heading level0 col1\" >part_inc</th>        <th class=\"col_heading level0 col2\" >sat_part_17</th>        <th class=\"col_heading level0 col3\" >sat_part_18</th>        <th class=\"col_heading level0 col4\" >sat_part_inc</th>        <th class=\"col_heading level0 col5\" >act_part_17</th>        <th class=\"col_heading level0 col6\" >act_part_18</th>        <th class=\"col_heading level0 col7\" >act_part_inc</th>        <th class=\"col_heading level0 col8\" >sat_dom_17</th>        <th class=\"col_heading level0 col9\" >sat_dom_18</th>    </tr></thead><tbody>\n",
       "                <tr>\n",
       "                        <th id=\"T_2dd5084a_25f3_11ea_bf5f_f0189815766clevel0_row0\" class=\"row_heading level0 row0\" >13</th>\n",
       "                        <td id=\"T_2dd5084a_25f3_11ea_bf5f_f0189815766crow0_col0\" class=\"data row0 col0\" >illinois</td>\n",
       "                        <td id=\"T_2dd5084a_25f3_11ea_bf5f_f0189815766crow0_col1\" class=\"data row0 col1\" >40</td>\n",
       "                        <td id=\"T_2dd5084a_25f3_11ea_bf5f_f0189815766crow0_col2\" class=\"data row0 col2\" >9</td>\n",
       "                        <td id=\"T_2dd5084a_25f3_11ea_bf5f_f0189815766crow0_col3\" class=\"data row0 col3\" >99</td>\n",
       "                        <td id=\"T_2dd5084a_25f3_11ea_bf5f_f0189815766crow0_col4\" class=\"data row0 col4\" >90</td>\n",
       "                        <td id=\"T_2dd5084a_25f3_11ea_bf5f_f0189815766crow0_col5\" class=\"data row0 col5\" >93</td>\n",
       "                        <td id=\"T_2dd5084a_25f3_11ea_bf5f_f0189815766crow0_col6\" class=\"data row0 col6\" >43</td>\n",
       "                        <td id=\"T_2dd5084a_25f3_11ea_bf5f_f0189815766crow0_col7\" class=\"data row0 col7\" >-50</td>\n",
       "                        <td id=\"T_2dd5084a_25f3_11ea_bf5f_f0189815766crow0_col8\" class=\"data row0 col8\" >False</td>\n",
       "                        <td id=\"T_2dd5084a_25f3_11ea_bf5f_f0189815766crow0_col9\" class=\"data row0 col9\" >True</td>\n",
       "            </tr>\n",
       "            <tr>\n",
       "                        <th id=\"T_2dd5084a_25f3_11ea_bf5f_f0189815766clevel0_row1\" class=\"row_heading level0 row1\" >35</th>\n",
       "                        <td id=\"T_2dd5084a_25f3_11ea_bf5f_f0189815766crow1_col0\" class=\"data row1 col0\" >ohio</td>\n",
       "                        <td id=\"T_2dd5084a_25f3_11ea_bf5f_f0189815766crow1_col1\" class=\"data row1 col1\" >31</td>\n",
       "                        <td id=\"T_2dd5084a_25f3_11ea_bf5f_f0189815766crow1_col2\" class=\"data row1 col2\" >12</td>\n",
       "                        <td id=\"T_2dd5084a_25f3_11ea_bf5f_f0189815766crow1_col3\" class=\"data row1 col3\" >18</td>\n",
       "                        <td id=\"T_2dd5084a_25f3_11ea_bf5f_f0189815766crow1_col4\" class=\"data row1 col4\" >6</td>\n",
       "                        <td id=\"T_2dd5084a_25f3_11ea_bf5f_f0189815766crow1_col5\" class=\"data row1 col5\" >75</td>\n",
       "                        <td id=\"T_2dd5084a_25f3_11ea_bf5f_f0189815766crow1_col6\" class=\"data row1 col6\" >100</td>\n",
       "                        <td id=\"T_2dd5084a_25f3_11ea_bf5f_f0189815766crow1_col7\" class=\"data row1 col7\" >25</td>\n",
       "                        <td id=\"T_2dd5084a_25f3_11ea_bf5f_f0189815766crow1_col8\" class=\"data row1 col8\" >False</td>\n",
       "                        <td id=\"T_2dd5084a_25f3_11ea_bf5f_f0189815766crow1_col9\" class=\"data row1 col9\" >False</td>\n",
       "            </tr>\n",
       "            <tr>\n",
       "                        <th id=\"T_2dd5084a_25f3_11ea_bf5f_f0189815766clevel0_row2\" class=\"row_heading level0 row2\" >39</th>\n",
       "                        <td id=\"T_2dd5084a_25f3_11ea_bf5f_f0189815766crow2_col0\" class=\"data row2 col0\" >rhode island</td>\n",
       "                        <td id=\"T_2dd5084a_25f3_11ea_bf5f_f0189815766crow2_col1\" class=\"data row2 col1\" >20</td>\n",
       "                        <td id=\"T_2dd5084a_25f3_11ea_bf5f_f0189815766crow2_col2\" class=\"data row2 col2\" >71</td>\n",
       "                        <td id=\"T_2dd5084a_25f3_11ea_bf5f_f0189815766crow2_col3\" class=\"data row2 col3\" >97</td>\n",
       "                        <td id=\"T_2dd5084a_25f3_11ea_bf5f_f0189815766crow2_col4\" class=\"data row2 col4\" >26</td>\n",
       "                        <td id=\"T_2dd5084a_25f3_11ea_bf5f_f0189815766crow2_col5\" class=\"data row2 col5\" >21</td>\n",
       "                        <td id=\"T_2dd5084a_25f3_11ea_bf5f_f0189815766crow2_col6\" class=\"data row2 col6\" >15</td>\n",
       "                        <td id=\"T_2dd5084a_25f3_11ea_bf5f_f0189815766crow2_col7\" class=\"data row2 col7\" >-6</td>\n",
       "                        <td id=\"T_2dd5084a_25f3_11ea_bf5f_f0189815766crow2_col8\" class=\"data row2 col8\" >True</td>\n",
       "                        <td id=\"T_2dd5084a_25f3_11ea_bf5f_f0189815766crow2_col9\" class=\"data row2 col9\" >True</td>\n",
       "            </tr>\n",
       "            <tr>\n",
       "                        <th id=\"T_2dd5084a_25f3_11ea_bf5f_f0189815766clevel0_row3\" class=\"row_heading level0 row3\" >5</th>\n",
       "                        <td id=\"T_2dd5084a_25f3_11ea_bf5f_f0189815766crow3_col0\" class=\"data row3 col0\" >colorado</td>\n",
       "                        <td id=\"T_2dd5084a_25f3_11ea_bf5f_f0189815766crow3_col1\" class=\"data row3 col1\" >19</td>\n",
       "                        <td id=\"T_2dd5084a_25f3_11ea_bf5f_f0189815766crow3_col2\" class=\"data row3 col2\" >11</td>\n",
       "                        <td id=\"T_2dd5084a_25f3_11ea_bf5f_f0189815766crow3_col3\" class=\"data row3 col3\" >100</td>\n",
       "                        <td id=\"T_2dd5084a_25f3_11ea_bf5f_f0189815766crow3_col4\" class=\"data row3 col4\" >89</td>\n",
       "                        <td id=\"T_2dd5084a_25f3_11ea_bf5f_f0189815766crow3_col5\" class=\"data row3 col5\" >100</td>\n",
       "                        <td id=\"T_2dd5084a_25f3_11ea_bf5f_f0189815766crow3_col6\" class=\"data row3 col6\" >30</td>\n",
       "                        <td id=\"T_2dd5084a_25f3_11ea_bf5f_f0189815766crow3_col7\" class=\"data row3 col7\" >-70</td>\n",
       "                        <td id=\"T_2dd5084a_25f3_11ea_bf5f_f0189815766crow3_col8\" class=\"data row3 col8\" >False</td>\n",
       "                        <td id=\"T_2dd5084a_25f3_11ea_bf5f_f0189815766crow3_col9\" class=\"data row3 col9\" >True</td>\n",
       "            </tr>\n",
       "            <tr>\n",
       "                        <th id=\"T_2dd5084a_25f3_11ea_bf5f_f0189815766clevel0_row4\" class=\"row_heading level0 row4\" >27</th>\n",
       "                        <td id=\"T_2dd5084a_25f3_11ea_bf5f_f0189815766crow4_col0\" class=\"data row4 col0\" >nebraska</td>\n",
       "                        <td id=\"T_2dd5084a_25f3_11ea_bf5f_f0189815766crow4_col1\" class=\"data row4 col1\" >16</td>\n",
       "                        <td id=\"T_2dd5084a_25f3_11ea_bf5f_f0189815766crow4_col2\" class=\"data row4 col2\" >3</td>\n",
       "                        <td id=\"T_2dd5084a_25f3_11ea_bf5f_f0189815766crow4_col3\" class=\"data row4 col3\" >3</td>\n",
       "                        <td id=\"T_2dd5084a_25f3_11ea_bf5f_f0189815766crow4_col4\" class=\"data row4 col4\" >0</td>\n",
       "                        <td id=\"T_2dd5084a_25f3_11ea_bf5f_f0189815766crow4_col5\" class=\"data row4 col5\" >84</td>\n",
       "                        <td id=\"T_2dd5084a_25f3_11ea_bf5f_f0189815766crow4_col6\" class=\"data row4 col6\" >100</td>\n",
       "                        <td id=\"T_2dd5084a_25f3_11ea_bf5f_f0189815766crow4_col7\" class=\"data row4 col7\" >16</td>\n",
       "                        <td id=\"T_2dd5084a_25f3_11ea_bf5f_f0189815766crow4_col8\" class=\"data row4 col8\" >False</td>\n",
       "                        <td id=\"T_2dd5084a_25f3_11ea_bf5f_f0189815766crow4_col9\" class=\"data row4 col9\" >False</td>\n",
       "            </tr>\n",
       "    </tbody></table>"
      ],
      "text/plain": [
       "<pandas.io.formats.style.Styler at 0x1a263c6110>"
      ]
     },
     "metadata": {},
     "output_type": "display_data"
    },
    {
     "data": {
      "text/html": [
       "<style  type=\"text/css\" >\n",
       "    #T_2ddc161c_25f3_11ea_bf5f_f0189815766crow0_col1 {\n",
       "            background-color:  yellow;\n",
       "        }    #T_2ddc161c_25f3_11ea_bf5f_f0189815766crow1_col1 {\n",
       "            background-color:  yellow;\n",
       "        }    #T_2ddc161c_25f3_11ea_bf5f_f0189815766crow2_col1 {\n",
       "            background-color:  yellow;\n",
       "        }    #T_2ddc161c_25f3_11ea_bf5f_f0189815766crow3_col1 {\n",
       "            background-color:  yellow;\n",
       "        }    #T_2ddc161c_25f3_11ea_bf5f_f0189815766crow4_col1 {\n",
       "            background-color:  yellow;\n",
       "        }</style><table id=\"T_2ddc161c_25f3_11ea_bf5f_f0189815766c\" ><thead>    <tr>        <th class=\"blank level0\" ></th>        <th class=\"col_heading level0 col0\" >state</th>        <th class=\"col_heading level0 col1\" >part_inc</th>        <th class=\"col_heading level0 col2\" >sat_part_17</th>        <th class=\"col_heading level0 col3\" >sat_part_18</th>        <th class=\"col_heading level0 col4\" >sat_part_inc</th>        <th class=\"col_heading level0 col5\" >act_part_17</th>        <th class=\"col_heading level0 col6\" >act_part_18</th>        <th class=\"col_heading level0 col7\" >act_part_inc</th>        <th class=\"col_heading level0 col8\" >sat_dom_17</th>        <th class=\"col_heading level0 col9\" >sat_dom_18</th>    </tr></thead><tbody>\n",
       "                <tr>\n",
       "                        <th id=\"T_2ddc161c_25f3_11ea_bf5f_f0189815766clevel0_row0\" class=\"row_heading level0 row0\" >1</th>\n",
       "                        <td id=\"T_2ddc161c_25f3_11ea_bf5f_f0189815766crow0_col0\" class=\"data row0 col0\" >alaska</td>\n",
       "                        <td id=\"T_2ddc161c_25f3_11ea_bf5f_f0189815766crow0_col1\" class=\"data row0 col1\" >-27</td>\n",
       "                        <td id=\"T_2ddc161c_25f3_11ea_bf5f_f0189815766crow0_col2\" class=\"data row0 col2\" >38</td>\n",
       "                        <td id=\"T_2ddc161c_25f3_11ea_bf5f_f0189815766crow0_col3\" class=\"data row0 col3\" >43</td>\n",
       "                        <td id=\"T_2ddc161c_25f3_11ea_bf5f_f0189815766crow0_col4\" class=\"data row0 col4\" >5</td>\n",
       "                        <td id=\"T_2ddc161c_25f3_11ea_bf5f_f0189815766crow0_col5\" class=\"data row0 col5\" >65</td>\n",
       "                        <td id=\"T_2ddc161c_25f3_11ea_bf5f_f0189815766crow0_col6\" class=\"data row0 col6\" >33</td>\n",
       "                        <td id=\"T_2ddc161c_25f3_11ea_bf5f_f0189815766crow0_col7\" class=\"data row0 col7\" >-32</td>\n",
       "                        <td id=\"T_2ddc161c_25f3_11ea_bf5f_f0189815766crow0_col8\" class=\"data row0 col8\" >False</td>\n",
       "                        <td id=\"T_2ddc161c_25f3_11ea_bf5f_f0189815766crow0_col9\" class=\"data row0 col9\" >True</td>\n",
       "            </tr>\n",
       "            <tr>\n",
       "                        <th id=\"T_2ddc161c_25f3_11ea_bf5f_f0189815766clevel0_row1\" class=\"row_heading level0 row1\" >8</th>\n",
       "                        <td id=\"T_2ddc161c_25f3_11ea_bf5f_f0189815766crow1_col0\" class=\"data row1 col0\" >district of columbia</td>\n",
       "                        <td id=\"T_2ddc161c_25f3_11ea_bf5f_f0189815766crow1_col1\" class=\"data row1 col1\" >-8</td>\n",
       "                        <td id=\"T_2ddc161c_25f3_11ea_bf5f_f0189815766crow1_col2\" class=\"data row1 col2\" >100</td>\n",
       "                        <td id=\"T_2ddc161c_25f3_11ea_bf5f_f0189815766crow1_col3\" class=\"data row1 col3\" >92</td>\n",
       "                        <td id=\"T_2ddc161c_25f3_11ea_bf5f_f0189815766crow1_col4\" class=\"data row1 col4\" >-8</td>\n",
       "                        <td id=\"T_2ddc161c_25f3_11ea_bf5f_f0189815766crow1_col5\" class=\"data row1 col5\" >32</td>\n",
       "                        <td id=\"T_2ddc161c_25f3_11ea_bf5f_f0189815766crow1_col6\" class=\"data row1 col6\" >32</td>\n",
       "                        <td id=\"T_2ddc161c_25f3_11ea_bf5f_f0189815766crow1_col7\" class=\"data row1 col7\" >0</td>\n",
       "                        <td id=\"T_2ddc161c_25f3_11ea_bf5f_f0189815766crow1_col8\" class=\"data row1 col8\" >True</td>\n",
       "                        <td id=\"T_2ddc161c_25f3_11ea_bf5f_f0189815766crow1_col9\" class=\"data row1 col9\" >True</td>\n",
       "            </tr>\n",
       "            <tr>\n",
       "                        <th id=\"T_2ddc161c_25f3_11ea_bf5f_f0189815766clevel0_row2\" class=\"row_heading level0 row2\" >22</th>\n",
       "                        <td id=\"T_2ddc161c_25f3_11ea_bf5f_f0189815766crow2_col0\" class=\"data row2 col0\" >michigan</td>\n",
       "                        <td id=\"T_2ddc161c_25f3_11ea_bf5f_f0189815766crow2_col1\" class=\"data row2 col1\" >-7</td>\n",
       "                        <td id=\"T_2ddc161c_25f3_11ea_bf5f_f0189815766crow2_col2\" class=\"data row2 col2\" >100</td>\n",
       "                        <td id=\"T_2ddc161c_25f3_11ea_bf5f_f0189815766crow2_col3\" class=\"data row2 col3\" >100</td>\n",
       "                        <td id=\"T_2ddc161c_25f3_11ea_bf5f_f0189815766crow2_col4\" class=\"data row2 col4\" >0</td>\n",
       "                        <td id=\"T_2ddc161c_25f3_11ea_bf5f_f0189815766crow2_col5\" class=\"data row2 col5\" >29</td>\n",
       "                        <td id=\"T_2ddc161c_25f3_11ea_bf5f_f0189815766crow2_col6\" class=\"data row2 col6\" >22</td>\n",
       "                        <td id=\"T_2ddc161c_25f3_11ea_bf5f_f0189815766crow2_col7\" class=\"data row2 col7\" >-7</td>\n",
       "                        <td id=\"T_2ddc161c_25f3_11ea_bf5f_f0189815766crow2_col8\" class=\"data row2 col8\" >True</td>\n",
       "                        <td id=\"T_2ddc161c_25f3_11ea_bf5f_f0189815766crow2_col9\" class=\"data row2 col9\" >True</td>\n",
       "            </tr>\n",
       "            <tr>\n",
       "                        <th id=\"T_2ddc161c_25f3_11ea_bf5f_f0189815766clevel0_row3\" class=\"row_heading level0 row3\" >6</th>\n",
       "                        <td id=\"T_2ddc161c_25f3_11ea_bf5f_f0189815766crow3_col0\" class=\"data row3 col0\" >connecticut</td>\n",
       "                        <td id=\"T_2ddc161c_25f3_11ea_bf5f_f0189815766crow3_col1\" class=\"data row3 col1\" >-5</td>\n",
       "                        <td id=\"T_2ddc161c_25f3_11ea_bf5f_f0189815766crow3_col2\" class=\"data row3 col2\" >100</td>\n",
       "                        <td id=\"T_2ddc161c_25f3_11ea_bf5f_f0189815766crow3_col3\" class=\"data row3 col3\" >100</td>\n",
       "                        <td id=\"T_2ddc161c_25f3_11ea_bf5f_f0189815766crow3_col4\" class=\"data row3 col4\" >0</td>\n",
       "                        <td id=\"T_2ddc161c_25f3_11ea_bf5f_f0189815766crow3_col5\" class=\"data row3 col5\" >31</td>\n",
       "                        <td id=\"T_2ddc161c_25f3_11ea_bf5f_f0189815766crow3_col6\" class=\"data row3 col6\" >26</td>\n",
       "                        <td id=\"T_2ddc161c_25f3_11ea_bf5f_f0189815766crow3_col7\" class=\"data row3 col7\" >-5</td>\n",
       "                        <td id=\"T_2ddc161c_25f3_11ea_bf5f_f0189815766crow3_col8\" class=\"data row3 col8\" >True</td>\n",
       "                        <td id=\"T_2ddc161c_25f3_11ea_bf5f_f0189815766crow3_col9\" class=\"data row3 col9\" >True</td>\n",
       "            </tr>\n",
       "            <tr>\n",
       "                        <th id=\"T_2ddc161c_25f3_11ea_bf5f_f0189815766clevel0_row4\" class=\"row_heading level0 row4\" >14</th>\n",
       "                        <td id=\"T_2ddc161c_25f3_11ea_bf5f_f0189815766crow4_col0\" class=\"data row4 col0\" >indiana</td>\n",
       "                        <td id=\"T_2ddc161c_25f3_11ea_bf5f_f0189815766crow4_col1\" class=\"data row4 col1\" >-3</td>\n",
       "                        <td id=\"T_2ddc161c_25f3_11ea_bf5f_f0189815766crow4_col2\" class=\"data row4 col2\" >63</td>\n",
       "                        <td id=\"T_2ddc161c_25f3_11ea_bf5f_f0189815766crow4_col3\" class=\"data row4 col3\" >63</td>\n",
       "                        <td id=\"T_2ddc161c_25f3_11ea_bf5f_f0189815766crow4_col4\" class=\"data row4 col4\" >0</td>\n",
       "                        <td id=\"T_2ddc161c_25f3_11ea_bf5f_f0189815766crow4_col5\" class=\"data row4 col5\" >35</td>\n",
       "                        <td id=\"T_2ddc161c_25f3_11ea_bf5f_f0189815766crow4_col6\" class=\"data row4 col6\" >32</td>\n",
       "                        <td id=\"T_2ddc161c_25f3_11ea_bf5f_f0189815766crow4_col7\" class=\"data row4 col7\" >-3</td>\n",
       "                        <td id=\"T_2ddc161c_25f3_11ea_bf5f_f0189815766crow4_col8\" class=\"data row4 col8\" >True</td>\n",
       "                        <td id=\"T_2ddc161c_25f3_11ea_bf5f_f0189815766crow4_col9\" class=\"data row4 col9\" >True</td>\n",
       "            </tr>\n",
       "    </tbody></table>"
      ],
      "text/plain": [
       "<pandas.io.formats.style.Styler at 0x1a263503d0>"
      ]
     },
     "metadata": {},
     "output_type": "display_data"
    }
   ],
   "source": [
    "# highest and lowest combined participation increase\n",
    "display(df_value_sort_head(test_data,'part_inc',part_interest))\n",
    "display(df_value_sort_head(test_data,'part_inc',part_interest, ascend=True))"
   ]
  },
  {
   "cell_type": "markdown",
   "metadata": {},
   "source": [
    "**Of interest**: \n",
    "\n",
    "**Distric of Columbia**: Drops from 100% SAT participation in 2017 to 92% in 2018"
   ]
  },
  {
   "cell_type": "code",
   "execution_count": 39,
   "metadata": {
    "scrolled": false
   },
   "outputs": [
    {
     "data": {
      "text/html": [
       "<style  type=\"text/css\" >\n",
       "    #T_2de18750_25f3_11ea_bf5f_f0189815766crow0_col2 {\n",
       "            background-color:  yellow;\n",
       "        }    #T_2de18750_25f3_11ea_bf5f_f0189815766crow1_col2 {\n",
       "            background-color:  yellow;\n",
       "        }    #T_2de18750_25f3_11ea_bf5f_f0189815766crow2_col2 {\n",
       "            background-color:  yellow;\n",
       "        }    #T_2de18750_25f3_11ea_bf5f_f0189815766crow3_col2 {\n",
       "            background-color:  yellow;\n",
       "        }    #T_2de18750_25f3_11ea_bf5f_f0189815766crow4_col2 {\n",
       "            background-color:  yellow;\n",
       "        }</style><table id=\"T_2de18750_25f3_11ea_bf5f_f0189815766c\" ><thead>    <tr>        <th class=\"blank level0\" ></th>        <th class=\"col_heading level0 col0\" >state</th>        <th class=\"col_heading level0 col1\" >part_inc</th>        <th class=\"col_heading level0 col2\" >sat_part_17</th>        <th class=\"col_heading level0 col3\" >sat_part_18</th>        <th class=\"col_heading level0 col4\" >sat_part_inc</th>        <th class=\"col_heading level0 col5\" >act_part_17</th>        <th class=\"col_heading level0 col6\" >act_part_18</th>        <th class=\"col_heading level0 col7\" >act_part_inc</th>        <th class=\"col_heading level0 col8\" >sat_dom_17</th>        <th class=\"col_heading level0 col9\" >sat_dom_18</th>    </tr></thead><tbody>\n",
       "                <tr>\n",
       "                        <th id=\"T_2de18750_25f3_11ea_bf5f_f0189815766clevel0_row0\" class=\"row_heading level0 row0\" >8</th>\n",
       "                        <td id=\"T_2de18750_25f3_11ea_bf5f_f0189815766crow0_col0\" class=\"data row0 col0\" >district of columbia</td>\n",
       "                        <td id=\"T_2de18750_25f3_11ea_bf5f_f0189815766crow0_col1\" class=\"data row0 col1\" >-8</td>\n",
       "                        <td id=\"T_2de18750_25f3_11ea_bf5f_f0189815766crow0_col2\" class=\"data row0 col2\" >100</td>\n",
       "                        <td id=\"T_2de18750_25f3_11ea_bf5f_f0189815766crow0_col3\" class=\"data row0 col3\" >92</td>\n",
       "                        <td id=\"T_2de18750_25f3_11ea_bf5f_f0189815766crow0_col4\" class=\"data row0 col4\" >-8</td>\n",
       "                        <td id=\"T_2de18750_25f3_11ea_bf5f_f0189815766crow0_col5\" class=\"data row0 col5\" >32</td>\n",
       "                        <td id=\"T_2de18750_25f3_11ea_bf5f_f0189815766crow0_col6\" class=\"data row0 col6\" >32</td>\n",
       "                        <td id=\"T_2de18750_25f3_11ea_bf5f_f0189815766crow0_col7\" class=\"data row0 col7\" >0</td>\n",
       "                        <td id=\"T_2de18750_25f3_11ea_bf5f_f0189815766crow0_col8\" class=\"data row0 col8\" >True</td>\n",
       "                        <td id=\"T_2de18750_25f3_11ea_bf5f_f0189815766crow0_col9\" class=\"data row0 col9\" >True</td>\n",
       "            </tr>\n",
       "            <tr>\n",
       "                        <th id=\"T_2de18750_25f3_11ea_bf5f_f0189815766clevel0_row1\" class=\"row_heading level0 row1\" >22</th>\n",
       "                        <td id=\"T_2de18750_25f3_11ea_bf5f_f0189815766crow1_col0\" class=\"data row1 col0\" >michigan</td>\n",
       "                        <td id=\"T_2de18750_25f3_11ea_bf5f_f0189815766crow1_col1\" class=\"data row1 col1\" >-7</td>\n",
       "                        <td id=\"T_2de18750_25f3_11ea_bf5f_f0189815766crow1_col2\" class=\"data row1 col2\" >100</td>\n",
       "                        <td id=\"T_2de18750_25f3_11ea_bf5f_f0189815766crow1_col3\" class=\"data row1 col3\" >100</td>\n",
       "                        <td id=\"T_2de18750_25f3_11ea_bf5f_f0189815766crow1_col4\" class=\"data row1 col4\" >0</td>\n",
       "                        <td id=\"T_2de18750_25f3_11ea_bf5f_f0189815766crow1_col5\" class=\"data row1 col5\" >29</td>\n",
       "                        <td id=\"T_2de18750_25f3_11ea_bf5f_f0189815766crow1_col6\" class=\"data row1 col6\" >22</td>\n",
       "                        <td id=\"T_2de18750_25f3_11ea_bf5f_f0189815766crow1_col7\" class=\"data row1 col7\" >-7</td>\n",
       "                        <td id=\"T_2de18750_25f3_11ea_bf5f_f0189815766crow1_col8\" class=\"data row1 col8\" >True</td>\n",
       "                        <td id=\"T_2de18750_25f3_11ea_bf5f_f0189815766crow1_col9\" class=\"data row1 col9\" >True</td>\n",
       "            </tr>\n",
       "            <tr>\n",
       "                        <th id=\"T_2de18750_25f3_11ea_bf5f_f0189815766clevel0_row2\" class=\"row_heading level0 row2\" >6</th>\n",
       "                        <td id=\"T_2de18750_25f3_11ea_bf5f_f0189815766crow2_col0\" class=\"data row2 col0\" >connecticut</td>\n",
       "                        <td id=\"T_2de18750_25f3_11ea_bf5f_f0189815766crow2_col1\" class=\"data row2 col1\" >-5</td>\n",
       "                        <td id=\"T_2de18750_25f3_11ea_bf5f_f0189815766crow2_col2\" class=\"data row2 col2\" >100</td>\n",
       "                        <td id=\"T_2de18750_25f3_11ea_bf5f_f0189815766crow2_col3\" class=\"data row2 col3\" >100</td>\n",
       "                        <td id=\"T_2de18750_25f3_11ea_bf5f_f0189815766crow2_col4\" class=\"data row2 col4\" >0</td>\n",
       "                        <td id=\"T_2de18750_25f3_11ea_bf5f_f0189815766crow2_col5\" class=\"data row2 col5\" >31</td>\n",
       "                        <td id=\"T_2de18750_25f3_11ea_bf5f_f0189815766crow2_col6\" class=\"data row2 col6\" >26</td>\n",
       "                        <td id=\"T_2de18750_25f3_11ea_bf5f_f0189815766crow2_col7\" class=\"data row2 col7\" >-5</td>\n",
       "                        <td id=\"T_2de18750_25f3_11ea_bf5f_f0189815766crow2_col8\" class=\"data row2 col8\" >True</td>\n",
       "                        <td id=\"T_2de18750_25f3_11ea_bf5f_f0189815766crow2_col9\" class=\"data row2 col9\" >True</td>\n",
       "            </tr>\n",
       "            <tr>\n",
       "                        <th id=\"T_2de18750_25f3_11ea_bf5f_f0189815766clevel0_row3\" class=\"row_heading level0 row3\" >7</th>\n",
       "                        <td id=\"T_2de18750_25f3_11ea_bf5f_f0189815766crow3_col0\" class=\"data row3 col0\" >delaware</td>\n",
       "                        <td id=\"T_2de18750_25f3_11ea_bf5f_f0189815766crow3_col1\" class=\"data row3 col1\" >-1</td>\n",
       "                        <td id=\"T_2de18750_25f3_11ea_bf5f_f0189815766crow3_col2\" class=\"data row3 col2\" >100</td>\n",
       "                        <td id=\"T_2de18750_25f3_11ea_bf5f_f0189815766crow3_col3\" class=\"data row3 col3\" >100</td>\n",
       "                        <td id=\"T_2de18750_25f3_11ea_bf5f_f0189815766crow3_col4\" class=\"data row3 col4\" >0</td>\n",
       "                        <td id=\"T_2de18750_25f3_11ea_bf5f_f0189815766crow3_col5\" class=\"data row3 col5\" >18</td>\n",
       "                        <td id=\"T_2de18750_25f3_11ea_bf5f_f0189815766crow3_col6\" class=\"data row3 col6\" >17</td>\n",
       "                        <td id=\"T_2de18750_25f3_11ea_bf5f_f0189815766crow3_col7\" class=\"data row3 col7\" >-1</td>\n",
       "                        <td id=\"T_2de18750_25f3_11ea_bf5f_f0189815766crow3_col8\" class=\"data row3 col8\" >True</td>\n",
       "                        <td id=\"T_2de18750_25f3_11ea_bf5f_f0189815766crow3_col9\" class=\"data row3 col9\" >True</td>\n",
       "            </tr>\n",
       "            <tr>\n",
       "                        <th id=\"T_2de18750_25f3_11ea_bf5f_f0189815766clevel0_row4\" class=\"row_heading level0 row4\" >29</th>\n",
       "                        <td id=\"T_2de18750_25f3_11ea_bf5f_f0189815766crow4_col0\" class=\"data row4 col0\" >new hampshire</td>\n",
       "                        <td id=\"T_2de18750_25f3_11ea_bf5f_f0189815766crow4_col1\" class=\"data row4 col1\" >-2</td>\n",
       "                        <td id=\"T_2de18750_25f3_11ea_bf5f_f0189815766crow4_col2\" class=\"data row4 col2\" >96</td>\n",
       "                        <td id=\"T_2de18750_25f3_11ea_bf5f_f0189815766crow4_col3\" class=\"data row4 col3\" >96</td>\n",
       "                        <td id=\"T_2de18750_25f3_11ea_bf5f_f0189815766crow4_col4\" class=\"data row4 col4\" >0</td>\n",
       "                        <td id=\"T_2de18750_25f3_11ea_bf5f_f0189815766crow4_col5\" class=\"data row4 col5\" >18</td>\n",
       "                        <td id=\"T_2de18750_25f3_11ea_bf5f_f0189815766crow4_col6\" class=\"data row4 col6\" >16</td>\n",
       "                        <td id=\"T_2de18750_25f3_11ea_bf5f_f0189815766crow4_col7\" class=\"data row4 col7\" >-2</td>\n",
       "                        <td id=\"T_2de18750_25f3_11ea_bf5f_f0189815766crow4_col8\" class=\"data row4 col8\" >True</td>\n",
       "                        <td id=\"T_2de18750_25f3_11ea_bf5f_f0189815766crow4_col9\" class=\"data row4 col9\" >True</td>\n",
       "            </tr>\n",
       "    </tbody></table>"
      ],
      "text/plain": [
       "<pandas.io.formats.style.Styler at 0x1a263c6f90>"
      ]
     },
     "metadata": {},
     "output_type": "display_data"
    },
    {
     "data": {
      "text/html": [
       "<style  type=\"text/css\" >\n",
       "    #T_2de38e4c_25f3_11ea_bf5f_f0189815766crow0_col2 {\n",
       "            background-color:  yellow;\n",
       "        }    #T_2de38e4c_25f3_11ea_bf5f_f0189815766crow1_col2 {\n",
       "            background-color:  yellow;\n",
       "        }    #T_2de38e4c_25f3_11ea_bf5f_f0189815766crow2_col2 {\n",
       "            background-color:  yellow;\n",
       "        }    #T_2de38e4c_25f3_11ea_bf5f_f0189815766crow3_col2 {\n",
       "            background-color:  yellow;\n",
       "        }    #T_2de38e4c_25f3_11ea_bf5f_f0189815766crow4_col2 {\n",
       "            background-color:  yellow;\n",
       "        }</style><table id=\"T_2de38e4c_25f3_11ea_bf5f_f0189815766c\" ><thead>    <tr>        <th class=\"blank level0\" ></th>        <th class=\"col_heading level0 col0\" >state</th>        <th class=\"col_heading level0 col1\" >part_inc</th>        <th class=\"col_heading level0 col2\" >sat_part_17</th>        <th class=\"col_heading level0 col3\" >sat_part_18</th>        <th class=\"col_heading level0 col4\" >sat_part_inc</th>        <th class=\"col_heading level0 col5\" >act_part_17</th>        <th class=\"col_heading level0 col6\" >act_part_18</th>        <th class=\"col_heading level0 col7\" >act_part_inc</th>        <th class=\"col_heading level0 col8\" >sat_dom_17</th>        <th class=\"col_heading level0 col9\" >sat_dom_18</th>    </tr></thead><tbody>\n",
       "                <tr>\n",
       "                        <th id=\"T_2de38e4c_25f3_11ea_bf5f_f0189815766clevel0_row0\" class=\"row_heading level0 row0\" >34</th>\n",
       "                        <td id=\"T_2de38e4c_25f3_11ea_bf5f_f0189815766crow0_col0\" class=\"data row0 col0\" >north dakota</td>\n",
       "                        <td id=\"T_2de38e4c_25f3_11ea_bf5f_f0189815766crow0_col1\" class=\"data row0 col1\" >0</td>\n",
       "                        <td id=\"T_2de38e4c_25f3_11ea_bf5f_f0189815766crow0_col2\" class=\"data row0 col2\" >2</td>\n",
       "                        <td id=\"T_2de38e4c_25f3_11ea_bf5f_f0189815766crow0_col3\" class=\"data row0 col3\" >2</td>\n",
       "                        <td id=\"T_2de38e4c_25f3_11ea_bf5f_f0189815766crow0_col4\" class=\"data row0 col4\" >0</td>\n",
       "                        <td id=\"T_2de38e4c_25f3_11ea_bf5f_f0189815766crow0_col5\" class=\"data row0 col5\" >98</td>\n",
       "                        <td id=\"T_2de38e4c_25f3_11ea_bf5f_f0189815766crow0_col6\" class=\"data row0 col6\" >98</td>\n",
       "                        <td id=\"T_2de38e4c_25f3_11ea_bf5f_f0189815766crow0_col7\" class=\"data row0 col7\" >0</td>\n",
       "                        <td id=\"T_2de38e4c_25f3_11ea_bf5f_f0189815766crow0_col8\" class=\"data row0 col8\" >False</td>\n",
       "                        <td id=\"T_2de38e4c_25f3_11ea_bf5f_f0189815766crow0_col9\" class=\"data row0 col9\" >False</td>\n",
       "            </tr>\n",
       "            <tr>\n",
       "                        <th id=\"T_2de38e4c_25f3_11ea_bf5f_f0189815766clevel0_row1\" class=\"row_heading level0 row1\" >24</th>\n",
       "                        <td id=\"T_2de38e4c_25f3_11ea_bf5f_f0189815766crow1_col0\" class=\"data row1 col0\" >mississippi</td>\n",
       "                        <td id=\"T_2de38e4c_25f3_11ea_bf5f_f0189815766crow1_col1\" class=\"data row1 col1\" >1</td>\n",
       "                        <td id=\"T_2de38e4c_25f3_11ea_bf5f_f0189815766crow1_col2\" class=\"data row1 col2\" >2</td>\n",
       "                        <td id=\"T_2de38e4c_25f3_11ea_bf5f_f0189815766crow1_col3\" class=\"data row1 col3\" >3</td>\n",
       "                        <td id=\"T_2de38e4c_25f3_11ea_bf5f_f0189815766crow1_col4\" class=\"data row1 col4\" >1</td>\n",
       "                        <td id=\"T_2de38e4c_25f3_11ea_bf5f_f0189815766crow1_col5\" class=\"data row1 col5\" >100</td>\n",
       "                        <td id=\"T_2de38e4c_25f3_11ea_bf5f_f0189815766crow1_col6\" class=\"data row1 col6\" >100</td>\n",
       "                        <td id=\"T_2de38e4c_25f3_11ea_bf5f_f0189815766crow1_col7\" class=\"data row1 col7\" >0</td>\n",
       "                        <td id=\"T_2de38e4c_25f3_11ea_bf5f_f0189815766crow1_col8\" class=\"data row1 col8\" >False</td>\n",
       "                        <td id=\"T_2de38e4c_25f3_11ea_bf5f_f0189815766crow1_col9\" class=\"data row1 col9\" >False</td>\n",
       "            </tr>\n",
       "            <tr>\n",
       "                        <th id=\"T_2de38e4c_25f3_11ea_bf5f_f0189815766clevel0_row2\" class=\"row_heading level0 row2\" >15</th>\n",
       "                        <td id=\"T_2de38e4c_25f3_11ea_bf5f_f0189815766crow2_col0\" class=\"data row2 col0\" >iowa</td>\n",
       "                        <td id=\"T_2de38e4c_25f3_11ea_bf5f_f0189815766crow2_col1\" class=\"data row2 col1\" >2</td>\n",
       "                        <td id=\"T_2de38e4c_25f3_11ea_bf5f_f0189815766crow2_col2\" class=\"data row2 col2\" >2</td>\n",
       "                        <td id=\"T_2de38e4c_25f3_11ea_bf5f_f0189815766crow2_col3\" class=\"data row2 col3\" >3</td>\n",
       "                        <td id=\"T_2de38e4c_25f3_11ea_bf5f_f0189815766crow2_col4\" class=\"data row2 col4\" >1</td>\n",
       "                        <td id=\"T_2de38e4c_25f3_11ea_bf5f_f0189815766crow2_col5\" class=\"data row2 col5\" >67</td>\n",
       "                        <td id=\"T_2de38e4c_25f3_11ea_bf5f_f0189815766crow2_col6\" class=\"data row2 col6\" >68</td>\n",
       "                        <td id=\"T_2de38e4c_25f3_11ea_bf5f_f0189815766crow2_col7\" class=\"data row2 col7\" >1</td>\n",
       "                        <td id=\"T_2de38e4c_25f3_11ea_bf5f_f0189815766crow2_col8\" class=\"data row2 col8\" >False</td>\n",
       "                        <td id=\"T_2de38e4c_25f3_11ea_bf5f_f0189815766crow2_col9\" class=\"data row2 col9\" >False</td>\n",
       "            </tr>\n",
       "            <tr>\n",
       "                        <th id=\"T_2de38e4c_25f3_11ea_bf5f_f0189815766clevel0_row3\" class=\"row_heading level0 row3\" >25</th>\n",
       "                        <td id=\"T_2de38e4c_25f3_11ea_bf5f_f0189815766crow3_col0\" class=\"data row3 col0\" >missouri</td>\n",
       "                        <td id=\"T_2de38e4c_25f3_11ea_bf5f_f0189815766crow3_col1\" class=\"data row3 col1\" >1</td>\n",
       "                        <td id=\"T_2de38e4c_25f3_11ea_bf5f_f0189815766crow3_col2\" class=\"data row3 col2\" >3</td>\n",
       "                        <td id=\"T_2de38e4c_25f3_11ea_bf5f_f0189815766crow3_col3\" class=\"data row3 col3\" >4</td>\n",
       "                        <td id=\"T_2de38e4c_25f3_11ea_bf5f_f0189815766crow3_col4\" class=\"data row3 col4\" >1</td>\n",
       "                        <td id=\"T_2de38e4c_25f3_11ea_bf5f_f0189815766crow3_col5\" class=\"data row3 col5\" >100</td>\n",
       "                        <td id=\"T_2de38e4c_25f3_11ea_bf5f_f0189815766crow3_col6\" class=\"data row3 col6\" >100</td>\n",
       "                        <td id=\"T_2de38e4c_25f3_11ea_bf5f_f0189815766crow3_col7\" class=\"data row3 col7\" >0</td>\n",
       "                        <td id=\"T_2de38e4c_25f3_11ea_bf5f_f0189815766crow3_col8\" class=\"data row3 col8\" >False</td>\n",
       "                        <td id=\"T_2de38e4c_25f3_11ea_bf5f_f0189815766crow3_col9\" class=\"data row3 col9\" >False</td>\n",
       "            </tr>\n",
       "            <tr>\n",
       "                        <th id=\"T_2de38e4c_25f3_11ea_bf5f_f0189815766clevel0_row4\" class=\"row_heading level0 row4\" >44</th>\n",
       "                        <td id=\"T_2de38e4c_25f3_11ea_bf5f_f0189815766crow4_col0\" class=\"data row4 col0\" >utah</td>\n",
       "                        <td id=\"T_2de38e4c_25f3_11ea_bf5f_f0189815766crow4_col1\" class=\"data row4 col1\" >1</td>\n",
       "                        <td id=\"T_2de38e4c_25f3_11ea_bf5f_f0189815766crow4_col2\" class=\"data row4 col2\" >3</td>\n",
       "                        <td id=\"T_2de38e4c_25f3_11ea_bf5f_f0189815766crow4_col3\" class=\"data row4 col3\" >4</td>\n",
       "                        <td id=\"T_2de38e4c_25f3_11ea_bf5f_f0189815766crow4_col4\" class=\"data row4 col4\" >1</td>\n",
       "                        <td id=\"T_2de38e4c_25f3_11ea_bf5f_f0189815766crow4_col5\" class=\"data row4 col5\" >100</td>\n",
       "                        <td id=\"T_2de38e4c_25f3_11ea_bf5f_f0189815766crow4_col6\" class=\"data row4 col6\" >100</td>\n",
       "                        <td id=\"T_2de38e4c_25f3_11ea_bf5f_f0189815766crow4_col7\" class=\"data row4 col7\" >0</td>\n",
       "                        <td id=\"T_2de38e4c_25f3_11ea_bf5f_f0189815766crow4_col8\" class=\"data row4 col8\" >False</td>\n",
       "                        <td id=\"T_2de38e4c_25f3_11ea_bf5f_f0189815766crow4_col9\" class=\"data row4 col9\" >False</td>\n",
       "            </tr>\n",
       "    </tbody></table>"
      ],
      "text/plain": [
       "<pandas.io.formats.style.Styler at 0x1a1d999790>"
      ]
     },
     "metadata": {},
     "output_type": "display_data"
    }
   ],
   "source": [
    "# highest and lowest 2017 SAT participation\n",
    "display(df_value_sort_head(test_data,'sat_part_17',part_interest))\n",
    "display(df_value_sort_head(test_data,'sat_part_17',part_interest, ascend=True))"
   ]
  },
  {
   "cell_type": "markdown",
   "metadata": {},
   "source": [
    "**Of interest**: \n",
    "\n",
    "**Iowa**: Low participation in both tests"
   ]
  },
  {
   "cell_type": "code",
   "execution_count": 40,
   "metadata": {},
   "outputs": [
    {
     "data": {
      "text/html": [
       "<style  type=\"text/css\" >\n",
       "    #T_2de5e4a8_25f3_11ea_bf5f_f0189815766crow0_col3 {\n",
       "            background-color:  yellow;\n",
       "        }    #T_2de5e4a8_25f3_11ea_bf5f_f0189815766crow1_col3 {\n",
       "            background-color:  yellow;\n",
       "        }    #T_2de5e4a8_25f3_11ea_bf5f_f0189815766crow2_col3 {\n",
       "            background-color:  yellow;\n",
       "        }    #T_2de5e4a8_25f3_11ea_bf5f_f0189815766crow3_col3 {\n",
       "            background-color:  yellow;\n",
       "        }    #T_2de5e4a8_25f3_11ea_bf5f_f0189815766crow4_col3 {\n",
       "            background-color:  yellow;\n",
       "        }</style><table id=\"T_2de5e4a8_25f3_11ea_bf5f_f0189815766c\" ><thead>    <tr>        <th class=\"blank level0\" ></th>        <th class=\"col_heading level0 col0\" >state</th>        <th class=\"col_heading level0 col1\" >part_inc</th>        <th class=\"col_heading level0 col2\" >sat_part_17</th>        <th class=\"col_heading level0 col3\" >sat_part_18</th>        <th class=\"col_heading level0 col4\" >sat_part_inc</th>        <th class=\"col_heading level0 col5\" >act_part_17</th>        <th class=\"col_heading level0 col6\" >act_part_18</th>        <th class=\"col_heading level0 col7\" >act_part_inc</th>        <th class=\"col_heading level0 col8\" >sat_dom_17</th>        <th class=\"col_heading level0 col9\" >sat_dom_18</th>    </tr></thead><tbody>\n",
       "                <tr>\n",
       "                        <th id=\"T_2de5e4a8_25f3_11ea_bf5f_f0189815766clevel0_row0\" class=\"row_heading level0 row0\" >5</th>\n",
       "                        <td id=\"T_2de5e4a8_25f3_11ea_bf5f_f0189815766crow0_col0\" class=\"data row0 col0\" >colorado</td>\n",
       "                        <td id=\"T_2de5e4a8_25f3_11ea_bf5f_f0189815766crow0_col1\" class=\"data row0 col1\" >19</td>\n",
       "                        <td id=\"T_2de5e4a8_25f3_11ea_bf5f_f0189815766crow0_col2\" class=\"data row0 col2\" >11</td>\n",
       "                        <td id=\"T_2de5e4a8_25f3_11ea_bf5f_f0189815766crow0_col3\" class=\"data row0 col3\" >100</td>\n",
       "                        <td id=\"T_2de5e4a8_25f3_11ea_bf5f_f0189815766crow0_col4\" class=\"data row0 col4\" >89</td>\n",
       "                        <td id=\"T_2de5e4a8_25f3_11ea_bf5f_f0189815766crow0_col5\" class=\"data row0 col5\" >100</td>\n",
       "                        <td id=\"T_2de5e4a8_25f3_11ea_bf5f_f0189815766crow0_col6\" class=\"data row0 col6\" >30</td>\n",
       "                        <td id=\"T_2de5e4a8_25f3_11ea_bf5f_f0189815766crow0_col7\" class=\"data row0 col7\" >-70</td>\n",
       "                        <td id=\"T_2de5e4a8_25f3_11ea_bf5f_f0189815766crow0_col8\" class=\"data row0 col8\" >False</td>\n",
       "                        <td id=\"T_2de5e4a8_25f3_11ea_bf5f_f0189815766crow0_col9\" class=\"data row0 col9\" >True</td>\n",
       "            </tr>\n",
       "            <tr>\n",
       "                        <th id=\"T_2de5e4a8_25f3_11ea_bf5f_f0189815766clevel0_row1\" class=\"row_heading level0 row1\" >6</th>\n",
       "                        <td id=\"T_2de5e4a8_25f3_11ea_bf5f_f0189815766crow1_col0\" class=\"data row1 col0\" >connecticut</td>\n",
       "                        <td id=\"T_2de5e4a8_25f3_11ea_bf5f_f0189815766crow1_col1\" class=\"data row1 col1\" >-5</td>\n",
       "                        <td id=\"T_2de5e4a8_25f3_11ea_bf5f_f0189815766crow1_col2\" class=\"data row1 col2\" >100</td>\n",
       "                        <td id=\"T_2de5e4a8_25f3_11ea_bf5f_f0189815766crow1_col3\" class=\"data row1 col3\" >100</td>\n",
       "                        <td id=\"T_2de5e4a8_25f3_11ea_bf5f_f0189815766crow1_col4\" class=\"data row1 col4\" >0</td>\n",
       "                        <td id=\"T_2de5e4a8_25f3_11ea_bf5f_f0189815766crow1_col5\" class=\"data row1 col5\" >31</td>\n",
       "                        <td id=\"T_2de5e4a8_25f3_11ea_bf5f_f0189815766crow1_col6\" class=\"data row1 col6\" >26</td>\n",
       "                        <td id=\"T_2de5e4a8_25f3_11ea_bf5f_f0189815766crow1_col7\" class=\"data row1 col7\" >-5</td>\n",
       "                        <td id=\"T_2de5e4a8_25f3_11ea_bf5f_f0189815766crow1_col8\" class=\"data row1 col8\" >True</td>\n",
       "                        <td id=\"T_2de5e4a8_25f3_11ea_bf5f_f0189815766crow1_col9\" class=\"data row1 col9\" >True</td>\n",
       "            </tr>\n",
       "            <tr>\n",
       "                        <th id=\"T_2de5e4a8_25f3_11ea_bf5f_f0189815766clevel0_row2\" class=\"row_heading level0 row2\" >7</th>\n",
       "                        <td id=\"T_2de5e4a8_25f3_11ea_bf5f_f0189815766crow2_col0\" class=\"data row2 col0\" >delaware</td>\n",
       "                        <td id=\"T_2de5e4a8_25f3_11ea_bf5f_f0189815766crow2_col1\" class=\"data row2 col1\" >-1</td>\n",
       "                        <td id=\"T_2de5e4a8_25f3_11ea_bf5f_f0189815766crow2_col2\" class=\"data row2 col2\" >100</td>\n",
       "                        <td id=\"T_2de5e4a8_25f3_11ea_bf5f_f0189815766crow2_col3\" class=\"data row2 col3\" >100</td>\n",
       "                        <td id=\"T_2de5e4a8_25f3_11ea_bf5f_f0189815766crow2_col4\" class=\"data row2 col4\" >0</td>\n",
       "                        <td id=\"T_2de5e4a8_25f3_11ea_bf5f_f0189815766crow2_col5\" class=\"data row2 col5\" >18</td>\n",
       "                        <td id=\"T_2de5e4a8_25f3_11ea_bf5f_f0189815766crow2_col6\" class=\"data row2 col6\" >17</td>\n",
       "                        <td id=\"T_2de5e4a8_25f3_11ea_bf5f_f0189815766crow2_col7\" class=\"data row2 col7\" >-1</td>\n",
       "                        <td id=\"T_2de5e4a8_25f3_11ea_bf5f_f0189815766crow2_col8\" class=\"data row2 col8\" >True</td>\n",
       "                        <td id=\"T_2de5e4a8_25f3_11ea_bf5f_f0189815766crow2_col9\" class=\"data row2 col9\" >True</td>\n",
       "            </tr>\n",
       "            <tr>\n",
       "                        <th id=\"T_2de5e4a8_25f3_11ea_bf5f_f0189815766clevel0_row3\" class=\"row_heading level0 row3\" >22</th>\n",
       "                        <td id=\"T_2de5e4a8_25f3_11ea_bf5f_f0189815766crow3_col0\" class=\"data row3 col0\" >michigan</td>\n",
       "                        <td id=\"T_2de5e4a8_25f3_11ea_bf5f_f0189815766crow3_col1\" class=\"data row3 col1\" >-7</td>\n",
       "                        <td id=\"T_2de5e4a8_25f3_11ea_bf5f_f0189815766crow3_col2\" class=\"data row3 col2\" >100</td>\n",
       "                        <td id=\"T_2de5e4a8_25f3_11ea_bf5f_f0189815766crow3_col3\" class=\"data row3 col3\" >100</td>\n",
       "                        <td id=\"T_2de5e4a8_25f3_11ea_bf5f_f0189815766crow3_col4\" class=\"data row3 col4\" >0</td>\n",
       "                        <td id=\"T_2de5e4a8_25f3_11ea_bf5f_f0189815766crow3_col5\" class=\"data row3 col5\" >29</td>\n",
       "                        <td id=\"T_2de5e4a8_25f3_11ea_bf5f_f0189815766crow3_col6\" class=\"data row3 col6\" >22</td>\n",
       "                        <td id=\"T_2de5e4a8_25f3_11ea_bf5f_f0189815766crow3_col7\" class=\"data row3 col7\" >-7</td>\n",
       "                        <td id=\"T_2de5e4a8_25f3_11ea_bf5f_f0189815766crow3_col8\" class=\"data row3 col8\" >True</td>\n",
       "                        <td id=\"T_2de5e4a8_25f3_11ea_bf5f_f0189815766crow3_col9\" class=\"data row3 col9\" >True</td>\n",
       "            </tr>\n",
       "            <tr>\n",
       "                        <th id=\"T_2de5e4a8_25f3_11ea_bf5f_f0189815766clevel0_row4\" class=\"row_heading level0 row4\" >12</th>\n",
       "                        <td id=\"T_2de5e4a8_25f3_11ea_bf5f_f0189815766crow4_col0\" class=\"data row4 col0\" >idaho</td>\n",
       "                        <td id=\"T_2de5e4a8_25f3_11ea_bf5f_f0189815766crow4_col1\" class=\"data row4 col1\" >5</td>\n",
       "                        <td id=\"T_2de5e4a8_25f3_11ea_bf5f_f0189815766crow4_col2\" class=\"data row4 col2\" >93</td>\n",
       "                        <td id=\"T_2de5e4a8_25f3_11ea_bf5f_f0189815766crow4_col3\" class=\"data row4 col3\" >100</td>\n",
       "                        <td id=\"T_2de5e4a8_25f3_11ea_bf5f_f0189815766crow4_col4\" class=\"data row4 col4\" >7</td>\n",
       "                        <td id=\"T_2de5e4a8_25f3_11ea_bf5f_f0189815766crow4_col5\" class=\"data row4 col5\" >38</td>\n",
       "                        <td id=\"T_2de5e4a8_25f3_11ea_bf5f_f0189815766crow4_col6\" class=\"data row4 col6\" >36</td>\n",
       "                        <td id=\"T_2de5e4a8_25f3_11ea_bf5f_f0189815766crow4_col7\" class=\"data row4 col7\" >-2</td>\n",
       "                        <td id=\"T_2de5e4a8_25f3_11ea_bf5f_f0189815766crow4_col8\" class=\"data row4 col8\" >True</td>\n",
       "                        <td id=\"T_2de5e4a8_25f3_11ea_bf5f_f0189815766crow4_col9\" class=\"data row4 col9\" >True</td>\n",
       "            </tr>\n",
       "    </tbody></table>"
      ],
      "text/plain": [
       "<pandas.io.formats.style.Styler at 0x1a26350250>"
      ]
     },
     "metadata": {},
     "output_type": "display_data"
    },
    {
     "data": {
      "text/html": [
       "<style  type=\"text/css\" >\n",
       "    #T_2de76288_25f3_11ea_bf5f_f0189815766crow0_col3 {\n",
       "            background-color:  yellow;\n",
       "        }    #T_2de76288_25f3_11ea_bf5f_f0189815766crow1_col3 {\n",
       "            background-color:  yellow;\n",
       "        }    #T_2de76288_25f3_11ea_bf5f_f0189815766crow2_col3 {\n",
       "            background-color:  yellow;\n",
       "        }    #T_2de76288_25f3_11ea_bf5f_f0189815766crow3_col3 {\n",
       "            background-color:  yellow;\n",
       "        }    #T_2de76288_25f3_11ea_bf5f_f0189815766crow4_col3 {\n",
       "            background-color:  yellow;\n",
       "        }</style><table id=\"T_2de76288_25f3_11ea_bf5f_f0189815766c\" ><thead>    <tr>        <th class=\"blank level0\" ></th>        <th class=\"col_heading level0 col0\" >state</th>        <th class=\"col_heading level0 col1\" >part_inc</th>        <th class=\"col_heading level0 col2\" >sat_part_17</th>        <th class=\"col_heading level0 col3\" >sat_part_18</th>        <th class=\"col_heading level0 col4\" >sat_part_inc</th>        <th class=\"col_heading level0 col5\" >act_part_17</th>        <th class=\"col_heading level0 col6\" >act_part_18</th>        <th class=\"col_heading level0 col7\" >act_part_inc</th>        <th class=\"col_heading level0 col8\" >sat_dom_17</th>        <th class=\"col_heading level0 col9\" >sat_dom_18</th>    </tr></thead><tbody>\n",
       "                <tr>\n",
       "                        <th id=\"T_2de76288_25f3_11ea_bf5f_f0189815766clevel0_row0\" class=\"row_heading level0 row0\" >34</th>\n",
       "                        <td id=\"T_2de76288_25f3_11ea_bf5f_f0189815766crow0_col0\" class=\"data row0 col0\" >north dakota</td>\n",
       "                        <td id=\"T_2de76288_25f3_11ea_bf5f_f0189815766crow0_col1\" class=\"data row0 col1\" >0</td>\n",
       "                        <td id=\"T_2de76288_25f3_11ea_bf5f_f0189815766crow0_col2\" class=\"data row0 col2\" >2</td>\n",
       "                        <td id=\"T_2de76288_25f3_11ea_bf5f_f0189815766crow0_col3\" class=\"data row0 col3\" >2</td>\n",
       "                        <td id=\"T_2de76288_25f3_11ea_bf5f_f0189815766crow0_col4\" class=\"data row0 col4\" >0</td>\n",
       "                        <td id=\"T_2de76288_25f3_11ea_bf5f_f0189815766crow0_col5\" class=\"data row0 col5\" >98</td>\n",
       "                        <td id=\"T_2de76288_25f3_11ea_bf5f_f0189815766crow0_col6\" class=\"data row0 col6\" >98</td>\n",
       "                        <td id=\"T_2de76288_25f3_11ea_bf5f_f0189815766crow0_col7\" class=\"data row0 col7\" >0</td>\n",
       "                        <td id=\"T_2de76288_25f3_11ea_bf5f_f0189815766crow0_col8\" class=\"data row0 col8\" >False</td>\n",
       "                        <td id=\"T_2de76288_25f3_11ea_bf5f_f0189815766crow0_col9\" class=\"data row0 col9\" >False</td>\n",
       "            </tr>\n",
       "            <tr>\n",
       "                        <th id=\"T_2de76288_25f3_11ea_bf5f_f0189815766clevel0_row1\" class=\"row_heading level0 row1\" >50</th>\n",
       "                        <td id=\"T_2de76288_25f3_11ea_bf5f_f0189815766crow1_col0\" class=\"data row1 col0\" >wyoming</td>\n",
       "                        <td id=\"T_2de76288_25f3_11ea_bf5f_f0189815766crow1_col1\" class=\"data row1 col1\" >0</td>\n",
       "                        <td id=\"T_2de76288_25f3_11ea_bf5f_f0189815766crow1_col2\" class=\"data row1 col2\" >3</td>\n",
       "                        <td id=\"T_2de76288_25f3_11ea_bf5f_f0189815766crow1_col3\" class=\"data row1 col3\" >3</td>\n",
       "                        <td id=\"T_2de76288_25f3_11ea_bf5f_f0189815766crow1_col4\" class=\"data row1 col4\" >0</td>\n",
       "                        <td id=\"T_2de76288_25f3_11ea_bf5f_f0189815766crow1_col5\" class=\"data row1 col5\" >100</td>\n",
       "                        <td id=\"T_2de76288_25f3_11ea_bf5f_f0189815766crow1_col6\" class=\"data row1 col6\" >100</td>\n",
       "                        <td id=\"T_2de76288_25f3_11ea_bf5f_f0189815766crow1_col7\" class=\"data row1 col7\" >0</td>\n",
       "                        <td id=\"T_2de76288_25f3_11ea_bf5f_f0189815766crow1_col8\" class=\"data row1 col8\" >False</td>\n",
       "                        <td id=\"T_2de76288_25f3_11ea_bf5f_f0189815766crow1_col9\" class=\"data row1 col9\" >False</td>\n",
       "            </tr>\n",
       "            <tr>\n",
       "                        <th id=\"T_2de76288_25f3_11ea_bf5f_f0189815766clevel0_row2\" class=\"row_heading level0 row2\" >41</th>\n",
       "                        <td id=\"T_2de76288_25f3_11ea_bf5f_f0189815766crow2_col0\" class=\"data row2 col0\" >south dakota</td>\n",
       "                        <td id=\"T_2de76288_25f3_11ea_bf5f_f0189815766crow2_col1\" class=\"data row2 col1\" >-3</td>\n",
       "                        <td id=\"T_2de76288_25f3_11ea_bf5f_f0189815766crow2_col2\" class=\"data row2 col2\" >3</td>\n",
       "                        <td id=\"T_2de76288_25f3_11ea_bf5f_f0189815766crow2_col3\" class=\"data row2 col3\" >3</td>\n",
       "                        <td id=\"T_2de76288_25f3_11ea_bf5f_f0189815766crow2_col4\" class=\"data row2 col4\" >0</td>\n",
       "                        <td id=\"T_2de76288_25f3_11ea_bf5f_f0189815766crow2_col5\" class=\"data row2 col5\" >80</td>\n",
       "                        <td id=\"T_2de76288_25f3_11ea_bf5f_f0189815766crow2_col6\" class=\"data row2 col6\" >77</td>\n",
       "                        <td id=\"T_2de76288_25f3_11ea_bf5f_f0189815766crow2_col7\" class=\"data row2 col7\" >-3</td>\n",
       "                        <td id=\"T_2de76288_25f3_11ea_bf5f_f0189815766crow2_col8\" class=\"data row2 col8\" >False</td>\n",
       "                        <td id=\"T_2de76288_25f3_11ea_bf5f_f0189815766crow2_col9\" class=\"data row2 col9\" >False</td>\n",
       "            </tr>\n",
       "            <tr>\n",
       "                        <th id=\"T_2de76288_25f3_11ea_bf5f_f0189815766clevel0_row3\" class=\"row_heading level0 row3\" >27</th>\n",
       "                        <td id=\"T_2de76288_25f3_11ea_bf5f_f0189815766crow3_col0\" class=\"data row3 col0\" >nebraska</td>\n",
       "                        <td id=\"T_2de76288_25f3_11ea_bf5f_f0189815766crow3_col1\" class=\"data row3 col1\" >16</td>\n",
       "                        <td id=\"T_2de76288_25f3_11ea_bf5f_f0189815766crow3_col2\" class=\"data row3 col2\" >3</td>\n",
       "                        <td id=\"T_2de76288_25f3_11ea_bf5f_f0189815766crow3_col3\" class=\"data row3 col3\" >3</td>\n",
       "                        <td id=\"T_2de76288_25f3_11ea_bf5f_f0189815766crow3_col4\" class=\"data row3 col4\" >0</td>\n",
       "                        <td id=\"T_2de76288_25f3_11ea_bf5f_f0189815766crow3_col5\" class=\"data row3 col5\" >84</td>\n",
       "                        <td id=\"T_2de76288_25f3_11ea_bf5f_f0189815766crow3_col6\" class=\"data row3 col6\" >100</td>\n",
       "                        <td id=\"T_2de76288_25f3_11ea_bf5f_f0189815766crow3_col7\" class=\"data row3 col7\" >16</td>\n",
       "                        <td id=\"T_2de76288_25f3_11ea_bf5f_f0189815766crow3_col8\" class=\"data row3 col8\" >False</td>\n",
       "                        <td id=\"T_2de76288_25f3_11ea_bf5f_f0189815766crow3_col9\" class=\"data row3 col9\" >False</td>\n",
       "            </tr>\n",
       "            <tr>\n",
       "                        <th id=\"T_2de76288_25f3_11ea_bf5f_f0189815766clevel0_row4\" class=\"row_heading level0 row4\" >49</th>\n",
       "                        <td id=\"T_2de76288_25f3_11ea_bf5f_f0189815766crow4_col0\" class=\"data row4 col0\" >wisconsin</td>\n",
       "                        <td id=\"T_2de76288_25f3_11ea_bf5f_f0189815766crow4_col1\" class=\"data row4 col1\" >0</td>\n",
       "                        <td id=\"T_2de76288_25f3_11ea_bf5f_f0189815766crow4_col2\" class=\"data row4 col2\" >3</td>\n",
       "                        <td id=\"T_2de76288_25f3_11ea_bf5f_f0189815766crow4_col3\" class=\"data row4 col3\" >3</td>\n",
       "                        <td id=\"T_2de76288_25f3_11ea_bf5f_f0189815766crow4_col4\" class=\"data row4 col4\" >0</td>\n",
       "                        <td id=\"T_2de76288_25f3_11ea_bf5f_f0189815766crow4_col5\" class=\"data row4 col5\" >100</td>\n",
       "                        <td id=\"T_2de76288_25f3_11ea_bf5f_f0189815766crow4_col6\" class=\"data row4 col6\" >100</td>\n",
       "                        <td id=\"T_2de76288_25f3_11ea_bf5f_f0189815766crow4_col7\" class=\"data row4 col7\" >0</td>\n",
       "                        <td id=\"T_2de76288_25f3_11ea_bf5f_f0189815766crow4_col8\" class=\"data row4 col8\" >False</td>\n",
       "                        <td id=\"T_2de76288_25f3_11ea_bf5f_f0189815766crow4_col9\" class=\"data row4 col9\" >False</td>\n",
       "            </tr>\n",
       "    </tbody></table>"
      ],
      "text/plain": [
       "<pandas.io.formats.style.Styler at 0x1a263ad450>"
      ]
     },
     "metadata": {},
     "output_type": "display_data"
    }
   ],
   "source": [
    "# highest and lowest 2018 SAT participation\n",
    "display(df_value_sort_head(test_data,'sat_part_18',part_interest))\n",
    "display(df_value_sort_head(test_data,'sat_part_18',part_interest, ascend=True))"
   ]
  },
  {
   "cell_type": "markdown",
   "metadata": {},
   "source": [
    "**Of interest**: \n",
    "\n",
    "**South Dakota**: Low SAT + ACT participation"
   ]
  },
  {
   "cell_type": "code",
   "execution_count": 41,
   "metadata": {},
   "outputs": [
    {
     "data": {
      "text/html": [
       "<style  type=\"text/css\" >\n",
       "    #T_2dead29c_25f3_11ea_bf5f_f0189815766crow0_col5 {\n",
       "            background-color:  yellow;\n",
       "        }    #T_2dead29c_25f3_11ea_bf5f_f0189815766crow1_col5 {\n",
       "            background-color:  yellow;\n",
       "        }    #T_2dead29c_25f3_11ea_bf5f_f0189815766crow2_col5 {\n",
       "            background-color:  yellow;\n",
       "        }    #T_2dead29c_25f3_11ea_bf5f_f0189815766crow3_col5 {\n",
       "            background-color:  yellow;\n",
       "        }    #T_2dead29c_25f3_11ea_bf5f_f0189815766crow4_col5 {\n",
       "            background-color:  yellow;\n",
       "        }</style><table id=\"T_2dead29c_25f3_11ea_bf5f_f0189815766c\" ><thead>    <tr>        <th class=\"blank level0\" ></th>        <th class=\"col_heading level0 col0\" >state</th>        <th class=\"col_heading level0 col1\" >part_inc</th>        <th class=\"col_heading level0 col2\" >sat_part_17</th>        <th class=\"col_heading level0 col3\" >sat_part_18</th>        <th class=\"col_heading level0 col4\" >sat_part_inc</th>        <th class=\"col_heading level0 col5\" >act_part_17</th>        <th class=\"col_heading level0 col6\" >act_part_18</th>        <th class=\"col_heading level0 col7\" >act_part_inc</th>        <th class=\"col_heading level0 col8\" >sat_dom_17</th>        <th class=\"col_heading level0 col9\" >sat_dom_18</th>    </tr></thead><tbody>\n",
       "                <tr>\n",
       "                        <th id=\"T_2dead29c_25f3_11ea_bf5f_f0189815766clevel0_row0\" class=\"row_heading level0 row0\" >0</th>\n",
       "                        <td id=\"T_2dead29c_25f3_11ea_bf5f_f0189815766crow0_col0\" class=\"data row0 col0\" >alabama</td>\n",
       "                        <td id=\"T_2dead29c_25f3_11ea_bf5f_f0189815766crow0_col1\" class=\"data row0 col1\" >1</td>\n",
       "                        <td id=\"T_2dead29c_25f3_11ea_bf5f_f0189815766crow0_col2\" class=\"data row0 col2\" >5</td>\n",
       "                        <td id=\"T_2dead29c_25f3_11ea_bf5f_f0189815766crow0_col3\" class=\"data row0 col3\" >6</td>\n",
       "                        <td id=\"T_2dead29c_25f3_11ea_bf5f_f0189815766crow0_col4\" class=\"data row0 col4\" >1</td>\n",
       "                        <td id=\"T_2dead29c_25f3_11ea_bf5f_f0189815766crow0_col5\" class=\"data row0 col5\" >100</td>\n",
       "                        <td id=\"T_2dead29c_25f3_11ea_bf5f_f0189815766crow0_col6\" class=\"data row0 col6\" >100</td>\n",
       "                        <td id=\"T_2dead29c_25f3_11ea_bf5f_f0189815766crow0_col7\" class=\"data row0 col7\" >0</td>\n",
       "                        <td id=\"T_2dead29c_25f3_11ea_bf5f_f0189815766crow0_col8\" class=\"data row0 col8\" >False</td>\n",
       "                        <td id=\"T_2dead29c_25f3_11ea_bf5f_f0189815766crow0_col9\" class=\"data row0 col9\" >False</td>\n",
       "            </tr>\n",
       "            <tr>\n",
       "                        <th id=\"T_2dead29c_25f3_11ea_bf5f_f0189815766clevel0_row1\" class=\"row_heading level0 row1\" >17</th>\n",
       "                        <td id=\"T_2dead29c_25f3_11ea_bf5f_f0189815766crow1_col0\" class=\"data row1 col0\" >kentucky</td>\n",
       "                        <td id=\"T_2dead29c_25f3_11ea_bf5f_f0189815766crow1_col1\" class=\"data row1 col1\" >0</td>\n",
       "                        <td id=\"T_2dead29c_25f3_11ea_bf5f_f0189815766crow1_col2\" class=\"data row1 col2\" >4</td>\n",
       "                        <td id=\"T_2dead29c_25f3_11ea_bf5f_f0189815766crow1_col3\" class=\"data row1 col3\" >4</td>\n",
       "                        <td id=\"T_2dead29c_25f3_11ea_bf5f_f0189815766crow1_col4\" class=\"data row1 col4\" >0</td>\n",
       "                        <td id=\"T_2dead29c_25f3_11ea_bf5f_f0189815766crow1_col5\" class=\"data row1 col5\" >100</td>\n",
       "                        <td id=\"T_2dead29c_25f3_11ea_bf5f_f0189815766crow1_col6\" class=\"data row1 col6\" >100</td>\n",
       "                        <td id=\"T_2dead29c_25f3_11ea_bf5f_f0189815766crow1_col7\" class=\"data row1 col7\" >0</td>\n",
       "                        <td id=\"T_2dead29c_25f3_11ea_bf5f_f0189815766crow1_col8\" class=\"data row1 col8\" >False</td>\n",
       "                        <td id=\"T_2dead29c_25f3_11ea_bf5f_f0189815766crow1_col9\" class=\"data row1 col9\" >False</td>\n",
       "            </tr>\n",
       "            <tr>\n",
       "                        <th id=\"T_2dead29c_25f3_11ea_bf5f_f0189815766clevel0_row2\" class=\"row_heading level0 row2\" >49</th>\n",
       "                        <td id=\"T_2dead29c_25f3_11ea_bf5f_f0189815766crow2_col0\" class=\"data row2 col0\" >wisconsin</td>\n",
       "                        <td id=\"T_2dead29c_25f3_11ea_bf5f_f0189815766crow2_col1\" class=\"data row2 col1\" >0</td>\n",
       "                        <td id=\"T_2dead29c_25f3_11ea_bf5f_f0189815766crow2_col2\" class=\"data row2 col2\" >3</td>\n",
       "                        <td id=\"T_2dead29c_25f3_11ea_bf5f_f0189815766crow2_col3\" class=\"data row2 col3\" >3</td>\n",
       "                        <td id=\"T_2dead29c_25f3_11ea_bf5f_f0189815766crow2_col4\" class=\"data row2 col4\" >0</td>\n",
       "                        <td id=\"T_2dead29c_25f3_11ea_bf5f_f0189815766crow2_col5\" class=\"data row2 col5\" >100</td>\n",
       "                        <td id=\"T_2dead29c_25f3_11ea_bf5f_f0189815766crow2_col6\" class=\"data row2 col6\" >100</td>\n",
       "                        <td id=\"T_2dead29c_25f3_11ea_bf5f_f0189815766crow2_col7\" class=\"data row2 col7\" >0</td>\n",
       "                        <td id=\"T_2dead29c_25f3_11ea_bf5f_f0189815766crow2_col8\" class=\"data row2 col8\" >False</td>\n",
       "                        <td id=\"T_2dead29c_25f3_11ea_bf5f_f0189815766crow2_col9\" class=\"data row2 col9\" >False</td>\n",
       "            </tr>\n",
       "            <tr>\n",
       "                        <th id=\"T_2dead29c_25f3_11ea_bf5f_f0189815766clevel0_row3\" class=\"row_heading level0 row3\" >44</th>\n",
       "                        <td id=\"T_2dead29c_25f3_11ea_bf5f_f0189815766crow3_col0\" class=\"data row3 col0\" >utah</td>\n",
       "                        <td id=\"T_2dead29c_25f3_11ea_bf5f_f0189815766crow3_col1\" class=\"data row3 col1\" >1</td>\n",
       "                        <td id=\"T_2dead29c_25f3_11ea_bf5f_f0189815766crow3_col2\" class=\"data row3 col2\" >3</td>\n",
       "                        <td id=\"T_2dead29c_25f3_11ea_bf5f_f0189815766crow3_col3\" class=\"data row3 col3\" >4</td>\n",
       "                        <td id=\"T_2dead29c_25f3_11ea_bf5f_f0189815766crow3_col4\" class=\"data row3 col4\" >1</td>\n",
       "                        <td id=\"T_2dead29c_25f3_11ea_bf5f_f0189815766crow3_col5\" class=\"data row3 col5\" >100</td>\n",
       "                        <td id=\"T_2dead29c_25f3_11ea_bf5f_f0189815766crow3_col6\" class=\"data row3 col6\" >100</td>\n",
       "                        <td id=\"T_2dead29c_25f3_11ea_bf5f_f0189815766crow3_col7\" class=\"data row3 col7\" >0</td>\n",
       "                        <td id=\"T_2dead29c_25f3_11ea_bf5f_f0189815766crow3_col8\" class=\"data row3 col8\" >False</td>\n",
       "                        <td id=\"T_2dead29c_25f3_11ea_bf5f_f0189815766crow3_col9\" class=\"data row3 col9\" >False</td>\n",
       "            </tr>\n",
       "            <tr>\n",
       "                        <th id=\"T_2dead29c_25f3_11ea_bf5f_f0189815766clevel0_row4\" class=\"row_heading level0 row4\" >42</th>\n",
       "                        <td id=\"T_2dead29c_25f3_11ea_bf5f_f0189815766crow4_col0\" class=\"data row4 col0\" >tennessee</td>\n",
       "                        <td id=\"T_2dead29c_25f3_11ea_bf5f_f0189815766crow4_col1\" class=\"data row4 col1\" >1</td>\n",
       "                        <td id=\"T_2dead29c_25f3_11ea_bf5f_f0189815766crow4_col2\" class=\"data row4 col2\" >5</td>\n",
       "                        <td id=\"T_2dead29c_25f3_11ea_bf5f_f0189815766crow4_col3\" class=\"data row4 col3\" >6</td>\n",
       "                        <td id=\"T_2dead29c_25f3_11ea_bf5f_f0189815766crow4_col4\" class=\"data row4 col4\" >1</td>\n",
       "                        <td id=\"T_2dead29c_25f3_11ea_bf5f_f0189815766crow4_col5\" class=\"data row4 col5\" >100</td>\n",
       "                        <td id=\"T_2dead29c_25f3_11ea_bf5f_f0189815766crow4_col6\" class=\"data row4 col6\" >100</td>\n",
       "                        <td id=\"T_2dead29c_25f3_11ea_bf5f_f0189815766crow4_col7\" class=\"data row4 col7\" >0</td>\n",
       "                        <td id=\"T_2dead29c_25f3_11ea_bf5f_f0189815766crow4_col8\" class=\"data row4 col8\" >False</td>\n",
       "                        <td id=\"T_2dead29c_25f3_11ea_bf5f_f0189815766crow4_col9\" class=\"data row4 col9\" >False</td>\n",
       "            </tr>\n",
       "    </tbody></table>"
      ],
      "text/plain": [
       "<pandas.io.formats.style.Styler at 0x1a263c6dd0>"
      ]
     },
     "metadata": {},
     "output_type": "display_data"
    },
    {
     "data": {
      "text/html": [
       "<style  type=\"text/css\" >\n",
       "    #T_2dec82ea_25f3_11ea_bf5f_f0189815766crow0_col5 {\n",
       "            background-color:  yellow;\n",
       "        }    #T_2dec82ea_25f3_11ea_bf5f_f0189815766crow1_col5 {\n",
       "            background-color:  yellow;\n",
       "        }    #T_2dec82ea_25f3_11ea_bf5f_f0189815766crow2_col5 {\n",
       "            background-color:  yellow;\n",
       "        }    #T_2dec82ea_25f3_11ea_bf5f_f0189815766crow3_col5 {\n",
       "            background-color:  yellow;\n",
       "        }    #T_2dec82ea_25f3_11ea_bf5f_f0189815766crow4_col5 {\n",
       "            background-color:  yellow;\n",
       "        }</style><table id=\"T_2dec82ea_25f3_11ea_bf5f_f0189815766c\" ><thead>    <tr>        <th class=\"blank level0\" ></th>        <th class=\"col_heading level0 col0\" >state</th>        <th class=\"col_heading level0 col1\" >part_inc</th>        <th class=\"col_heading level0 col2\" >sat_part_17</th>        <th class=\"col_heading level0 col3\" >sat_part_18</th>        <th class=\"col_heading level0 col4\" >sat_part_inc</th>        <th class=\"col_heading level0 col5\" >act_part_17</th>        <th class=\"col_heading level0 col6\" >act_part_18</th>        <th class=\"col_heading level0 col7\" >act_part_inc</th>        <th class=\"col_heading level0 col8\" >sat_dom_17</th>        <th class=\"col_heading level0 col9\" >sat_dom_18</th>    </tr></thead><tbody>\n",
       "                <tr>\n",
       "                        <th id=\"T_2dec82ea_25f3_11ea_bf5f_f0189815766clevel0_row0\" class=\"row_heading level0 row0\" >19</th>\n",
       "                        <td id=\"T_2dec82ea_25f3_11ea_bf5f_f0189815766crow0_col0\" class=\"data row0 col0\" >maine</td>\n",
       "                        <td id=\"T_2dec82ea_25f3_11ea_bf5f_f0189815766crow0_col1\" class=\"data row0 col1\" >3</td>\n",
       "                        <td id=\"T_2dec82ea_25f3_11ea_bf5f_f0189815766crow0_col2\" class=\"data row0 col2\" >95</td>\n",
       "                        <td id=\"T_2dec82ea_25f3_11ea_bf5f_f0189815766crow0_col3\" class=\"data row0 col3\" >99</td>\n",
       "                        <td id=\"T_2dec82ea_25f3_11ea_bf5f_f0189815766crow0_col4\" class=\"data row0 col4\" >4</td>\n",
       "                        <td id=\"T_2dec82ea_25f3_11ea_bf5f_f0189815766crow0_col5\" class=\"data row0 col5\" >8</td>\n",
       "                        <td id=\"T_2dec82ea_25f3_11ea_bf5f_f0189815766crow0_col6\" class=\"data row0 col6\" >7</td>\n",
       "                        <td id=\"T_2dec82ea_25f3_11ea_bf5f_f0189815766crow0_col7\" class=\"data row0 col7\" >-1</td>\n",
       "                        <td id=\"T_2dec82ea_25f3_11ea_bf5f_f0189815766crow0_col8\" class=\"data row0 col8\" >True</td>\n",
       "                        <td id=\"T_2dec82ea_25f3_11ea_bf5f_f0189815766crow0_col9\" class=\"data row0 col9\" >True</td>\n",
       "            </tr>\n",
       "            <tr>\n",
       "                        <th id=\"T_2dec82ea_25f3_11ea_bf5f_f0189815766clevel0_row1\" class=\"row_heading level0 row1\" >29</th>\n",
       "                        <td id=\"T_2dec82ea_25f3_11ea_bf5f_f0189815766crow1_col0\" class=\"data row1 col0\" >new hampshire</td>\n",
       "                        <td id=\"T_2dec82ea_25f3_11ea_bf5f_f0189815766crow1_col1\" class=\"data row1 col1\" >-2</td>\n",
       "                        <td id=\"T_2dec82ea_25f3_11ea_bf5f_f0189815766crow1_col2\" class=\"data row1 col2\" >96</td>\n",
       "                        <td id=\"T_2dec82ea_25f3_11ea_bf5f_f0189815766crow1_col3\" class=\"data row1 col3\" >96</td>\n",
       "                        <td id=\"T_2dec82ea_25f3_11ea_bf5f_f0189815766crow1_col4\" class=\"data row1 col4\" >0</td>\n",
       "                        <td id=\"T_2dec82ea_25f3_11ea_bf5f_f0189815766crow1_col5\" class=\"data row1 col5\" >18</td>\n",
       "                        <td id=\"T_2dec82ea_25f3_11ea_bf5f_f0189815766crow1_col6\" class=\"data row1 col6\" >16</td>\n",
       "                        <td id=\"T_2dec82ea_25f3_11ea_bf5f_f0189815766crow1_col7\" class=\"data row1 col7\" >-2</td>\n",
       "                        <td id=\"T_2dec82ea_25f3_11ea_bf5f_f0189815766crow1_col8\" class=\"data row1 col8\" >True</td>\n",
       "                        <td id=\"T_2dec82ea_25f3_11ea_bf5f_f0189815766crow1_col9\" class=\"data row1 col9\" >True</td>\n",
       "            </tr>\n",
       "            <tr>\n",
       "                        <th id=\"T_2dec82ea_25f3_11ea_bf5f_f0189815766clevel0_row2\" class=\"row_heading level0 row2\" >7</th>\n",
       "                        <td id=\"T_2dec82ea_25f3_11ea_bf5f_f0189815766crow2_col0\" class=\"data row2 col0\" >delaware</td>\n",
       "                        <td id=\"T_2dec82ea_25f3_11ea_bf5f_f0189815766crow2_col1\" class=\"data row2 col1\" >-1</td>\n",
       "                        <td id=\"T_2dec82ea_25f3_11ea_bf5f_f0189815766crow2_col2\" class=\"data row2 col2\" >100</td>\n",
       "                        <td id=\"T_2dec82ea_25f3_11ea_bf5f_f0189815766crow2_col3\" class=\"data row2 col3\" >100</td>\n",
       "                        <td id=\"T_2dec82ea_25f3_11ea_bf5f_f0189815766crow2_col4\" class=\"data row2 col4\" >0</td>\n",
       "                        <td id=\"T_2dec82ea_25f3_11ea_bf5f_f0189815766crow2_col5\" class=\"data row2 col5\" >18</td>\n",
       "                        <td id=\"T_2dec82ea_25f3_11ea_bf5f_f0189815766crow2_col6\" class=\"data row2 col6\" >17</td>\n",
       "                        <td id=\"T_2dec82ea_25f3_11ea_bf5f_f0189815766crow2_col7\" class=\"data row2 col7\" >-1</td>\n",
       "                        <td id=\"T_2dec82ea_25f3_11ea_bf5f_f0189815766crow2_col8\" class=\"data row2 col8\" >True</td>\n",
       "                        <td id=\"T_2dec82ea_25f3_11ea_bf5f_f0189815766crow2_col9\" class=\"data row2 col9\" >True</td>\n",
       "            </tr>\n",
       "            <tr>\n",
       "                        <th id=\"T_2dec82ea_25f3_11ea_bf5f_f0189815766clevel0_row3\" class=\"row_heading level0 row3\" >39</th>\n",
       "                        <td id=\"T_2dec82ea_25f3_11ea_bf5f_f0189815766crow3_col0\" class=\"data row3 col0\" >rhode island</td>\n",
       "                        <td id=\"T_2dec82ea_25f3_11ea_bf5f_f0189815766crow3_col1\" class=\"data row3 col1\" >20</td>\n",
       "                        <td id=\"T_2dec82ea_25f3_11ea_bf5f_f0189815766crow3_col2\" class=\"data row3 col2\" >71</td>\n",
       "                        <td id=\"T_2dec82ea_25f3_11ea_bf5f_f0189815766crow3_col3\" class=\"data row3 col3\" >97</td>\n",
       "                        <td id=\"T_2dec82ea_25f3_11ea_bf5f_f0189815766crow3_col4\" class=\"data row3 col4\" >26</td>\n",
       "                        <td id=\"T_2dec82ea_25f3_11ea_bf5f_f0189815766crow3_col5\" class=\"data row3 col5\" >21</td>\n",
       "                        <td id=\"T_2dec82ea_25f3_11ea_bf5f_f0189815766crow3_col6\" class=\"data row3 col6\" >15</td>\n",
       "                        <td id=\"T_2dec82ea_25f3_11ea_bf5f_f0189815766crow3_col7\" class=\"data row3 col7\" >-6</td>\n",
       "                        <td id=\"T_2dec82ea_25f3_11ea_bf5f_f0189815766crow3_col8\" class=\"data row3 col8\" >True</td>\n",
       "                        <td id=\"T_2dec82ea_25f3_11ea_bf5f_f0189815766crow3_col9\" class=\"data row3 col9\" >True</td>\n",
       "            </tr>\n",
       "            <tr>\n",
       "                        <th id=\"T_2dec82ea_25f3_11ea_bf5f_f0189815766clevel0_row4\" class=\"row_heading level0 row4\" >38</th>\n",
       "                        <td id=\"T_2dec82ea_25f3_11ea_bf5f_f0189815766crow4_col0\" class=\"data row4 col0\" >pennsylvania</td>\n",
       "                        <td id=\"T_2dec82ea_25f3_11ea_bf5f_f0189815766crow4_col1\" class=\"data row4 col1\" >2</td>\n",
       "                        <td id=\"T_2dec82ea_25f3_11ea_bf5f_f0189815766crow4_col2\" class=\"data row4 col2\" >65</td>\n",
       "                        <td id=\"T_2dec82ea_25f3_11ea_bf5f_f0189815766crow4_col3\" class=\"data row4 col3\" >70</td>\n",
       "                        <td id=\"T_2dec82ea_25f3_11ea_bf5f_f0189815766crow4_col4\" class=\"data row4 col4\" >5</td>\n",
       "                        <td id=\"T_2dec82ea_25f3_11ea_bf5f_f0189815766crow4_col5\" class=\"data row4 col5\" >23</td>\n",
       "                        <td id=\"T_2dec82ea_25f3_11ea_bf5f_f0189815766crow4_col6\" class=\"data row4 col6\" >20</td>\n",
       "                        <td id=\"T_2dec82ea_25f3_11ea_bf5f_f0189815766crow4_col7\" class=\"data row4 col7\" >-3</td>\n",
       "                        <td id=\"T_2dec82ea_25f3_11ea_bf5f_f0189815766crow4_col8\" class=\"data row4 col8\" >True</td>\n",
       "                        <td id=\"T_2dec82ea_25f3_11ea_bf5f_f0189815766crow4_col9\" class=\"data row4 col9\" >True</td>\n",
       "            </tr>\n",
       "    </tbody></table>"
      ],
      "text/plain": [
       "<pandas.io.formats.style.Styler at 0x1a263c8cd0>"
      ]
     },
     "metadata": {},
     "output_type": "display_data"
    }
   ],
   "source": [
    "# highest and lowest 2017 ACT participation\n",
    "display(df_value_sort_head(test_data,'act_part_17',part_interest))\n",
    "display(df_value_sort_head(test_data,'act_part_17',part_interest, ascend=True))"
   ]
  },
  {
   "cell_type": "markdown",
   "metadata": {},
   "source": [
    "**Of interest**: \n",
    "\n",
    "no new states"
   ]
  },
  {
   "cell_type": "code",
   "execution_count": 42,
   "metadata": {},
   "outputs": [
    {
     "data": {
      "text/html": [
       "<style  type=\"text/css\" >\n",
       "    #T_2def766c_25f3_11ea_bf5f_f0189815766crow0_col6 {\n",
       "            background-color:  yellow;\n",
       "        }    #T_2def766c_25f3_11ea_bf5f_f0189815766crow1_col6 {\n",
       "            background-color:  yellow;\n",
       "        }    #T_2def766c_25f3_11ea_bf5f_f0189815766crow2_col6 {\n",
       "            background-color:  yellow;\n",
       "        }    #T_2def766c_25f3_11ea_bf5f_f0189815766crow3_col6 {\n",
       "            background-color:  yellow;\n",
       "        }    #T_2def766c_25f3_11ea_bf5f_f0189815766crow4_col6 {\n",
       "            background-color:  yellow;\n",
       "        }</style><table id=\"T_2def766c_25f3_11ea_bf5f_f0189815766c\" ><thead>    <tr>        <th class=\"blank level0\" ></th>        <th class=\"col_heading level0 col0\" >state</th>        <th class=\"col_heading level0 col1\" >part_inc</th>        <th class=\"col_heading level0 col2\" >sat_part_17</th>        <th class=\"col_heading level0 col3\" >sat_part_18</th>        <th class=\"col_heading level0 col4\" >sat_part_inc</th>        <th class=\"col_heading level0 col5\" >act_part_17</th>        <th class=\"col_heading level0 col6\" >act_part_18</th>        <th class=\"col_heading level0 col7\" >act_part_inc</th>        <th class=\"col_heading level0 col8\" >sat_dom_17</th>        <th class=\"col_heading level0 col9\" >sat_dom_18</th>    </tr></thead><tbody>\n",
       "                <tr>\n",
       "                        <th id=\"T_2def766c_25f3_11ea_bf5f_f0189815766clevel0_row0\" class=\"row_heading level0 row0\" >0</th>\n",
       "                        <td id=\"T_2def766c_25f3_11ea_bf5f_f0189815766crow0_col0\" class=\"data row0 col0\" >alabama</td>\n",
       "                        <td id=\"T_2def766c_25f3_11ea_bf5f_f0189815766crow0_col1\" class=\"data row0 col1\" >1</td>\n",
       "                        <td id=\"T_2def766c_25f3_11ea_bf5f_f0189815766crow0_col2\" class=\"data row0 col2\" >5</td>\n",
       "                        <td id=\"T_2def766c_25f3_11ea_bf5f_f0189815766crow0_col3\" class=\"data row0 col3\" >6</td>\n",
       "                        <td id=\"T_2def766c_25f3_11ea_bf5f_f0189815766crow0_col4\" class=\"data row0 col4\" >1</td>\n",
       "                        <td id=\"T_2def766c_25f3_11ea_bf5f_f0189815766crow0_col5\" class=\"data row0 col5\" >100</td>\n",
       "                        <td id=\"T_2def766c_25f3_11ea_bf5f_f0189815766crow0_col6\" class=\"data row0 col6\" >100</td>\n",
       "                        <td id=\"T_2def766c_25f3_11ea_bf5f_f0189815766crow0_col7\" class=\"data row0 col7\" >0</td>\n",
       "                        <td id=\"T_2def766c_25f3_11ea_bf5f_f0189815766crow0_col8\" class=\"data row0 col8\" >False</td>\n",
       "                        <td id=\"T_2def766c_25f3_11ea_bf5f_f0189815766crow0_col9\" class=\"data row0 col9\" >False</td>\n",
       "            </tr>\n",
       "            <tr>\n",
       "                        <th id=\"T_2def766c_25f3_11ea_bf5f_f0189815766clevel0_row1\" class=\"row_heading level0 row1\" >17</th>\n",
       "                        <td id=\"T_2def766c_25f3_11ea_bf5f_f0189815766crow1_col0\" class=\"data row1 col0\" >kentucky</td>\n",
       "                        <td id=\"T_2def766c_25f3_11ea_bf5f_f0189815766crow1_col1\" class=\"data row1 col1\" >0</td>\n",
       "                        <td id=\"T_2def766c_25f3_11ea_bf5f_f0189815766crow1_col2\" class=\"data row1 col2\" >4</td>\n",
       "                        <td id=\"T_2def766c_25f3_11ea_bf5f_f0189815766crow1_col3\" class=\"data row1 col3\" >4</td>\n",
       "                        <td id=\"T_2def766c_25f3_11ea_bf5f_f0189815766crow1_col4\" class=\"data row1 col4\" >0</td>\n",
       "                        <td id=\"T_2def766c_25f3_11ea_bf5f_f0189815766crow1_col5\" class=\"data row1 col5\" >100</td>\n",
       "                        <td id=\"T_2def766c_25f3_11ea_bf5f_f0189815766crow1_col6\" class=\"data row1 col6\" >100</td>\n",
       "                        <td id=\"T_2def766c_25f3_11ea_bf5f_f0189815766crow1_col7\" class=\"data row1 col7\" >0</td>\n",
       "                        <td id=\"T_2def766c_25f3_11ea_bf5f_f0189815766crow1_col8\" class=\"data row1 col8\" >False</td>\n",
       "                        <td id=\"T_2def766c_25f3_11ea_bf5f_f0189815766crow1_col9\" class=\"data row1 col9\" >False</td>\n",
       "            </tr>\n",
       "            <tr>\n",
       "                        <th id=\"T_2def766c_25f3_11ea_bf5f_f0189815766clevel0_row2\" class=\"row_heading level0 row2\" >49</th>\n",
       "                        <td id=\"T_2def766c_25f3_11ea_bf5f_f0189815766crow2_col0\" class=\"data row2 col0\" >wisconsin</td>\n",
       "                        <td id=\"T_2def766c_25f3_11ea_bf5f_f0189815766crow2_col1\" class=\"data row2 col1\" >0</td>\n",
       "                        <td id=\"T_2def766c_25f3_11ea_bf5f_f0189815766crow2_col2\" class=\"data row2 col2\" >3</td>\n",
       "                        <td id=\"T_2def766c_25f3_11ea_bf5f_f0189815766crow2_col3\" class=\"data row2 col3\" >3</td>\n",
       "                        <td id=\"T_2def766c_25f3_11ea_bf5f_f0189815766crow2_col4\" class=\"data row2 col4\" >0</td>\n",
       "                        <td id=\"T_2def766c_25f3_11ea_bf5f_f0189815766crow2_col5\" class=\"data row2 col5\" >100</td>\n",
       "                        <td id=\"T_2def766c_25f3_11ea_bf5f_f0189815766crow2_col6\" class=\"data row2 col6\" >100</td>\n",
       "                        <td id=\"T_2def766c_25f3_11ea_bf5f_f0189815766crow2_col7\" class=\"data row2 col7\" >0</td>\n",
       "                        <td id=\"T_2def766c_25f3_11ea_bf5f_f0189815766crow2_col8\" class=\"data row2 col8\" >False</td>\n",
       "                        <td id=\"T_2def766c_25f3_11ea_bf5f_f0189815766crow2_col9\" class=\"data row2 col9\" >False</td>\n",
       "            </tr>\n",
       "            <tr>\n",
       "                        <th id=\"T_2def766c_25f3_11ea_bf5f_f0189815766clevel0_row3\" class=\"row_heading level0 row3\" >44</th>\n",
       "                        <td id=\"T_2def766c_25f3_11ea_bf5f_f0189815766crow3_col0\" class=\"data row3 col0\" >utah</td>\n",
       "                        <td id=\"T_2def766c_25f3_11ea_bf5f_f0189815766crow3_col1\" class=\"data row3 col1\" >1</td>\n",
       "                        <td id=\"T_2def766c_25f3_11ea_bf5f_f0189815766crow3_col2\" class=\"data row3 col2\" >3</td>\n",
       "                        <td id=\"T_2def766c_25f3_11ea_bf5f_f0189815766crow3_col3\" class=\"data row3 col3\" >4</td>\n",
       "                        <td id=\"T_2def766c_25f3_11ea_bf5f_f0189815766crow3_col4\" class=\"data row3 col4\" >1</td>\n",
       "                        <td id=\"T_2def766c_25f3_11ea_bf5f_f0189815766crow3_col5\" class=\"data row3 col5\" >100</td>\n",
       "                        <td id=\"T_2def766c_25f3_11ea_bf5f_f0189815766crow3_col6\" class=\"data row3 col6\" >100</td>\n",
       "                        <td id=\"T_2def766c_25f3_11ea_bf5f_f0189815766crow3_col7\" class=\"data row3 col7\" >0</td>\n",
       "                        <td id=\"T_2def766c_25f3_11ea_bf5f_f0189815766crow3_col8\" class=\"data row3 col8\" >False</td>\n",
       "                        <td id=\"T_2def766c_25f3_11ea_bf5f_f0189815766crow3_col9\" class=\"data row3 col9\" >False</td>\n",
       "            </tr>\n",
       "            <tr>\n",
       "                        <th id=\"T_2def766c_25f3_11ea_bf5f_f0189815766clevel0_row4\" class=\"row_heading level0 row4\" >42</th>\n",
       "                        <td id=\"T_2def766c_25f3_11ea_bf5f_f0189815766crow4_col0\" class=\"data row4 col0\" >tennessee</td>\n",
       "                        <td id=\"T_2def766c_25f3_11ea_bf5f_f0189815766crow4_col1\" class=\"data row4 col1\" >1</td>\n",
       "                        <td id=\"T_2def766c_25f3_11ea_bf5f_f0189815766crow4_col2\" class=\"data row4 col2\" >5</td>\n",
       "                        <td id=\"T_2def766c_25f3_11ea_bf5f_f0189815766crow4_col3\" class=\"data row4 col3\" >6</td>\n",
       "                        <td id=\"T_2def766c_25f3_11ea_bf5f_f0189815766crow4_col4\" class=\"data row4 col4\" >1</td>\n",
       "                        <td id=\"T_2def766c_25f3_11ea_bf5f_f0189815766crow4_col5\" class=\"data row4 col5\" >100</td>\n",
       "                        <td id=\"T_2def766c_25f3_11ea_bf5f_f0189815766crow4_col6\" class=\"data row4 col6\" >100</td>\n",
       "                        <td id=\"T_2def766c_25f3_11ea_bf5f_f0189815766crow4_col7\" class=\"data row4 col7\" >0</td>\n",
       "                        <td id=\"T_2def766c_25f3_11ea_bf5f_f0189815766crow4_col8\" class=\"data row4 col8\" >False</td>\n",
       "                        <td id=\"T_2def766c_25f3_11ea_bf5f_f0189815766crow4_col9\" class=\"data row4 col9\" >False</td>\n",
       "            </tr>\n",
       "    </tbody></table>"
      ],
      "text/plain": [
       "<pandas.io.formats.style.Styler at 0x1a2640d1d0>"
      ]
     },
     "metadata": {},
     "output_type": "display_data"
    },
    {
     "data": {
      "text/html": [
       "<style  type=\"text/css\" >\n",
       "    #T_2df0c5c6_25f3_11ea_bf5f_f0189815766crow0_col6 {\n",
       "            background-color:  yellow;\n",
       "        }    #T_2df0c5c6_25f3_11ea_bf5f_f0189815766crow1_col6 {\n",
       "            background-color:  yellow;\n",
       "        }    #T_2df0c5c6_25f3_11ea_bf5f_f0189815766crow2_col6 {\n",
       "            background-color:  yellow;\n",
       "        }    #T_2df0c5c6_25f3_11ea_bf5f_f0189815766crow3_col6 {\n",
       "            background-color:  yellow;\n",
       "        }    #T_2df0c5c6_25f3_11ea_bf5f_f0189815766crow4_col6 {\n",
       "            background-color:  yellow;\n",
       "        }</style><table id=\"T_2df0c5c6_25f3_11ea_bf5f_f0189815766c\" ><thead>    <tr>        <th class=\"blank level0\" ></th>        <th class=\"col_heading level0 col0\" >state</th>        <th class=\"col_heading level0 col1\" >part_inc</th>        <th class=\"col_heading level0 col2\" >sat_part_17</th>        <th class=\"col_heading level0 col3\" >sat_part_18</th>        <th class=\"col_heading level0 col4\" >sat_part_inc</th>        <th class=\"col_heading level0 col5\" >act_part_17</th>        <th class=\"col_heading level0 col6\" >act_part_18</th>        <th class=\"col_heading level0 col7\" >act_part_inc</th>        <th class=\"col_heading level0 col8\" >sat_dom_17</th>        <th class=\"col_heading level0 col9\" >sat_dom_18</th>    </tr></thead><tbody>\n",
       "                <tr>\n",
       "                        <th id=\"T_2df0c5c6_25f3_11ea_bf5f_f0189815766clevel0_row0\" class=\"row_heading level0 row0\" >19</th>\n",
       "                        <td id=\"T_2df0c5c6_25f3_11ea_bf5f_f0189815766crow0_col0\" class=\"data row0 col0\" >maine</td>\n",
       "                        <td id=\"T_2df0c5c6_25f3_11ea_bf5f_f0189815766crow0_col1\" class=\"data row0 col1\" >3</td>\n",
       "                        <td id=\"T_2df0c5c6_25f3_11ea_bf5f_f0189815766crow0_col2\" class=\"data row0 col2\" >95</td>\n",
       "                        <td id=\"T_2df0c5c6_25f3_11ea_bf5f_f0189815766crow0_col3\" class=\"data row0 col3\" >99</td>\n",
       "                        <td id=\"T_2df0c5c6_25f3_11ea_bf5f_f0189815766crow0_col4\" class=\"data row0 col4\" >4</td>\n",
       "                        <td id=\"T_2df0c5c6_25f3_11ea_bf5f_f0189815766crow0_col5\" class=\"data row0 col5\" >8</td>\n",
       "                        <td id=\"T_2df0c5c6_25f3_11ea_bf5f_f0189815766crow0_col6\" class=\"data row0 col6\" >7</td>\n",
       "                        <td id=\"T_2df0c5c6_25f3_11ea_bf5f_f0189815766crow0_col7\" class=\"data row0 col7\" >-1</td>\n",
       "                        <td id=\"T_2df0c5c6_25f3_11ea_bf5f_f0189815766crow0_col8\" class=\"data row0 col8\" >True</td>\n",
       "                        <td id=\"T_2df0c5c6_25f3_11ea_bf5f_f0189815766crow0_col9\" class=\"data row0 col9\" >True</td>\n",
       "            </tr>\n",
       "            <tr>\n",
       "                        <th id=\"T_2df0c5c6_25f3_11ea_bf5f_f0189815766clevel0_row1\" class=\"row_heading level0 row1\" >39</th>\n",
       "                        <td id=\"T_2df0c5c6_25f3_11ea_bf5f_f0189815766crow1_col0\" class=\"data row1 col0\" >rhode island</td>\n",
       "                        <td id=\"T_2df0c5c6_25f3_11ea_bf5f_f0189815766crow1_col1\" class=\"data row1 col1\" >20</td>\n",
       "                        <td id=\"T_2df0c5c6_25f3_11ea_bf5f_f0189815766crow1_col2\" class=\"data row1 col2\" >71</td>\n",
       "                        <td id=\"T_2df0c5c6_25f3_11ea_bf5f_f0189815766crow1_col3\" class=\"data row1 col3\" >97</td>\n",
       "                        <td id=\"T_2df0c5c6_25f3_11ea_bf5f_f0189815766crow1_col4\" class=\"data row1 col4\" >26</td>\n",
       "                        <td id=\"T_2df0c5c6_25f3_11ea_bf5f_f0189815766crow1_col5\" class=\"data row1 col5\" >21</td>\n",
       "                        <td id=\"T_2df0c5c6_25f3_11ea_bf5f_f0189815766crow1_col6\" class=\"data row1 col6\" >15</td>\n",
       "                        <td id=\"T_2df0c5c6_25f3_11ea_bf5f_f0189815766crow1_col7\" class=\"data row1 col7\" >-6</td>\n",
       "                        <td id=\"T_2df0c5c6_25f3_11ea_bf5f_f0189815766crow1_col8\" class=\"data row1 col8\" >True</td>\n",
       "                        <td id=\"T_2df0c5c6_25f3_11ea_bf5f_f0189815766crow1_col9\" class=\"data row1 col9\" >True</td>\n",
       "            </tr>\n",
       "            <tr>\n",
       "                        <th id=\"T_2df0c5c6_25f3_11ea_bf5f_f0189815766clevel0_row2\" class=\"row_heading level0 row2\" >29</th>\n",
       "                        <td id=\"T_2df0c5c6_25f3_11ea_bf5f_f0189815766crow2_col0\" class=\"data row2 col0\" >new hampshire</td>\n",
       "                        <td id=\"T_2df0c5c6_25f3_11ea_bf5f_f0189815766crow2_col1\" class=\"data row2 col1\" >-2</td>\n",
       "                        <td id=\"T_2df0c5c6_25f3_11ea_bf5f_f0189815766crow2_col2\" class=\"data row2 col2\" >96</td>\n",
       "                        <td id=\"T_2df0c5c6_25f3_11ea_bf5f_f0189815766crow2_col3\" class=\"data row2 col3\" >96</td>\n",
       "                        <td id=\"T_2df0c5c6_25f3_11ea_bf5f_f0189815766crow2_col4\" class=\"data row2 col4\" >0</td>\n",
       "                        <td id=\"T_2df0c5c6_25f3_11ea_bf5f_f0189815766crow2_col5\" class=\"data row2 col5\" >18</td>\n",
       "                        <td id=\"T_2df0c5c6_25f3_11ea_bf5f_f0189815766crow2_col6\" class=\"data row2 col6\" >16</td>\n",
       "                        <td id=\"T_2df0c5c6_25f3_11ea_bf5f_f0189815766crow2_col7\" class=\"data row2 col7\" >-2</td>\n",
       "                        <td id=\"T_2df0c5c6_25f3_11ea_bf5f_f0189815766crow2_col8\" class=\"data row2 col8\" >True</td>\n",
       "                        <td id=\"T_2df0c5c6_25f3_11ea_bf5f_f0189815766crow2_col9\" class=\"data row2 col9\" >True</td>\n",
       "            </tr>\n",
       "            <tr>\n",
       "                        <th id=\"T_2df0c5c6_25f3_11ea_bf5f_f0189815766clevel0_row3\" class=\"row_heading level0 row3\" >7</th>\n",
       "                        <td id=\"T_2df0c5c6_25f3_11ea_bf5f_f0189815766crow3_col0\" class=\"data row3 col0\" >delaware</td>\n",
       "                        <td id=\"T_2df0c5c6_25f3_11ea_bf5f_f0189815766crow3_col1\" class=\"data row3 col1\" >-1</td>\n",
       "                        <td id=\"T_2df0c5c6_25f3_11ea_bf5f_f0189815766crow3_col2\" class=\"data row3 col2\" >100</td>\n",
       "                        <td id=\"T_2df0c5c6_25f3_11ea_bf5f_f0189815766crow3_col3\" class=\"data row3 col3\" >100</td>\n",
       "                        <td id=\"T_2df0c5c6_25f3_11ea_bf5f_f0189815766crow3_col4\" class=\"data row3 col4\" >0</td>\n",
       "                        <td id=\"T_2df0c5c6_25f3_11ea_bf5f_f0189815766crow3_col5\" class=\"data row3 col5\" >18</td>\n",
       "                        <td id=\"T_2df0c5c6_25f3_11ea_bf5f_f0189815766crow3_col6\" class=\"data row3 col6\" >17</td>\n",
       "                        <td id=\"T_2df0c5c6_25f3_11ea_bf5f_f0189815766crow3_col7\" class=\"data row3 col7\" >-1</td>\n",
       "                        <td id=\"T_2df0c5c6_25f3_11ea_bf5f_f0189815766crow3_col8\" class=\"data row3 col8\" >True</td>\n",
       "                        <td id=\"T_2df0c5c6_25f3_11ea_bf5f_f0189815766crow3_col9\" class=\"data row3 col9\" >True</td>\n",
       "            </tr>\n",
       "            <tr>\n",
       "                        <th id=\"T_2df0c5c6_25f3_11ea_bf5f_f0189815766clevel0_row4\" class=\"row_heading level0 row4\" >38</th>\n",
       "                        <td id=\"T_2df0c5c6_25f3_11ea_bf5f_f0189815766crow4_col0\" class=\"data row4 col0\" >pennsylvania</td>\n",
       "                        <td id=\"T_2df0c5c6_25f3_11ea_bf5f_f0189815766crow4_col1\" class=\"data row4 col1\" >2</td>\n",
       "                        <td id=\"T_2df0c5c6_25f3_11ea_bf5f_f0189815766crow4_col2\" class=\"data row4 col2\" >65</td>\n",
       "                        <td id=\"T_2df0c5c6_25f3_11ea_bf5f_f0189815766crow4_col3\" class=\"data row4 col3\" >70</td>\n",
       "                        <td id=\"T_2df0c5c6_25f3_11ea_bf5f_f0189815766crow4_col4\" class=\"data row4 col4\" >5</td>\n",
       "                        <td id=\"T_2df0c5c6_25f3_11ea_bf5f_f0189815766crow4_col5\" class=\"data row4 col5\" >23</td>\n",
       "                        <td id=\"T_2df0c5c6_25f3_11ea_bf5f_f0189815766crow4_col6\" class=\"data row4 col6\" >20</td>\n",
       "                        <td id=\"T_2df0c5c6_25f3_11ea_bf5f_f0189815766crow4_col7\" class=\"data row4 col7\" >-3</td>\n",
       "                        <td id=\"T_2df0c5c6_25f3_11ea_bf5f_f0189815766crow4_col8\" class=\"data row4 col8\" >True</td>\n",
       "                        <td id=\"T_2df0c5c6_25f3_11ea_bf5f_f0189815766crow4_col9\" class=\"data row4 col9\" >True</td>\n",
       "            </tr>\n",
       "    </tbody></table>"
      ],
      "text/plain": [
       "<pandas.io.formats.style.Styler at 0x1a263c6f50>"
      ]
     },
     "metadata": {},
     "output_type": "display_data"
    }
   ],
   "source": [
    "# highest and lowest 2018 ACT participation\n",
    "display(df_value_sort_head(test_data,'act_part_18',part_interest))\n",
    "display(df_value_sort_head(test_data,'act_part_18',part_interest, ascend=True))"
   ]
  },
  {
   "cell_type": "markdown",
   "metadata": {},
   "source": [
    "**Of interest**: \n",
    "\n",
    "**Pennsylvania**: Low total participation"
   ]
  },
  {
   "cell_type": "markdown",
   "metadata": {},
   "source": [
    "##### States with lots of participation in both tests"
   ]
  },
  {
   "cell_type": "code",
   "execution_count": 43,
   "metadata": {},
   "outputs": [],
   "source": [
    "# boolean filter for SAT and ACT part >50 in 2017 and 2018\n",
    "high_part_17_filt = (test_data['sat_part_17'] >= 50) & (test_data['act_part_17'] >= 50)\n",
    "high_part_18_filt = (test_data['sat_part_18'] >= 50) & (test_data['act_part_18'] >= 50)"
   ]
  },
  {
   "cell_type": "code",
   "execution_count": 44,
   "metadata": {},
   "outputs": [
    {
     "data": {
      "text/html": [
       "<div>\n",
       "<style scoped>\n",
       "    .dataframe tbody tr th:only-of-type {\n",
       "        vertical-align: middle;\n",
       "    }\n",
       "\n",
       "    .dataframe tbody tr th {\n",
       "        vertical-align: top;\n",
       "    }\n",
       "\n",
       "    .dataframe thead th {\n",
       "        text-align: right;\n",
       "    }\n",
       "</style>\n",
       "<table border=\"1\" class=\"dataframe\">\n",
       "  <thead>\n",
       "    <tr style=\"text-align: right;\">\n",
       "      <th></th>\n",
       "      <th>state</th>\n",
       "      <th>part_inc</th>\n",
       "      <th>sat_part_17</th>\n",
       "      <th>sat_part_18</th>\n",
       "      <th>sat_part_inc</th>\n",
       "      <th>act_part_17</th>\n",
       "      <th>act_part_18</th>\n",
       "      <th>act_part_inc</th>\n",
       "      <th>sat_dom_17</th>\n",
       "      <th>sat_dom_18</th>\n",
       "    </tr>\n",
       "  </thead>\n",
       "  <tbody>\n",
       "    <tr>\n",
       "      <th>9</th>\n",
       "      <td>florida</td>\n",
       "      <td>7.0</td>\n",
       "      <td>83.0</td>\n",
       "      <td>97.0</td>\n",
       "      <td>14.0</td>\n",
       "      <td>73.0</td>\n",
       "      <td>66.0</td>\n",
       "      <td>-7.0</td>\n",
       "      <td>True</td>\n",
       "      <td>True</td>\n",
       "    </tr>\n",
       "    <tr>\n",
       "      <th>10</th>\n",
       "      <td>georgia</td>\n",
       "      <td>7.0</td>\n",
       "      <td>61.0</td>\n",
       "      <td>70.0</td>\n",
       "      <td>9.0</td>\n",
       "      <td>55.0</td>\n",
       "      <td>53.0</td>\n",
       "      <td>-2.0</td>\n",
       "      <td>True</td>\n",
       "      <td>True</td>\n",
       "    </tr>\n",
       "    <tr>\n",
       "      <th>11</th>\n",
       "      <td>hawaii</td>\n",
       "      <td>0.0</td>\n",
       "      <td>55.0</td>\n",
       "      <td>56.0</td>\n",
       "      <td>1.0</td>\n",
       "      <td>90.0</td>\n",
       "      <td>89.0</td>\n",
       "      <td>-1.0</td>\n",
       "      <td>False</td>\n",
       "      <td>False</td>\n",
       "    </tr>\n",
       "    <tr>\n",
       "      <th>40</th>\n",
       "      <td>south carolina</td>\n",
       "      <td>5.0</td>\n",
       "      <td>50.0</td>\n",
       "      <td>55.0</td>\n",
       "      <td>5.0</td>\n",
       "      <td>100.0</td>\n",
       "      <td>100.0</td>\n",
       "      <td>0.0</td>\n",
       "      <td>False</td>\n",
       "      <td>False</td>\n",
       "    </tr>\n",
       "  </tbody>\n",
       "</table>\n",
       "</div>"
      ],
      "text/plain": [
       "             state  part_inc  sat_part_17  sat_part_18  sat_part_inc  \\\n",
       "9          florida       7.0         83.0         97.0          14.0   \n",
       "10         georgia       7.0         61.0         70.0           9.0   \n",
       "11          hawaii       0.0         55.0         56.0           1.0   \n",
       "40  south carolina       5.0         50.0         55.0           5.0   \n",
       "\n",
       "    act_part_17  act_part_18  act_part_inc  sat_dom_17  sat_dom_18  \n",
       "9          73.0         66.0          -7.0        True        True  \n",
       "10         55.0         53.0          -2.0        True        True  \n",
       "11         90.0         89.0          -1.0       False       False  \n",
       "40        100.0        100.0           0.0       False       False  "
      ]
     },
     "metadata": {},
     "output_type": "display_data"
    },
    {
     "data": {
      "text/html": [
       "<div>\n",
       "<style scoped>\n",
       "    .dataframe tbody tr th:only-of-type {\n",
       "        vertical-align: middle;\n",
       "    }\n",
       "\n",
       "    .dataframe tbody tr th {\n",
       "        vertical-align: top;\n",
       "    }\n",
       "\n",
       "    .dataframe thead th {\n",
       "        text-align: right;\n",
       "    }\n",
       "</style>\n",
       "<table border=\"1\" class=\"dataframe\">\n",
       "  <thead>\n",
       "    <tr style=\"text-align: right;\">\n",
       "      <th></th>\n",
       "      <th>state</th>\n",
       "      <th>part_inc</th>\n",
       "      <th>sat_part_17</th>\n",
       "      <th>sat_part_18</th>\n",
       "      <th>sat_part_inc</th>\n",
       "      <th>act_part_17</th>\n",
       "      <th>act_part_18</th>\n",
       "      <th>act_part_inc</th>\n",
       "      <th>sat_dom_17</th>\n",
       "      <th>sat_dom_18</th>\n",
       "    </tr>\n",
       "  </thead>\n",
       "  <tbody>\n",
       "    <tr>\n",
       "      <th>9</th>\n",
       "      <td>florida</td>\n",
       "      <td>7.0</td>\n",
       "      <td>83.0</td>\n",
       "      <td>97.0</td>\n",
       "      <td>14.0</td>\n",
       "      <td>73.0</td>\n",
       "      <td>66.0</td>\n",
       "      <td>-7.0</td>\n",
       "      <td>True</td>\n",
       "      <td>True</td>\n",
       "    </tr>\n",
       "    <tr>\n",
       "      <th>10</th>\n",
       "      <td>georgia</td>\n",
       "      <td>7.0</td>\n",
       "      <td>61.0</td>\n",
       "      <td>70.0</td>\n",
       "      <td>9.0</td>\n",
       "      <td>55.0</td>\n",
       "      <td>53.0</td>\n",
       "      <td>-2.0</td>\n",
       "      <td>True</td>\n",
       "      <td>True</td>\n",
       "    </tr>\n",
       "    <tr>\n",
       "      <th>11</th>\n",
       "      <td>hawaii</td>\n",
       "      <td>0.0</td>\n",
       "      <td>55.0</td>\n",
       "      <td>56.0</td>\n",
       "      <td>1.0</td>\n",
       "      <td>90.0</td>\n",
       "      <td>89.0</td>\n",
       "      <td>-1.0</td>\n",
       "      <td>False</td>\n",
       "      <td>False</td>\n",
       "    </tr>\n",
       "    <tr>\n",
       "      <th>33</th>\n",
       "      <td>north carolina</td>\n",
       "      <td>3.0</td>\n",
       "      <td>49.0</td>\n",
       "      <td>52.0</td>\n",
       "      <td>3.0</td>\n",
       "      <td>100.0</td>\n",
       "      <td>100.0</td>\n",
       "      <td>0.0</td>\n",
       "      <td>False</td>\n",
       "      <td>False</td>\n",
       "    </tr>\n",
       "    <tr>\n",
       "      <th>40</th>\n",
       "      <td>south carolina</td>\n",
       "      <td>5.0</td>\n",
       "      <td>50.0</td>\n",
       "      <td>55.0</td>\n",
       "      <td>5.0</td>\n",
       "      <td>100.0</td>\n",
       "      <td>100.0</td>\n",
       "      <td>0.0</td>\n",
       "      <td>False</td>\n",
       "      <td>False</td>\n",
       "    </tr>\n",
       "  </tbody>\n",
       "</table>\n",
       "</div>"
      ],
      "text/plain": [
       "             state  part_inc  sat_part_17  sat_part_18  sat_part_inc  \\\n",
       "9          florida       7.0         83.0         97.0          14.0   \n",
       "10         georgia       7.0         61.0         70.0           9.0   \n",
       "11          hawaii       0.0         55.0         56.0           1.0   \n",
       "33  north carolina       3.0         49.0         52.0           3.0   \n",
       "40  south carolina       5.0         50.0         55.0           5.0   \n",
       "\n",
       "    act_part_17  act_part_18  act_part_inc  sat_dom_17  sat_dom_18  \n",
       "9          73.0         66.0          -7.0        True        True  \n",
       "10         55.0         53.0          -2.0        True        True  \n",
       "11         90.0         89.0          -1.0       False       False  \n",
       "33        100.0        100.0           0.0       False       False  \n",
       "40        100.0        100.0           0.0       False       False  "
      ]
     },
     "metadata": {},
     "output_type": "display_data"
    }
   ],
   "source": [
    "# high participation states\n",
    "display(test_data[high_part_17_filt][part_interest].head())\n",
    "display(test_data[high_part_18_filt][part_interest].head())"
   ]
  },
  {
   "cell_type": "markdown",
   "metadata": {},
   "source": [
    "**Of interest:**\n",
    "\n",
    "**North Carolina**: Narrowly missed out in 2017 but joined in 2018"
   ]
  },
  {
   "cell_type": "markdown",
   "metadata": {},
   "source": [
    "###### Highest Scores"
   ]
  },
  {
   "cell_type": "code",
   "execution_count": 45,
   "metadata": {},
   "outputs": [],
   "source": [
    "# Columns to display when showing highest scores\n",
    "score_interest = ['state',\n",
    "                 'sat_part_17','sat_total_17',\n",
    "                 'sat_part_18','sat_total_18',\n",
    "                 'sat_part_inc',\n",
    "                 'act_part_17','act_comp_17',\n",
    "                 'act_part_18','act_comp_18',\n",
    "                 'act_part_inc',\n",
    "                 'sat_dom_17','sat_dom_18']"
   ]
  },
  {
   "cell_type": "code",
   "execution_count": 46,
   "metadata": {},
   "outputs": [
    {
     "data": {
      "text/html": [
       "<style  type=\"text/css\" >\n",
       "    #T_2e000856_25f3_11ea_bf5f_f0189815766crow0_col2 {\n",
       "            background-color:  yellow;\n",
       "        }    #T_2e000856_25f3_11ea_bf5f_f0189815766crow1_col2 {\n",
       "            background-color:  yellow;\n",
       "        }    #T_2e000856_25f3_11ea_bf5f_f0189815766crow2_col2 {\n",
       "            background-color:  yellow;\n",
       "        }    #T_2e000856_25f3_11ea_bf5f_f0189815766crow3_col2 {\n",
       "            background-color:  yellow;\n",
       "        }    #T_2e000856_25f3_11ea_bf5f_f0189815766crow4_col2 {\n",
       "            background-color:  yellow;\n",
       "        }</style><table id=\"T_2e000856_25f3_11ea_bf5f_f0189815766c\" ><thead>    <tr>        <th class=\"blank level0\" ></th>        <th class=\"col_heading level0 col0\" >state</th>        <th class=\"col_heading level0 col1\" >sat_part_17</th>        <th class=\"col_heading level0 col2\" >sat_total_17</th>        <th class=\"col_heading level0 col3\" >sat_part_18</th>        <th class=\"col_heading level0 col4\" >sat_total_18</th>        <th class=\"col_heading level0 col5\" >sat_part_inc</th>        <th class=\"col_heading level0 col6\" >act_part_17</th>        <th class=\"col_heading level0 col7\" >act_comp_17</th>        <th class=\"col_heading level0 col8\" >act_part_18</th>        <th class=\"col_heading level0 col9\" >act_comp_18</th>        <th class=\"col_heading level0 col10\" >act_part_inc</th>        <th class=\"col_heading level0 col11\" >sat_dom_17</th>        <th class=\"col_heading level0 col12\" >sat_dom_18</th>    </tr></thead><tbody>\n",
       "                <tr>\n",
       "                        <th id=\"T_2e000856_25f3_11ea_bf5f_f0189815766clevel0_row0\" class=\"row_heading level0 row0\" >23</th>\n",
       "                        <td id=\"T_2e000856_25f3_11ea_bf5f_f0189815766crow0_col0\" class=\"data row0 col0\" >minnesota</td>\n",
       "                        <td id=\"T_2e000856_25f3_11ea_bf5f_f0189815766crow0_col1\" class=\"data row0 col1\" >3</td>\n",
       "                        <td id=\"T_2e000856_25f3_11ea_bf5f_f0189815766crow0_col2\" class=\"data row0 col2\" >1295</td>\n",
       "                        <td id=\"T_2e000856_25f3_11ea_bf5f_f0189815766crow0_col3\" class=\"data row0 col3\" >4</td>\n",
       "                        <td id=\"T_2e000856_25f3_11ea_bf5f_f0189815766crow0_col4\" class=\"data row0 col4\" >1298</td>\n",
       "                        <td id=\"T_2e000856_25f3_11ea_bf5f_f0189815766crow0_col5\" class=\"data row0 col5\" >1</td>\n",
       "                        <td id=\"T_2e000856_25f3_11ea_bf5f_f0189815766crow0_col6\" class=\"data row0 col6\" >100</td>\n",
       "                        <td id=\"T_2e000856_25f3_11ea_bf5f_f0189815766crow0_col7\" class=\"data row0 col7\" >21.5</td>\n",
       "                        <td id=\"T_2e000856_25f3_11ea_bf5f_f0189815766crow0_col8\" class=\"data row0 col8\" >99</td>\n",
       "                        <td id=\"T_2e000856_25f3_11ea_bf5f_f0189815766crow0_col9\" class=\"data row0 col9\" >21.3</td>\n",
       "                        <td id=\"T_2e000856_25f3_11ea_bf5f_f0189815766crow0_col10\" class=\"data row0 col10\" >-1</td>\n",
       "                        <td id=\"T_2e000856_25f3_11ea_bf5f_f0189815766crow0_col11\" class=\"data row0 col11\" >False</td>\n",
       "                        <td id=\"T_2e000856_25f3_11ea_bf5f_f0189815766crow0_col12\" class=\"data row0 col12\" >False</td>\n",
       "            </tr>\n",
       "            <tr>\n",
       "                        <th id=\"T_2e000856_25f3_11ea_bf5f_f0189815766clevel0_row1\" class=\"row_heading level0 row1\" >49</th>\n",
       "                        <td id=\"T_2e000856_25f3_11ea_bf5f_f0189815766crow1_col0\" class=\"data row1 col0\" >wisconsin</td>\n",
       "                        <td id=\"T_2e000856_25f3_11ea_bf5f_f0189815766crow1_col1\" class=\"data row1 col1\" >3</td>\n",
       "                        <td id=\"T_2e000856_25f3_11ea_bf5f_f0189815766crow1_col2\" class=\"data row1 col2\" >1291</td>\n",
       "                        <td id=\"T_2e000856_25f3_11ea_bf5f_f0189815766crow1_col3\" class=\"data row1 col3\" >3</td>\n",
       "                        <td id=\"T_2e000856_25f3_11ea_bf5f_f0189815766crow1_col4\" class=\"data row1 col4\" >1294</td>\n",
       "                        <td id=\"T_2e000856_25f3_11ea_bf5f_f0189815766crow1_col5\" class=\"data row1 col5\" >0</td>\n",
       "                        <td id=\"T_2e000856_25f3_11ea_bf5f_f0189815766crow1_col6\" class=\"data row1 col6\" >100</td>\n",
       "                        <td id=\"T_2e000856_25f3_11ea_bf5f_f0189815766crow1_col7\" class=\"data row1 col7\" >20.5</td>\n",
       "                        <td id=\"T_2e000856_25f3_11ea_bf5f_f0189815766crow1_col8\" class=\"data row1 col8\" >100</td>\n",
       "                        <td id=\"T_2e000856_25f3_11ea_bf5f_f0189815766crow1_col9\" class=\"data row1 col9\" >20.5</td>\n",
       "                        <td id=\"T_2e000856_25f3_11ea_bf5f_f0189815766crow1_col10\" class=\"data row1 col10\" >0</td>\n",
       "                        <td id=\"T_2e000856_25f3_11ea_bf5f_f0189815766crow1_col11\" class=\"data row1 col11\" >False</td>\n",
       "                        <td id=\"T_2e000856_25f3_11ea_bf5f_f0189815766crow1_col12\" class=\"data row1 col12\" >False</td>\n",
       "            </tr>\n",
       "            <tr>\n",
       "                        <th id=\"T_2e000856_25f3_11ea_bf5f_f0189815766clevel0_row2\" class=\"row_heading level0 row2\" >15</th>\n",
       "                        <td id=\"T_2e000856_25f3_11ea_bf5f_f0189815766crow2_col0\" class=\"data row2 col0\" >iowa</td>\n",
       "                        <td id=\"T_2e000856_25f3_11ea_bf5f_f0189815766crow2_col1\" class=\"data row2 col1\" >2</td>\n",
       "                        <td id=\"T_2e000856_25f3_11ea_bf5f_f0189815766crow2_col2\" class=\"data row2 col2\" >1275</td>\n",
       "                        <td id=\"T_2e000856_25f3_11ea_bf5f_f0189815766crow2_col3\" class=\"data row2 col3\" >3</td>\n",
       "                        <td id=\"T_2e000856_25f3_11ea_bf5f_f0189815766crow2_col4\" class=\"data row2 col4\" >1265</td>\n",
       "                        <td id=\"T_2e000856_25f3_11ea_bf5f_f0189815766crow2_col5\" class=\"data row2 col5\" >1</td>\n",
       "                        <td id=\"T_2e000856_25f3_11ea_bf5f_f0189815766crow2_col6\" class=\"data row2 col6\" >67</td>\n",
       "                        <td id=\"T_2e000856_25f3_11ea_bf5f_f0189815766crow2_col7\" class=\"data row2 col7\" >21.9</td>\n",
       "                        <td id=\"T_2e000856_25f3_11ea_bf5f_f0189815766crow2_col8\" class=\"data row2 col8\" >68</td>\n",
       "                        <td id=\"T_2e000856_25f3_11ea_bf5f_f0189815766crow2_col9\" class=\"data row2 col9\" >21.8</td>\n",
       "                        <td id=\"T_2e000856_25f3_11ea_bf5f_f0189815766crow2_col10\" class=\"data row2 col10\" >1</td>\n",
       "                        <td id=\"T_2e000856_25f3_11ea_bf5f_f0189815766crow2_col11\" class=\"data row2 col11\" >False</td>\n",
       "                        <td id=\"T_2e000856_25f3_11ea_bf5f_f0189815766crow2_col12\" class=\"data row2 col12\" >False</td>\n",
       "            </tr>\n",
       "            <tr>\n",
       "                        <th id=\"T_2e000856_25f3_11ea_bf5f_f0189815766clevel0_row3\" class=\"row_heading level0 row3\" >25</th>\n",
       "                        <td id=\"T_2e000856_25f3_11ea_bf5f_f0189815766crow3_col0\" class=\"data row3 col0\" >missouri</td>\n",
       "                        <td id=\"T_2e000856_25f3_11ea_bf5f_f0189815766crow3_col1\" class=\"data row3 col1\" >3</td>\n",
       "                        <td id=\"T_2e000856_25f3_11ea_bf5f_f0189815766crow3_col2\" class=\"data row3 col2\" >1271</td>\n",
       "                        <td id=\"T_2e000856_25f3_11ea_bf5f_f0189815766crow3_col3\" class=\"data row3 col3\" >4</td>\n",
       "                        <td id=\"T_2e000856_25f3_11ea_bf5f_f0189815766crow3_col4\" class=\"data row3 col4\" >1262</td>\n",
       "                        <td id=\"T_2e000856_25f3_11ea_bf5f_f0189815766crow3_col5\" class=\"data row3 col5\" >1</td>\n",
       "                        <td id=\"T_2e000856_25f3_11ea_bf5f_f0189815766crow3_col6\" class=\"data row3 col6\" >100</td>\n",
       "                        <td id=\"T_2e000856_25f3_11ea_bf5f_f0189815766crow3_col7\" class=\"data row3 col7\" >20.4</td>\n",
       "                        <td id=\"T_2e000856_25f3_11ea_bf5f_f0189815766crow3_col8\" class=\"data row3 col8\" >100</td>\n",
       "                        <td id=\"T_2e000856_25f3_11ea_bf5f_f0189815766crow3_col9\" class=\"data row3 col9\" >20</td>\n",
       "                        <td id=\"T_2e000856_25f3_11ea_bf5f_f0189815766crow3_col10\" class=\"data row3 col10\" >0</td>\n",
       "                        <td id=\"T_2e000856_25f3_11ea_bf5f_f0189815766crow3_col11\" class=\"data row3 col11\" >False</td>\n",
       "                        <td id=\"T_2e000856_25f3_11ea_bf5f_f0189815766crow3_col12\" class=\"data row3 col12\" >False</td>\n",
       "            </tr>\n",
       "            <tr>\n",
       "                        <th id=\"T_2e000856_25f3_11ea_bf5f_f0189815766clevel0_row4\" class=\"row_heading level0 row4\" >16</th>\n",
       "                        <td id=\"T_2e000856_25f3_11ea_bf5f_f0189815766crow4_col0\" class=\"data row4 col0\" >kansas</td>\n",
       "                        <td id=\"T_2e000856_25f3_11ea_bf5f_f0189815766crow4_col1\" class=\"data row4 col1\" >4</td>\n",
       "                        <td id=\"T_2e000856_25f3_11ea_bf5f_f0189815766crow4_col2\" class=\"data row4 col2\" >1260</td>\n",
       "                        <td id=\"T_2e000856_25f3_11ea_bf5f_f0189815766crow4_col3\" class=\"data row4 col3\" >4</td>\n",
       "                        <td id=\"T_2e000856_25f3_11ea_bf5f_f0189815766crow4_col4\" class=\"data row4 col4\" >1265</td>\n",
       "                        <td id=\"T_2e000856_25f3_11ea_bf5f_f0189815766crow4_col5\" class=\"data row4 col5\" >0</td>\n",
       "                        <td id=\"T_2e000856_25f3_11ea_bf5f_f0189815766crow4_col6\" class=\"data row4 col6\" >73</td>\n",
       "                        <td id=\"T_2e000856_25f3_11ea_bf5f_f0189815766crow4_col7\" class=\"data row4 col7\" >21.7</td>\n",
       "                        <td id=\"T_2e000856_25f3_11ea_bf5f_f0189815766crow4_col8\" class=\"data row4 col8\" >71</td>\n",
       "                        <td id=\"T_2e000856_25f3_11ea_bf5f_f0189815766crow4_col9\" class=\"data row4 col9\" >21.6</td>\n",
       "                        <td id=\"T_2e000856_25f3_11ea_bf5f_f0189815766crow4_col10\" class=\"data row4 col10\" >-2</td>\n",
       "                        <td id=\"T_2e000856_25f3_11ea_bf5f_f0189815766crow4_col11\" class=\"data row4 col11\" >False</td>\n",
       "                        <td id=\"T_2e000856_25f3_11ea_bf5f_f0189815766crow4_col12\" class=\"data row4 col12\" >False</td>\n",
       "            </tr>\n",
       "    </tbody></table>"
      ],
      "text/plain": [
       "<pandas.io.formats.style.Styler at 0x1a2640d210>"
      ]
     },
     "metadata": {},
     "output_type": "display_data"
    },
    {
     "data": {
      "text/html": [
       "<style  type=\"text/css\" >\n",
       "    #T_2e064504_25f3_11ea_bf5f_f0189815766crow0_col4 {\n",
       "            background-color:  yellow;\n",
       "        }    #T_2e064504_25f3_11ea_bf5f_f0189815766crow1_col4 {\n",
       "            background-color:  yellow;\n",
       "        }    #T_2e064504_25f3_11ea_bf5f_f0189815766crow2_col4 {\n",
       "            background-color:  yellow;\n",
       "        }    #T_2e064504_25f3_11ea_bf5f_f0189815766crow3_col4 {\n",
       "            background-color:  yellow;\n",
       "        }    #T_2e064504_25f3_11ea_bf5f_f0189815766crow4_col4 {\n",
       "            background-color:  yellow;\n",
       "        }</style><table id=\"T_2e064504_25f3_11ea_bf5f_f0189815766c\" ><thead>    <tr>        <th class=\"blank level0\" ></th>        <th class=\"col_heading level0 col0\" >state</th>        <th class=\"col_heading level0 col1\" >sat_part_17</th>        <th class=\"col_heading level0 col2\" >sat_total_17</th>        <th class=\"col_heading level0 col3\" >sat_part_18</th>        <th class=\"col_heading level0 col4\" >sat_total_18</th>        <th class=\"col_heading level0 col5\" >sat_part_inc</th>        <th class=\"col_heading level0 col6\" >act_part_17</th>        <th class=\"col_heading level0 col7\" >act_comp_17</th>        <th class=\"col_heading level0 col8\" >act_part_18</th>        <th class=\"col_heading level0 col9\" >act_comp_18</th>        <th class=\"col_heading level0 col10\" >act_part_inc</th>        <th class=\"col_heading level0 col11\" >sat_dom_17</th>        <th class=\"col_heading level0 col12\" >sat_dom_18</th>    </tr></thead><tbody>\n",
       "                <tr>\n",
       "                        <th id=\"T_2e064504_25f3_11ea_bf5f_f0189815766clevel0_row0\" class=\"row_heading level0 row0\" >23</th>\n",
       "                        <td id=\"T_2e064504_25f3_11ea_bf5f_f0189815766crow0_col0\" class=\"data row0 col0\" >minnesota</td>\n",
       "                        <td id=\"T_2e064504_25f3_11ea_bf5f_f0189815766crow0_col1\" class=\"data row0 col1\" >3</td>\n",
       "                        <td id=\"T_2e064504_25f3_11ea_bf5f_f0189815766crow0_col2\" class=\"data row0 col2\" >1295</td>\n",
       "                        <td id=\"T_2e064504_25f3_11ea_bf5f_f0189815766crow0_col3\" class=\"data row0 col3\" >4</td>\n",
       "                        <td id=\"T_2e064504_25f3_11ea_bf5f_f0189815766crow0_col4\" class=\"data row0 col4\" >1298</td>\n",
       "                        <td id=\"T_2e064504_25f3_11ea_bf5f_f0189815766crow0_col5\" class=\"data row0 col5\" >1</td>\n",
       "                        <td id=\"T_2e064504_25f3_11ea_bf5f_f0189815766crow0_col6\" class=\"data row0 col6\" >100</td>\n",
       "                        <td id=\"T_2e064504_25f3_11ea_bf5f_f0189815766crow0_col7\" class=\"data row0 col7\" >21.5</td>\n",
       "                        <td id=\"T_2e064504_25f3_11ea_bf5f_f0189815766crow0_col8\" class=\"data row0 col8\" >99</td>\n",
       "                        <td id=\"T_2e064504_25f3_11ea_bf5f_f0189815766crow0_col9\" class=\"data row0 col9\" >21.3</td>\n",
       "                        <td id=\"T_2e064504_25f3_11ea_bf5f_f0189815766crow0_col10\" class=\"data row0 col10\" >-1</td>\n",
       "                        <td id=\"T_2e064504_25f3_11ea_bf5f_f0189815766crow0_col11\" class=\"data row0 col11\" >False</td>\n",
       "                        <td id=\"T_2e064504_25f3_11ea_bf5f_f0189815766crow0_col12\" class=\"data row0 col12\" >False</td>\n",
       "            </tr>\n",
       "            <tr>\n",
       "                        <th id=\"T_2e064504_25f3_11ea_bf5f_f0189815766clevel0_row1\" class=\"row_heading level0 row1\" >49</th>\n",
       "                        <td id=\"T_2e064504_25f3_11ea_bf5f_f0189815766crow1_col0\" class=\"data row1 col0\" >wisconsin</td>\n",
       "                        <td id=\"T_2e064504_25f3_11ea_bf5f_f0189815766crow1_col1\" class=\"data row1 col1\" >3</td>\n",
       "                        <td id=\"T_2e064504_25f3_11ea_bf5f_f0189815766crow1_col2\" class=\"data row1 col2\" >1291</td>\n",
       "                        <td id=\"T_2e064504_25f3_11ea_bf5f_f0189815766crow1_col3\" class=\"data row1 col3\" >3</td>\n",
       "                        <td id=\"T_2e064504_25f3_11ea_bf5f_f0189815766crow1_col4\" class=\"data row1 col4\" >1294</td>\n",
       "                        <td id=\"T_2e064504_25f3_11ea_bf5f_f0189815766crow1_col5\" class=\"data row1 col5\" >0</td>\n",
       "                        <td id=\"T_2e064504_25f3_11ea_bf5f_f0189815766crow1_col6\" class=\"data row1 col6\" >100</td>\n",
       "                        <td id=\"T_2e064504_25f3_11ea_bf5f_f0189815766crow1_col7\" class=\"data row1 col7\" >20.5</td>\n",
       "                        <td id=\"T_2e064504_25f3_11ea_bf5f_f0189815766crow1_col8\" class=\"data row1 col8\" >100</td>\n",
       "                        <td id=\"T_2e064504_25f3_11ea_bf5f_f0189815766crow1_col9\" class=\"data row1 col9\" >20.5</td>\n",
       "                        <td id=\"T_2e064504_25f3_11ea_bf5f_f0189815766crow1_col10\" class=\"data row1 col10\" >0</td>\n",
       "                        <td id=\"T_2e064504_25f3_11ea_bf5f_f0189815766crow1_col11\" class=\"data row1 col11\" >False</td>\n",
       "                        <td id=\"T_2e064504_25f3_11ea_bf5f_f0189815766crow1_col12\" class=\"data row1 col12\" >False</td>\n",
       "            </tr>\n",
       "            <tr>\n",
       "                        <th id=\"T_2e064504_25f3_11ea_bf5f_f0189815766clevel0_row2\" class=\"row_heading level0 row2\" >34</th>\n",
       "                        <td id=\"T_2e064504_25f3_11ea_bf5f_f0189815766crow2_col0\" class=\"data row2 col0\" >north dakota</td>\n",
       "                        <td id=\"T_2e064504_25f3_11ea_bf5f_f0189815766crow2_col1\" class=\"data row2 col1\" >2</td>\n",
       "                        <td id=\"T_2e064504_25f3_11ea_bf5f_f0189815766crow2_col2\" class=\"data row2 col2\" >1256</td>\n",
       "                        <td id=\"T_2e064504_25f3_11ea_bf5f_f0189815766crow2_col3\" class=\"data row2 col3\" >2</td>\n",
       "                        <td id=\"T_2e064504_25f3_11ea_bf5f_f0189815766crow2_col4\" class=\"data row2 col4\" >1283</td>\n",
       "                        <td id=\"T_2e064504_25f3_11ea_bf5f_f0189815766crow2_col5\" class=\"data row2 col5\" >0</td>\n",
       "                        <td id=\"T_2e064504_25f3_11ea_bf5f_f0189815766crow2_col6\" class=\"data row2 col6\" >98</td>\n",
       "                        <td id=\"T_2e064504_25f3_11ea_bf5f_f0189815766crow2_col7\" class=\"data row2 col7\" >20.3</td>\n",
       "                        <td id=\"T_2e064504_25f3_11ea_bf5f_f0189815766crow2_col8\" class=\"data row2 col8\" >98</td>\n",
       "                        <td id=\"T_2e064504_25f3_11ea_bf5f_f0189815766crow2_col9\" class=\"data row2 col9\" >20.3</td>\n",
       "                        <td id=\"T_2e064504_25f3_11ea_bf5f_f0189815766crow2_col10\" class=\"data row2 col10\" >0</td>\n",
       "                        <td id=\"T_2e064504_25f3_11ea_bf5f_f0189815766crow2_col11\" class=\"data row2 col11\" >False</td>\n",
       "                        <td id=\"T_2e064504_25f3_11ea_bf5f_f0189815766crow2_col12\" class=\"data row2 col12\" >False</td>\n",
       "            </tr>\n",
       "            <tr>\n",
       "                        <th id=\"T_2e064504_25f3_11ea_bf5f_f0189815766clevel0_row3\" class=\"row_heading level0 row3\" >15</th>\n",
       "                        <td id=\"T_2e064504_25f3_11ea_bf5f_f0189815766crow3_col0\" class=\"data row3 col0\" >iowa</td>\n",
       "                        <td id=\"T_2e064504_25f3_11ea_bf5f_f0189815766crow3_col1\" class=\"data row3 col1\" >2</td>\n",
       "                        <td id=\"T_2e064504_25f3_11ea_bf5f_f0189815766crow3_col2\" class=\"data row3 col2\" >1275</td>\n",
       "                        <td id=\"T_2e064504_25f3_11ea_bf5f_f0189815766crow3_col3\" class=\"data row3 col3\" >3</td>\n",
       "                        <td id=\"T_2e064504_25f3_11ea_bf5f_f0189815766crow3_col4\" class=\"data row3 col4\" >1265</td>\n",
       "                        <td id=\"T_2e064504_25f3_11ea_bf5f_f0189815766crow3_col5\" class=\"data row3 col5\" >1</td>\n",
       "                        <td id=\"T_2e064504_25f3_11ea_bf5f_f0189815766crow3_col6\" class=\"data row3 col6\" >67</td>\n",
       "                        <td id=\"T_2e064504_25f3_11ea_bf5f_f0189815766crow3_col7\" class=\"data row3 col7\" >21.9</td>\n",
       "                        <td id=\"T_2e064504_25f3_11ea_bf5f_f0189815766crow3_col8\" class=\"data row3 col8\" >68</td>\n",
       "                        <td id=\"T_2e064504_25f3_11ea_bf5f_f0189815766crow3_col9\" class=\"data row3 col9\" >21.8</td>\n",
       "                        <td id=\"T_2e064504_25f3_11ea_bf5f_f0189815766crow3_col10\" class=\"data row3 col10\" >1</td>\n",
       "                        <td id=\"T_2e064504_25f3_11ea_bf5f_f0189815766crow3_col11\" class=\"data row3 col11\" >False</td>\n",
       "                        <td id=\"T_2e064504_25f3_11ea_bf5f_f0189815766crow3_col12\" class=\"data row3 col12\" >False</td>\n",
       "            </tr>\n",
       "            <tr>\n",
       "                        <th id=\"T_2e064504_25f3_11ea_bf5f_f0189815766clevel0_row4\" class=\"row_heading level0 row4\" >16</th>\n",
       "                        <td id=\"T_2e064504_25f3_11ea_bf5f_f0189815766crow4_col0\" class=\"data row4 col0\" >kansas</td>\n",
       "                        <td id=\"T_2e064504_25f3_11ea_bf5f_f0189815766crow4_col1\" class=\"data row4 col1\" >4</td>\n",
       "                        <td id=\"T_2e064504_25f3_11ea_bf5f_f0189815766crow4_col2\" class=\"data row4 col2\" >1260</td>\n",
       "                        <td id=\"T_2e064504_25f3_11ea_bf5f_f0189815766crow4_col3\" class=\"data row4 col3\" >4</td>\n",
       "                        <td id=\"T_2e064504_25f3_11ea_bf5f_f0189815766crow4_col4\" class=\"data row4 col4\" >1265</td>\n",
       "                        <td id=\"T_2e064504_25f3_11ea_bf5f_f0189815766crow4_col5\" class=\"data row4 col5\" >0</td>\n",
       "                        <td id=\"T_2e064504_25f3_11ea_bf5f_f0189815766crow4_col6\" class=\"data row4 col6\" >73</td>\n",
       "                        <td id=\"T_2e064504_25f3_11ea_bf5f_f0189815766crow4_col7\" class=\"data row4 col7\" >21.7</td>\n",
       "                        <td id=\"T_2e064504_25f3_11ea_bf5f_f0189815766crow4_col8\" class=\"data row4 col8\" >71</td>\n",
       "                        <td id=\"T_2e064504_25f3_11ea_bf5f_f0189815766crow4_col9\" class=\"data row4 col9\" >21.6</td>\n",
       "                        <td id=\"T_2e064504_25f3_11ea_bf5f_f0189815766crow4_col10\" class=\"data row4 col10\" >-2</td>\n",
       "                        <td id=\"T_2e064504_25f3_11ea_bf5f_f0189815766crow4_col11\" class=\"data row4 col11\" >False</td>\n",
       "                        <td id=\"T_2e064504_25f3_11ea_bf5f_f0189815766crow4_col12\" class=\"data row4 col12\" >False</td>\n",
       "            </tr>\n",
       "    </tbody></table>"
      ],
      "text/plain": [
       "<pandas.io.formats.style.Styler at 0x1a25fbc490>"
      ]
     },
     "metadata": {},
     "output_type": "display_data"
    },
    {
     "data": {
      "text/html": [
       "<style  type=\"text/css\" >\n",
       "    #T_2e084dae_25f3_11ea_bf5f_f0189815766crow0_col7 {\n",
       "            background-color:  yellow;\n",
       "        }    #T_2e084dae_25f3_11ea_bf5f_f0189815766crow1_col7 {\n",
       "            background-color:  yellow;\n",
       "        }    #T_2e084dae_25f3_11ea_bf5f_f0189815766crow2_col7 {\n",
       "            background-color:  yellow;\n",
       "        }    #T_2e084dae_25f3_11ea_bf5f_f0189815766crow3_col7 {\n",
       "            background-color:  yellow;\n",
       "        }    #T_2e084dae_25f3_11ea_bf5f_f0189815766crow4_col7 {\n",
       "            background-color:  yellow;\n",
       "        }</style><table id=\"T_2e084dae_25f3_11ea_bf5f_f0189815766c\" ><thead>    <tr>        <th class=\"blank level0\" ></th>        <th class=\"col_heading level0 col0\" >state</th>        <th class=\"col_heading level0 col1\" >sat_part_17</th>        <th class=\"col_heading level0 col2\" >sat_total_17</th>        <th class=\"col_heading level0 col3\" >sat_part_18</th>        <th class=\"col_heading level0 col4\" >sat_total_18</th>        <th class=\"col_heading level0 col5\" >sat_part_inc</th>        <th class=\"col_heading level0 col6\" >act_part_17</th>        <th class=\"col_heading level0 col7\" >act_comp_17</th>        <th class=\"col_heading level0 col8\" >act_part_18</th>        <th class=\"col_heading level0 col9\" >act_comp_18</th>        <th class=\"col_heading level0 col10\" >act_part_inc</th>        <th class=\"col_heading level0 col11\" >sat_dom_17</th>        <th class=\"col_heading level0 col12\" >sat_dom_18</th>    </tr></thead><tbody>\n",
       "                <tr>\n",
       "                        <th id=\"T_2e084dae_25f3_11ea_bf5f_f0189815766clevel0_row0\" class=\"row_heading level0 row0\" >29</th>\n",
       "                        <td id=\"T_2e084dae_25f3_11ea_bf5f_f0189815766crow0_col0\" class=\"data row0 col0\" >new hampshire</td>\n",
       "                        <td id=\"T_2e084dae_25f3_11ea_bf5f_f0189815766crow0_col1\" class=\"data row0 col1\" >96</td>\n",
       "                        <td id=\"T_2e084dae_25f3_11ea_bf5f_f0189815766crow0_col2\" class=\"data row0 col2\" >1052</td>\n",
       "                        <td id=\"T_2e084dae_25f3_11ea_bf5f_f0189815766crow0_col3\" class=\"data row0 col3\" >96</td>\n",
       "                        <td id=\"T_2e084dae_25f3_11ea_bf5f_f0189815766crow0_col4\" class=\"data row0 col4\" >1063</td>\n",
       "                        <td id=\"T_2e084dae_25f3_11ea_bf5f_f0189815766crow0_col5\" class=\"data row0 col5\" >0</td>\n",
       "                        <td id=\"T_2e084dae_25f3_11ea_bf5f_f0189815766crow0_col6\" class=\"data row0 col6\" >18</td>\n",
       "                        <td id=\"T_2e084dae_25f3_11ea_bf5f_f0189815766crow0_col7\" class=\"data row0 col7\" >25.5</td>\n",
       "                        <td id=\"T_2e084dae_25f3_11ea_bf5f_f0189815766crow0_col8\" class=\"data row0 col8\" >16</td>\n",
       "                        <td id=\"T_2e084dae_25f3_11ea_bf5f_f0189815766crow0_col9\" class=\"data row0 col9\" >25.1</td>\n",
       "                        <td id=\"T_2e084dae_25f3_11ea_bf5f_f0189815766crow0_col10\" class=\"data row0 col10\" >-2</td>\n",
       "                        <td id=\"T_2e084dae_25f3_11ea_bf5f_f0189815766crow0_col11\" class=\"data row0 col11\" >True</td>\n",
       "                        <td id=\"T_2e084dae_25f3_11ea_bf5f_f0189815766crow0_col12\" class=\"data row0 col12\" >True</td>\n",
       "            </tr>\n",
       "            <tr>\n",
       "                        <th id=\"T_2e084dae_25f3_11ea_bf5f_f0189815766clevel0_row1\" class=\"row_heading level0 row1\" >21</th>\n",
       "                        <td id=\"T_2e084dae_25f3_11ea_bf5f_f0189815766crow1_col0\" class=\"data row1 col0\" >massachusetts</td>\n",
       "                        <td id=\"T_2e084dae_25f3_11ea_bf5f_f0189815766crow1_col1\" class=\"data row1 col1\" >76</td>\n",
       "                        <td id=\"T_2e084dae_25f3_11ea_bf5f_f0189815766crow1_col2\" class=\"data row1 col2\" >1107</td>\n",
       "                        <td id=\"T_2e084dae_25f3_11ea_bf5f_f0189815766crow1_col3\" class=\"data row1 col3\" >80</td>\n",
       "                        <td id=\"T_2e084dae_25f3_11ea_bf5f_f0189815766crow1_col4\" class=\"data row1 col4\" >1125</td>\n",
       "                        <td id=\"T_2e084dae_25f3_11ea_bf5f_f0189815766crow1_col5\" class=\"data row1 col5\" >4</td>\n",
       "                        <td id=\"T_2e084dae_25f3_11ea_bf5f_f0189815766crow1_col6\" class=\"data row1 col6\" >29</td>\n",
       "                        <td id=\"T_2e084dae_25f3_11ea_bf5f_f0189815766crow1_col7\" class=\"data row1 col7\" >25.4</td>\n",
       "                        <td id=\"T_2e084dae_25f3_11ea_bf5f_f0189815766crow1_col8\" class=\"data row1 col8\" >25</td>\n",
       "                        <td id=\"T_2e084dae_25f3_11ea_bf5f_f0189815766crow1_col9\" class=\"data row1 col9\" >25.5</td>\n",
       "                        <td id=\"T_2e084dae_25f3_11ea_bf5f_f0189815766crow1_col10\" class=\"data row1 col10\" >-4</td>\n",
       "                        <td id=\"T_2e084dae_25f3_11ea_bf5f_f0189815766crow1_col11\" class=\"data row1 col11\" >True</td>\n",
       "                        <td id=\"T_2e084dae_25f3_11ea_bf5f_f0189815766crow1_col12\" class=\"data row1 col12\" >True</td>\n",
       "            </tr>\n",
       "            <tr>\n",
       "                        <th id=\"T_2e084dae_25f3_11ea_bf5f_f0189815766clevel0_row2\" class=\"row_heading level0 row2\" >6</th>\n",
       "                        <td id=\"T_2e084dae_25f3_11ea_bf5f_f0189815766crow2_col0\" class=\"data row2 col0\" >connecticut</td>\n",
       "                        <td id=\"T_2e084dae_25f3_11ea_bf5f_f0189815766crow2_col1\" class=\"data row2 col1\" >100</td>\n",
       "                        <td id=\"T_2e084dae_25f3_11ea_bf5f_f0189815766crow2_col2\" class=\"data row2 col2\" >1041</td>\n",
       "                        <td id=\"T_2e084dae_25f3_11ea_bf5f_f0189815766crow2_col3\" class=\"data row2 col3\" >100</td>\n",
       "                        <td id=\"T_2e084dae_25f3_11ea_bf5f_f0189815766crow2_col4\" class=\"data row2 col4\" >1053</td>\n",
       "                        <td id=\"T_2e084dae_25f3_11ea_bf5f_f0189815766crow2_col5\" class=\"data row2 col5\" >0</td>\n",
       "                        <td id=\"T_2e084dae_25f3_11ea_bf5f_f0189815766crow2_col6\" class=\"data row2 col6\" >31</td>\n",
       "                        <td id=\"T_2e084dae_25f3_11ea_bf5f_f0189815766crow2_col7\" class=\"data row2 col7\" >25.2</td>\n",
       "                        <td id=\"T_2e084dae_25f3_11ea_bf5f_f0189815766crow2_col8\" class=\"data row2 col8\" >26</td>\n",
       "                        <td id=\"T_2e084dae_25f3_11ea_bf5f_f0189815766crow2_col9\" class=\"data row2 col9\" >25.6</td>\n",
       "                        <td id=\"T_2e084dae_25f3_11ea_bf5f_f0189815766crow2_col10\" class=\"data row2 col10\" >-5</td>\n",
       "                        <td id=\"T_2e084dae_25f3_11ea_bf5f_f0189815766crow2_col11\" class=\"data row2 col11\" >True</td>\n",
       "                        <td id=\"T_2e084dae_25f3_11ea_bf5f_f0189815766crow2_col12\" class=\"data row2 col12\" >True</td>\n",
       "            </tr>\n",
       "            <tr>\n",
       "                        <th id=\"T_2e084dae_25f3_11ea_bf5f_f0189815766clevel0_row3\" class=\"row_heading level0 row3\" >19</th>\n",
       "                        <td id=\"T_2e084dae_25f3_11ea_bf5f_f0189815766crow3_col0\" class=\"data row3 col0\" >maine</td>\n",
       "                        <td id=\"T_2e084dae_25f3_11ea_bf5f_f0189815766crow3_col1\" class=\"data row3 col1\" >95</td>\n",
       "                        <td id=\"T_2e084dae_25f3_11ea_bf5f_f0189815766crow3_col2\" class=\"data row3 col2\" >1012</td>\n",
       "                        <td id=\"T_2e084dae_25f3_11ea_bf5f_f0189815766crow3_col3\" class=\"data row3 col3\" >99</td>\n",
       "                        <td id=\"T_2e084dae_25f3_11ea_bf5f_f0189815766crow3_col4\" class=\"data row3 col4\" >1013</td>\n",
       "                        <td id=\"T_2e084dae_25f3_11ea_bf5f_f0189815766crow3_col5\" class=\"data row3 col5\" >4</td>\n",
       "                        <td id=\"T_2e084dae_25f3_11ea_bf5f_f0189815766crow3_col6\" class=\"data row3 col6\" >8</td>\n",
       "                        <td id=\"T_2e084dae_25f3_11ea_bf5f_f0189815766crow3_col7\" class=\"data row3 col7\" >24.3</td>\n",
       "                        <td id=\"T_2e084dae_25f3_11ea_bf5f_f0189815766crow3_col8\" class=\"data row3 col8\" >7</td>\n",
       "                        <td id=\"T_2e084dae_25f3_11ea_bf5f_f0189815766crow3_col9\" class=\"data row3 col9\" >24</td>\n",
       "                        <td id=\"T_2e084dae_25f3_11ea_bf5f_f0189815766crow3_col10\" class=\"data row3 col10\" >-1</td>\n",
       "                        <td id=\"T_2e084dae_25f3_11ea_bf5f_f0189815766crow3_col11\" class=\"data row3 col11\" >True</td>\n",
       "                        <td id=\"T_2e084dae_25f3_11ea_bf5f_f0189815766crow3_col12\" class=\"data row3 col12\" >True</td>\n",
       "            </tr>\n",
       "            <tr>\n",
       "                        <th id=\"T_2e084dae_25f3_11ea_bf5f_f0189815766clevel0_row4\" class=\"row_heading level0 row4\" >8</th>\n",
       "                        <td id=\"T_2e084dae_25f3_11ea_bf5f_f0189815766crow4_col0\" class=\"data row4 col0\" >district of columbia</td>\n",
       "                        <td id=\"T_2e084dae_25f3_11ea_bf5f_f0189815766crow4_col1\" class=\"data row4 col1\" >100</td>\n",
       "                        <td id=\"T_2e084dae_25f3_11ea_bf5f_f0189815766crow4_col2\" class=\"data row4 col2\" >950</td>\n",
       "                        <td id=\"T_2e084dae_25f3_11ea_bf5f_f0189815766crow4_col3\" class=\"data row4 col3\" >92</td>\n",
       "                        <td id=\"T_2e084dae_25f3_11ea_bf5f_f0189815766crow4_col4\" class=\"data row4 col4\" >977</td>\n",
       "                        <td id=\"T_2e084dae_25f3_11ea_bf5f_f0189815766crow4_col5\" class=\"data row4 col5\" >-8</td>\n",
       "                        <td id=\"T_2e084dae_25f3_11ea_bf5f_f0189815766crow4_col6\" class=\"data row4 col6\" >32</td>\n",
       "                        <td id=\"T_2e084dae_25f3_11ea_bf5f_f0189815766crow4_col7\" class=\"data row4 col7\" >24.2</td>\n",
       "                        <td id=\"T_2e084dae_25f3_11ea_bf5f_f0189815766crow4_col8\" class=\"data row4 col8\" >32</td>\n",
       "                        <td id=\"T_2e084dae_25f3_11ea_bf5f_f0189815766crow4_col9\" class=\"data row4 col9\" >23.6</td>\n",
       "                        <td id=\"T_2e084dae_25f3_11ea_bf5f_f0189815766crow4_col10\" class=\"data row4 col10\" >0</td>\n",
       "                        <td id=\"T_2e084dae_25f3_11ea_bf5f_f0189815766crow4_col11\" class=\"data row4 col11\" >True</td>\n",
       "                        <td id=\"T_2e084dae_25f3_11ea_bf5f_f0189815766crow4_col12\" class=\"data row4 col12\" >True</td>\n",
       "            </tr>\n",
       "    </tbody></table>"
      ],
      "text/plain": [
       "<pandas.io.formats.style.Styler at 0x1a2640d610>"
      ]
     },
     "metadata": {},
     "output_type": "display_data"
    },
    {
     "data": {
      "text/html": [
       "<style  type=\"text/css\" >\n",
       "    #T_2e09fd34_25f3_11ea_bf5f_f0189815766crow0_col9 {\n",
       "            background-color:  yellow;\n",
       "        }    #T_2e09fd34_25f3_11ea_bf5f_f0189815766crow1_col9 {\n",
       "            background-color:  yellow;\n",
       "        }    #T_2e09fd34_25f3_11ea_bf5f_f0189815766crow2_col9 {\n",
       "            background-color:  yellow;\n",
       "        }    #T_2e09fd34_25f3_11ea_bf5f_f0189815766crow3_col9 {\n",
       "            background-color:  yellow;\n",
       "        }    #T_2e09fd34_25f3_11ea_bf5f_f0189815766crow4_col9 {\n",
       "            background-color:  yellow;\n",
       "        }</style><table id=\"T_2e09fd34_25f3_11ea_bf5f_f0189815766c\" ><thead>    <tr>        <th class=\"blank level0\" ></th>        <th class=\"col_heading level0 col0\" >state</th>        <th class=\"col_heading level0 col1\" >sat_part_17</th>        <th class=\"col_heading level0 col2\" >sat_total_17</th>        <th class=\"col_heading level0 col3\" >sat_part_18</th>        <th class=\"col_heading level0 col4\" >sat_total_18</th>        <th class=\"col_heading level0 col5\" >sat_part_inc</th>        <th class=\"col_heading level0 col6\" >act_part_17</th>        <th class=\"col_heading level0 col7\" >act_comp_17</th>        <th class=\"col_heading level0 col8\" >act_part_18</th>        <th class=\"col_heading level0 col9\" >act_comp_18</th>        <th class=\"col_heading level0 col10\" >act_part_inc</th>        <th class=\"col_heading level0 col11\" >sat_dom_17</th>        <th class=\"col_heading level0 col12\" >sat_dom_18</th>    </tr></thead><tbody>\n",
       "                <tr>\n",
       "                        <th id=\"T_2e09fd34_25f3_11ea_bf5f_f0189815766clevel0_row0\" class=\"row_heading level0 row0\" >6</th>\n",
       "                        <td id=\"T_2e09fd34_25f3_11ea_bf5f_f0189815766crow0_col0\" class=\"data row0 col0\" >connecticut</td>\n",
       "                        <td id=\"T_2e09fd34_25f3_11ea_bf5f_f0189815766crow0_col1\" class=\"data row0 col1\" >100</td>\n",
       "                        <td id=\"T_2e09fd34_25f3_11ea_bf5f_f0189815766crow0_col2\" class=\"data row0 col2\" >1041</td>\n",
       "                        <td id=\"T_2e09fd34_25f3_11ea_bf5f_f0189815766crow0_col3\" class=\"data row0 col3\" >100</td>\n",
       "                        <td id=\"T_2e09fd34_25f3_11ea_bf5f_f0189815766crow0_col4\" class=\"data row0 col4\" >1053</td>\n",
       "                        <td id=\"T_2e09fd34_25f3_11ea_bf5f_f0189815766crow0_col5\" class=\"data row0 col5\" >0</td>\n",
       "                        <td id=\"T_2e09fd34_25f3_11ea_bf5f_f0189815766crow0_col6\" class=\"data row0 col6\" >31</td>\n",
       "                        <td id=\"T_2e09fd34_25f3_11ea_bf5f_f0189815766crow0_col7\" class=\"data row0 col7\" >25.2</td>\n",
       "                        <td id=\"T_2e09fd34_25f3_11ea_bf5f_f0189815766crow0_col8\" class=\"data row0 col8\" >26</td>\n",
       "                        <td id=\"T_2e09fd34_25f3_11ea_bf5f_f0189815766crow0_col9\" class=\"data row0 col9\" >25.6</td>\n",
       "                        <td id=\"T_2e09fd34_25f3_11ea_bf5f_f0189815766crow0_col10\" class=\"data row0 col10\" >-5</td>\n",
       "                        <td id=\"T_2e09fd34_25f3_11ea_bf5f_f0189815766crow0_col11\" class=\"data row0 col11\" >True</td>\n",
       "                        <td id=\"T_2e09fd34_25f3_11ea_bf5f_f0189815766crow0_col12\" class=\"data row0 col12\" >True</td>\n",
       "            </tr>\n",
       "            <tr>\n",
       "                        <th id=\"T_2e09fd34_25f3_11ea_bf5f_f0189815766clevel0_row1\" class=\"row_heading level0 row1\" >21</th>\n",
       "                        <td id=\"T_2e09fd34_25f3_11ea_bf5f_f0189815766crow1_col0\" class=\"data row1 col0\" >massachusetts</td>\n",
       "                        <td id=\"T_2e09fd34_25f3_11ea_bf5f_f0189815766crow1_col1\" class=\"data row1 col1\" >76</td>\n",
       "                        <td id=\"T_2e09fd34_25f3_11ea_bf5f_f0189815766crow1_col2\" class=\"data row1 col2\" >1107</td>\n",
       "                        <td id=\"T_2e09fd34_25f3_11ea_bf5f_f0189815766crow1_col3\" class=\"data row1 col3\" >80</td>\n",
       "                        <td id=\"T_2e09fd34_25f3_11ea_bf5f_f0189815766crow1_col4\" class=\"data row1 col4\" >1125</td>\n",
       "                        <td id=\"T_2e09fd34_25f3_11ea_bf5f_f0189815766crow1_col5\" class=\"data row1 col5\" >4</td>\n",
       "                        <td id=\"T_2e09fd34_25f3_11ea_bf5f_f0189815766crow1_col6\" class=\"data row1 col6\" >29</td>\n",
       "                        <td id=\"T_2e09fd34_25f3_11ea_bf5f_f0189815766crow1_col7\" class=\"data row1 col7\" >25.4</td>\n",
       "                        <td id=\"T_2e09fd34_25f3_11ea_bf5f_f0189815766crow1_col8\" class=\"data row1 col8\" >25</td>\n",
       "                        <td id=\"T_2e09fd34_25f3_11ea_bf5f_f0189815766crow1_col9\" class=\"data row1 col9\" >25.5</td>\n",
       "                        <td id=\"T_2e09fd34_25f3_11ea_bf5f_f0189815766crow1_col10\" class=\"data row1 col10\" >-4</td>\n",
       "                        <td id=\"T_2e09fd34_25f3_11ea_bf5f_f0189815766crow1_col11\" class=\"data row1 col11\" >True</td>\n",
       "                        <td id=\"T_2e09fd34_25f3_11ea_bf5f_f0189815766crow1_col12\" class=\"data row1 col12\" >True</td>\n",
       "            </tr>\n",
       "            <tr>\n",
       "                        <th id=\"T_2e09fd34_25f3_11ea_bf5f_f0189815766clevel0_row2\" class=\"row_heading level0 row2\" >29</th>\n",
       "                        <td id=\"T_2e09fd34_25f3_11ea_bf5f_f0189815766crow2_col0\" class=\"data row2 col0\" >new hampshire</td>\n",
       "                        <td id=\"T_2e09fd34_25f3_11ea_bf5f_f0189815766crow2_col1\" class=\"data row2 col1\" >96</td>\n",
       "                        <td id=\"T_2e09fd34_25f3_11ea_bf5f_f0189815766crow2_col2\" class=\"data row2 col2\" >1052</td>\n",
       "                        <td id=\"T_2e09fd34_25f3_11ea_bf5f_f0189815766crow2_col3\" class=\"data row2 col3\" >96</td>\n",
       "                        <td id=\"T_2e09fd34_25f3_11ea_bf5f_f0189815766crow2_col4\" class=\"data row2 col4\" >1063</td>\n",
       "                        <td id=\"T_2e09fd34_25f3_11ea_bf5f_f0189815766crow2_col5\" class=\"data row2 col5\" >0</td>\n",
       "                        <td id=\"T_2e09fd34_25f3_11ea_bf5f_f0189815766crow2_col6\" class=\"data row2 col6\" >18</td>\n",
       "                        <td id=\"T_2e09fd34_25f3_11ea_bf5f_f0189815766crow2_col7\" class=\"data row2 col7\" >25.5</td>\n",
       "                        <td id=\"T_2e09fd34_25f3_11ea_bf5f_f0189815766crow2_col8\" class=\"data row2 col8\" >16</td>\n",
       "                        <td id=\"T_2e09fd34_25f3_11ea_bf5f_f0189815766crow2_col9\" class=\"data row2 col9\" >25.1</td>\n",
       "                        <td id=\"T_2e09fd34_25f3_11ea_bf5f_f0189815766crow2_col10\" class=\"data row2 col10\" >-2</td>\n",
       "                        <td id=\"T_2e09fd34_25f3_11ea_bf5f_f0189815766crow2_col11\" class=\"data row2 col11\" >True</td>\n",
       "                        <td id=\"T_2e09fd34_25f3_11ea_bf5f_f0189815766crow2_col12\" class=\"data row2 col12\" >True</td>\n",
       "            </tr>\n",
       "            <tr>\n",
       "                        <th id=\"T_2e09fd34_25f3_11ea_bf5f_f0189815766clevel0_row3\" class=\"row_heading level0 row3\" >32</th>\n",
       "                        <td id=\"T_2e09fd34_25f3_11ea_bf5f_f0189815766crow3_col0\" class=\"data row3 col0\" >new york</td>\n",
       "                        <td id=\"T_2e09fd34_25f3_11ea_bf5f_f0189815766crow3_col1\" class=\"data row3 col1\" >67</td>\n",
       "                        <td id=\"T_2e09fd34_25f3_11ea_bf5f_f0189815766crow3_col2\" class=\"data row3 col2\" >1052</td>\n",
       "                        <td id=\"T_2e09fd34_25f3_11ea_bf5f_f0189815766crow3_col3\" class=\"data row3 col3\" >79</td>\n",
       "                        <td id=\"T_2e09fd34_25f3_11ea_bf5f_f0189815766crow3_col4\" class=\"data row3 col4\" >1068</td>\n",
       "                        <td id=\"T_2e09fd34_25f3_11ea_bf5f_f0189815766crow3_col5\" class=\"data row3 col5\" >12</td>\n",
       "                        <td id=\"T_2e09fd34_25f3_11ea_bf5f_f0189815766crow3_col6\" class=\"data row3 col6\" >31</td>\n",
       "                        <td id=\"T_2e09fd34_25f3_11ea_bf5f_f0189815766crow3_col7\" class=\"data row3 col7\" >24.2</td>\n",
       "                        <td id=\"T_2e09fd34_25f3_11ea_bf5f_f0189815766crow3_col8\" class=\"data row3 col8\" >27</td>\n",
       "                        <td id=\"T_2e09fd34_25f3_11ea_bf5f_f0189815766crow3_col9\" class=\"data row3 col9\" >24.5</td>\n",
       "                        <td id=\"T_2e09fd34_25f3_11ea_bf5f_f0189815766crow3_col10\" class=\"data row3 col10\" >-4</td>\n",
       "                        <td id=\"T_2e09fd34_25f3_11ea_bf5f_f0189815766crow3_col11\" class=\"data row3 col11\" >True</td>\n",
       "                        <td id=\"T_2e09fd34_25f3_11ea_bf5f_f0189815766crow3_col12\" class=\"data row3 col12\" >True</td>\n",
       "            </tr>\n",
       "            <tr>\n",
       "                        <th id=\"T_2e09fd34_25f3_11ea_bf5f_f0189815766clevel0_row4\" class=\"row_heading level0 row4\" >22</th>\n",
       "                        <td id=\"T_2e09fd34_25f3_11ea_bf5f_f0189815766crow4_col0\" class=\"data row4 col0\" >michigan</td>\n",
       "                        <td id=\"T_2e09fd34_25f3_11ea_bf5f_f0189815766crow4_col1\" class=\"data row4 col1\" >100</td>\n",
       "                        <td id=\"T_2e09fd34_25f3_11ea_bf5f_f0189815766crow4_col2\" class=\"data row4 col2\" >1005</td>\n",
       "                        <td id=\"T_2e09fd34_25f3_11ea_bf5f_f0189815766crow4_col3\" class=\"data row4 col3\" >100</td>\n",
       "                        <td id=\"T_2e09fd34_25f3_11ea_bf5f_f0189815766crow4_col4\" class=\"data row4 col4\" >1011</td>\n",
       "                        <td id=\"T_2e09fd34_25f3_11ea_bf5f_f0189815766crow4_col5\" class=\"data row4 col5\" >0</td>\n",
       "                        <td id=\"T_2e09fd34_25f3_11ea_bf5f_f0189815766crow4_col6\" class=\"data row4 col6\" >29</td>\n",
       "                        <td id=\"T_2e09fd34_25f3_11ea_bf5f_f0189815766crow4_col7\" class=\"data row4 col7\" >24.1</td>\n",
       "                        <td id=\"T_2e09fd34_25f3_11ea_bf5f_f0189815766crow4_col8\" class=\"data row4 col8\" >22</td>\n",
       "                        <td id=\"T_2e09fd34_25f3_11ea_bf5f_f0189815766crow4_col9\" class=\"data row4 col9\" >24.2</td>\n",
       "                        <td id=\"T_2e09fd34_25f3_11ea_bf5f_f0189815766crow4_col10\" class=\"data row4 col10\" >-7</td>\n",
       "                        <td id=\"T_2e09fd34_25f3_11ea_bf5f_f0189815766crow4_col11\" class=\"data row4 col11\" >True</td>\n",
       "                        <td id=\"T_2e09fd34_25f3_11ea_bf5f_f0189815766crow4_col12\" class=\"data row4 col12\" >True</td>\n",
       "            </tr>\n",
       "    </tbody></table>"
      ],
      "text/plain": [
       "<pandas.io.formats.style.Styler at 0x1a1d999790>"
      ]
     },
     "metadata": {},
     "output_type": "display_data"
    }
   ],
   "source": [
    "# Looking at highest scores for each test\n",
    "display(df_value_sort_head(test_data,'sat_total_17',score_interest))\n",
    "display(df_value_sort_head(test_data,'sat_total_18',score_interest))\n",
    "display(df_value_sort_head(test_data,'act_comp_17',score_interest))\n",
    "display(df_value_sort_head(test_data,'act_comp_18',score_interest))"
   ]
  },
  {
   "cell_type": "markdown",
   "metadata": {},
   "source": [
    "This was a very interesting data point, that seems to show that the highest scores from each test comes from states that have few students taking the test.\n",
    "\n",
    "My hypothesis is that this is due to selection bias: i.e. in states where a test is not standard the high performing students are much more likely to seek out that test and as a result scores are higher"
   ]
  },
  {
   "cell_type": "markdown",
   "metadata": {},
   "source": [
    "**States with 'Monopoly'**\n",
    "Look at how many SAT and ACT states had 95%+ participation in 2017/2018."
   ]
  },
  {
   "cell_type": "code",
   "execution_count": 47,
   "metadata": {},
   "outputs": [
    {
     "data": {
      "text/plain": [
       "100.0    4\n",
       "96.0     1\n",
       "95.0     1\n",
       "Name: sat_part_17, dtype: int64"
      ]
     },
     "execution_count": 47,
     "metadata": {},
     "output_type": "execute_result"
    }
   ],
   "source": [
    "# 2017 SAT\n",
    "test_data[test_data['sat_part_17'] >= 95]['sat_part_17'].value_counts()"
   ]
  },
  {
   "cell_type": "code",
   "execution_count": 48,
   "metadata": {},
   "outputs": [
    {
     "data": {
      "text/plain": [
       "100.0    5\n",
       "99.0     2\n",
       "97.0     2\n",
       "96.0     1\n",
       "Name: sat_part_18, dtype: int64"
      ]
     },
     "execution_count": 48,
     "metadata": {},
     "output_type": "execute_result"
    }
   ],
   "source": [
    "# 2018 SAT\n",
    "test_data[test_data['sat_part_18'] >= 95]['sat_part_18'].value_counts()"
   ]
  },
  {
   "cell_type": "code",
   "execution_count": 49,
   "metadata": {},
   "outputs": [
    {
     "data": {
      "text/plain": [
       "100.0    17\n",
       "98.0      1\n",
       "Name: act_part_17, dtype: int64"
      ]
     },
     "execution_count": 49,
     "metadata": {},
     "output_type": "execute_result"
    }
   ],
   "source": [
    "# 2017 ACT\n",
    "test_data[test_data['act_part_17'] >= 95]['act_part_17'].value_counts()"
   ]
  },
  {
   "cell_type": "code",
   "execution_count": 50,
   "metadata": {},
   "outputs": [
    {
     "data": {
      "text/plain": [
       "100.0    17\n",
       "98.0      1\n",
       "99.0      1\n",
       "Name: act_part_18, dtype: int64"
      ]
     },
     "execution_count": 50,
     "metadata": {},
     "output_type": "execute_result"
    }
   ],
   "source": [
    "# 2018 ACT\n",
    "test_data[test_data['act_part_18'] >= 95]['act_part_18'].value_counts()"
   ]
  },
  {
   "cell_type": "markdown",
   "metadata": {},
   "source": [
    "## Data Visualization"
   ]
  },
  {
   "cell_type": "markdown",
   "metadata": {},
   "source": [
    "#### Heatmap of correlation between vaious participation rates and total scores"
   ]
  },
  {
   "cell_type": "code",
   "execution_count": 51,
   "metadata": {},
   "outputs": [],
   "source": [
    "# variables to include in heatmap\n",
    "heat_map_variables = ['act_part_17','act_part_18',\n",
    "                      'act_comp_17','act_comp_18',\n",
    "                      'sat_part_17','sat_part_18',\n",
    "                      'sat_total_17','sat_total_18']"
   ]
  },
  {
   "cell_type": "code",
   "execution_count": 52,
   "metadata": {},
   "outputs": [],
   "source": [
    "# color palette to match college board colors\n",
    "cb_colors = sns.diverging_palette(210,49,s=81,l=55)"
   ]
  },
  {
   "cell_type": "code",
   "execution_count": 53,
   "metadata": {},
   "outputs": [
    {
     "data": {
      "image/png": "[encoded data removed]",
      "text/plain": [
       "<Figure size 864x864 with 2 Axes>"
      ]
     },
     "metadata": {
      "needs_background": "light"
     },
     "output_type": "display_data"
    }
   ],
   "source": [
    "# mask from\n",
    "# https://seaborn.pydata.org/examples/many_pairwise_correlations.html\n",
    "# Generate a mask for the upper triangle\n",
    "mask = np.zeros_like(test_data[heat_map_variables].corr(), dtype=np.bool)\n",
    "mask[np.triu_indices_from(mask)] = True\n",
    "\n",
    "plt.figure(figsize=(12,12))\n",
    "sns.heatmap(test_data[heat_map_variables].corr(),\n",
    "            annot=True, cmap='coolwarm', mask = mask)\n",
    "plt.title('Correlation Between ACT/SAT Participation & Scores', fontsize=20)\n",
    "plt.savefig('Exhibits/heatmap.jpg');\n"
   ]
  },
  {
   "cell_type": "markdown",
   "metadata": {},
   "source": [
    "Here we find things that are expected and somewhat unexpected:\n",
    "\n",
    "- There is a strong correlation between participation or score in a given test from year to year\n",
    "- There is a negative correlation between a states score on the SAT and ACT, though these are the weakest correlations in the heatmap, this seems related to what we found above when looking at the highest scores in each test\n",
    "- Similarly, mirroring what was found above, there is a negative correlation between participation in a given test and average score, these are generally quite strong correlations"
   ]
  },
  {
   "cell_type": "markdown",
   "metadata": {},
   "source": [
    "##### Histogram Analysis"
   ]
  },
  {
   "cell_type": "code",
   "execution_count": 54,
   "metadata": {},
   "outputs": [],
   "source": [
    "# Thanks Jakob for helping me make this work\n",
    "# https://stackoverflow.com/questions/20174468/how-to-create-subplots-of-pictures-made-with-the-hist-function-in-matplotlib-p\n",
    "def subplot_histograms(dataframe, list_of_columns, list_of_titles, list_of_xlabels):\n",
    "    nrows = int(np.ceil(len(list_of_columns)/2)) # Makes sure you have enough rows\n",
    "    fig, ax = plt.subplots(nrows=nrows, ncols=2, figsize=(15,10)) # You'll want to specify your figsize\n",
    "    ax = ax.ravel() # Ravel turns a matrix into a vector, which is easier to iterate\n",
    "    for idx, ax in enumerate(ax): # Gives us an index value to get into all our lists\n",
    "        ax.hist(dataframe[list_of_columns[idx]]) # feel free to add more settings\n",
    "        ax.set_title(list_of_titles[idx],fontsize=15)\n",
    "        ax.set_xlabel(list_of_xlabels[idx],fontsize=12)\n",
    "        # Set titles, labels, etc here for each subplot"
   ]
  },
  {
   "cell_type": "code",
   "execution_count": 55,
   "metadata": {},
   "outputs": [
    {
     "data": {
      "image/png": "[encoded data removed]",
      "text/plain": [
       "<Figure size 1080x720 with 4 Axes>"
      ]
     },
     "metadata": {
      "needs_background": "light"
     },
     "output_type": "display_data"
    }
   ],
   "source": [
    "# Participation Rates for SAT & ACT\n",
    "part_rate_columns = ['sat_part_17','sat_part_18','act_part_17','act_part_18']\n",
    "\n",
    "part_rate_titles = ['Count of 2017 SAT Participation Rates','Count of 2018 SAT Participation Rates',\n",
    "                   'Count of 2017 ACT Participation Rates','Count of 2018 ACT Participation Rates']\n",
    "\n",
    "part_rate_xlabels = ['Participation Rate (0 - 100%)','Participation Rate (0 - 100%)',\n",
    "                     'Participation Rate (0 - 100%)','Participation Rate (0 - 100%)',]\n",
    "\n",
    "subplot_histograms(test_data,part_rate_columns,part_rate_titles,part_rate_xlabels)\n",
    "plt.tight_layout();\n"
   ]
  },
  {
   "cell_type": "markdown",
   "metadata": {},
   "source": [
    "We can see that there are more states at or near 100% SAT participation in 2018. For the ACT it seems as though there has been some movement of the 50-100% participation rates into sub 50% participation rate."
   ]
  },
  {
   "cell_type": "code",
   "execution_count": 56,
   "metadata": {},
   "outputs": [
    {
     "data": {
      "image/png": "[encoded data removed]",
      "text/plain": [
       "<Figure size 1080x720 with 4 Axes>"
      ]
     },
     "metadata": {
      "needs_background": "light"
     },
     "output_type": "display_data"
    }
   ],
   "source": [
    "math_read_columns = ['sat_math_17','act_math_17','sat_ebrw_17','act_read_17']\n",
    "\n",
    "math_read_titles = ['Count of 2017 SAT Average Math Scores','Count of 2017 ACT Average Math Scores',\n",
    "                   'Count of 2017 SAT Average EBRW Scores','Count of 2017 ACT Average Reading Scores']\n",
    "\n",
    "math_read_xlabels = ['SAT Math Score (200 - 800)','ACT Math Score (1 - 36)',\n",
    "                    'SAT EBRW Score (200 - 800)','ACT Reading Score (1 - 36)']\n",
    "\n",
    "subplot_histograms(test_data,math_read_columns,math_read_titles,math_read_xlabels);\n",
    "plt.tight_layout()\n"
   ]
  },
  {
   "cell_type": "markdown",
   "metadata": {},
   "source": [
    "Average reading / writing scores for both tests seem to be higher than the math scores for the corresponding test."
   ]
  },
  {
   "cell_type": "markdown",
   "metadata": {},
   "source": [
    "###### Plot and interpret scatter plots"
   ]
  },
  {
   "cell_type": "code",
   "execution_count": 57,
   "metadata": {},
   "outputs": [],
   "source": [
    "# Thanks Jakob for helping me make this work\n",
    "# https://stackoverflow.com/questions/20174468/how-to-create-subplots-of-pictures-made-with-the-hist-function-in-matplotlib-p\n",
    "def subplot_scatter(dataframe, list_of_columns, columns, list_of_titles, list_of_xlabels, list_of_ylabels):\n",
    "    nrows = int(np.ceil(len(list_of_columns)/2)) # Makes sure you have enough rows\n",
    "    fig, ax = plt.subplots(nrows=nrows, ncols=2, figsize=(15,10)) # You'll want to specify your figsize\n",
    "    ax = ax.ravel() # Ravel turns a matrix into a vector, which is easier to iterate\n",
    "    for idx, ax in enumerate(ax): # Gives us an index value to get into all our lists\n",
    "        ax.scatter(dataframe[list_of_columns[idx]],dataframe[columns[idx]]) # need 2 sets of columns for scatter plots\n",
    "        ax.set_title(list_of_titles[idx],fontsize=15)\n",
    "        ax.set_xlabel(list_of_xlabels[idx],fontsize=12)\n",
    "        ax.set_ylabel(list_of_ylabels[idx],fontsize=12)\n",
    "        # Set titles, labels, etc here for each subplot"
   ]
  },
  {
   "cell_type": "code",
   "execution_count": 58,
   "metadata": {},
   "outputs": [
    {
     "data": {
      "image/png": "[encoded data removed]",
      "text/plain": [
       "<Figure size 1080x720 with 6 Axes>"
      ]
     },
     "metadata": {
      "needs_background": "light"
     },
     "output_type": "display_data"
    }
   ],
   "source": [
    "scatter_title = ['2017 SAT vs ACT Math Scores','2017 SAT EBRW vs ACT Reading Scores',\n",
    "                '2017 SAT vs ACT Total Scores','2018 SAT vs ACT Total Scores',\n",
    "                '2017 vs 2018 SAT Total Scores','2017 vs 2018 ACT Composite Scores']\n",
    "\n",
    "scatter_x_data = ['sat_math_17','sat_ebrw_17','sat_total_17',\n",
    "                  'sat_total_18','sat_total_17','act_comp_17']\n",
    "\n",
    "scatter_y_data = ['act_math_17','act_read_17','act_comp_17',\n",
    "                  'act_comp_18','sat_total_18','act_comp_18']\n",
    "\n",
    "scatter_xlabel = ['Avg. SAT Math Scores 2017','Avg. SAT EBRW Scores 2017', \n",
    "                  'Avg. SAT Total Scores 2017','Avg. SAT Total Scores 2018',\n",
    "                  'Avg. SAT Total Scores 2017','Avg. ACT Composite Scores 2017']\n",
    "\n",
    "scatter_ylabel = ['Avg. ACT Math Scores 2017','Avg. ACT Reading Scores 2017', \n",
    "                  'Avg. ACT Composite Scores 2017','Avg. ACT Composite Scores 2018',\n",
    "                  'Avg. SAT Total Scores 2018','Avg. ACT Composite Scores 2018']\n",
    "\n",
    "subplot_scatter(test_data,scatter_x_data,scatter_y_data,scatter_title,scatter_xlabel, scatter_ylabel)\n",
    "plt.tight_layout();"
   ]
  },
  {
   "cell_type": "markdown",
   "metadata": {},
   "source": [
    "The 2017 vs 2018 SAT Total Scores and the corresponding ACT Scores scatter plots show the cleanest linear relationships. However, the ACT has 2 pretty clear outliers and the SAT has 1. It seems likely that these are Colorado and Illinois given they both flipped from ACT to SAT dominant and what we know about scores going down when a higher percentage of students take the test. \n",
    "\n",
    "Upon checking quickly, it was confirmed that Colorado was one of the outliers in both cases, however, Illinois only was for the ACT scores and not the SAT scores.  "
   ]
  },
  {
   "cell_type": "markdown",
   "metadata": {},
   "source": [
    "##### Boxplot Exploration"
   ]
  },
  {
   "cell_type": "code",
   "execution_count": 59,
   "metadata": {},
   "outputs": [
    {
     "data": {
      "image/png": "[encoded data removed]",
      "text/plain": [
       "<Figure size 864x720 with 1 Axes>"
      ]
     },
     "metadata": {
      "needs_background": "light"
     },
     "output_type": "display_data"
    }
   ],
   "source": [
    "# Boxplot of participation rates\n",
    "box_part = ['sat_part_17','sat_part_18','act_part_17','act_part_18']\n",
    "plt.figure(figsize=(12,10))\n",
    "sns.boxplot(data=test_data[box_part], palette='coolwarm')\n",
    "plt.xlabel('Test & Year', fontsize=15)\n",
    "plt.ylabel('Participation Rate (%)', fontsize=15)\n",
    "plt.title('Distribution of Participation Rates by Year and Test', fontsize=20)\n",
    "plt.savefig('Exhibits/boxplot.jpg');"
   ]
  },
  {
   "cell_type": "markdown",
   "metadata": {},
   "source": [
    "Clear increase in SAT participation going from 2017 to 2018. Despite lowered median participation rates of the ACT it is still more popular if we don't take into account state populations."
   ]
  },
  {
   "cell_type": "code",
   "execution_count": 60,
   "metadata": {},
   "outputs": [
    {
     "data": {
      "image/png": "[encoded data removed]",
      "text/plain": [
       "<Figure size 864x720 with 1 Axes>"
      ]
     },
     "metadata": {
      "needs_background": "light"
     },
     "output_type": "display_data"
    }
   ],
   "source": [
    "# Boxplot of total SAT scores\n",
    "box_part = ['sat_total_17','sat_total_18']\n",
    "plt.figure(figsize=(12,10))\n",
    "sns.boxplot(data=test_data[box_part], palette='coolwarm')\n",
    "plt.xlabel('Year', fontsize=15)\n",
    "plt.ylabel('SAT Score', fontsize=15)\n",
    "plt.title('Distribution of Average SAT Scores by Year', fontsize=20)\n",
    "plt.savefig('Exhibits/boxplot.jpg');"
   ]
  },
  {
   "cell_type": "markdown",
   "metadata": {},
   "source": [
    "Average SAT score went down a bit as did it's middle 2 quartiles. However this is to be expected given the increased participation rate adding additional students drives down average scores as we saw in the heatmap above, this is likely due to selection bias.  Additionally this analysis doesn't make a ton of sense as average SAT should remain essentially constant if we look accross the population as the College Board scales the results so the median is ~1060. In looking state by state without accounting for population we can get weird results."
   ]
  },
  {
   "cell_type": "code",
   "execution_count": 61,
   "metadata": {},
   "outputs": [
    {
     "data": {
      "image/png": "[encoded data removed]",
      "text/plain": [
       "<Figure size 864x720 with 1 Axes>"
      ]
     },
     "metadata": {
      "needs_background": "light"
     },
     "output_type": "display_data"
    }
   ],
   "source": [
    "# Boxplot of composite ACT scores\n",
    "box_part = ['act_comp_17','act_comp_18']\n",
    "plt.figure(figsize=(12,10))\n",
    "sns.boxplot(data=test_data[box_part], palette='coolwarm')\n",
    "plt.xlabel('Year', fontsize=15)\n",
    "plt.ylabel('ACT Score', fontsize=15)\n",
    "plt.title('Distribution of Average ACT Scores by Year', fontsize=20)\n",
    "plt.savefig('Exhibits/boxplot.jpg');"
   ]
  },
  {
   "cell_type": "markdown",
   "metadata": {},
   "source": [
    "Here we see basically an inverse of the above with the same caveats applying"
   ]
  },
  {
   "cell_type": "markdown",
   "metadata": {},
   "source": [
    "##### Tableau Choropleth Map \n",
    "\n",
    "Findings and presentation are geared towars a non-technical audience and the data is nicely grouped into US states making a choropleth map and ideal way of displaying data. First we will create a new dataframe and export to CSV for use in Tableau."
   ]
  },
  {
   "cell_type": "code",
   "execution_count": 62,
   "metadata": {},
   "outputs": [],
   "source": [
    "# take the columns we want into tableau (total scores, participation, no booleans)\n",
    "tableau_cols = ['state','part_inc',\n",
    "                'sat_part_17','sat_part_18',\n",
    "                'sat_part_inc','act_part_17',\n",
    "                'act_part_18','act_part_inc',\n",
    "                'act_comp_17','act_comp_18',\n",
    "                'sat_total_17','sat_total_18']\n",
    "\n",
    "test_tableau = test_data[tableau_cols]"
   ]
  },
  {
   "cell_type": "markdown",
   "metadata": {},
   "source": [
    "There are a couple of new variables we would like to calculate and take a look at in Tableau:\n",
    "- Which test was dominant (i.e. taken by a higher percentage of students) in each year and whether it changed (similar to our sat_dom variables but 0 - 3 instead of boolean\n",
    "- States that do not have a near universal test (>2/3 of students taking that test) this will be 0,1 (as opposed to True, False) to make a choropleth easier to make, and will help inform which states would be worthy targets for increased participation"
   ]
  },
  {
   "cell_type": "code",
   "execution_count": 63,
   "metadata": {},
   "outputs": [],
   "source": [
    "# Which test was dominant when function\n",
    "# Function not intended to be universal and variable names are specific\n",
    "# loops through the 2 sat_dom_'year' columns\n",
    "def test_dom(sat_dom_17, sat_dom_18):\n",
    "    if sat_dom_17 == False:\n",
    "        # Check year 2\n",
    "        if sat_dom_18 == False:\n",
    "            # if SAT participation in both years is lower then return 0\n",
    "            return 0\n",
    "        else:\n",
    "            # other wise return 2, higher numbers will indicate SAT was dominant in 2018\n",
    "            return 2\n",
    "    else:\n",
    "        # now if SAT was dominant in 2017, check year 2\n",
    "        if sat_dom_18 == False:\n",
    "            # if SAT participation dropped below ACT in 2018 return 1\n",
    "            return 1\n",
    "        else:\n",
    "            # if SAT was dominant bother years return 3\n",
    "            return 3"
   ]
  },
  {
   "cell_type": "code",
   "execution_count": 64,
   "metadata": {},
   "outputs": [
    {
     "name": "stderr",
     "output_type": "stream",
     "text": [
      "/Users/magnusbigelow/Applications/anaconda3/lib/python3.7/site-packages/ipykernel_launcher.py:3: SettingWithCopyWarning: \n",
      "A value is trying to be set on a copy of a slice from a DataFrame.\n",
      "Try using .loc[row_indexer,col_indexer] = value instead\n",
      "\n",
      "See the caveats in the documentation: http://pandas.pydata.org/pandas-docs/stable/user_guide/indexing.html#returning-a-view-versus-a-copy\n",
      "  This is separate from the ipykernel package so we can avoid doing imports until\n"
     ]
    }
   ],
   "source": [
    "# This gives a warning that there is a better way, but it works so we'll keep it for now\n",
    "# Point for potential future improvement\n",
    "test_tableau['test_dom'] = [test_dom(test_data['sat_dom_17'][i],test_data['sat_dom_18'][i]) for i in range(len(test_data['sat_dom_18']))]"
   ]
  },
  {
   "cell_type": "code",
   "execution_count": 65,
   "metadata": {},
   "outputs": [
    {
     "name": "stderr",
     "output_type": "stream",
     "text": [
      "/Users/magnusbigelow/Applications/anaconda3/lib/python3.7/site-packages/ipykernel_launcher.py:2: SettingWithCopyWarning: \n",
      "A value is trying to be set on a copy of a slice from a DataFrame.\n",
      "Try using .loc[row_indexer,col_indexer] = value instead\n",
      "\n",
      "See the caveats in the documentation: http://pandas.pydata.org/pandas-docs/stable/user_guide/indexing.html#returning-a-view-versus-a-copy\n",
      "  \n"
     ]
    }
   ],
   "source": [
    "# test for a single dominant player in 2018\n",
    "test_tableau['dom_18'] = ((test_data['sat_part_18'] > 66) | (test_data['act_part_18'] > 66)).astype(int)"
   ]
  },
  {
   "cell_type": "markdown",
   "metadata": {},
   "source": [
    "Now save to csv"
   ]
  },
  {
   "cell_type": "code",
   "execution_count": 66,
   "metadata": {},
   "outputs": [],
   "source": [
    "test_tableau.to_csv('Data/test_tableau.csv')"
   ]
  },
  {
   "cell_type": "markdown",
   "metadata": {},
   "source": [
    "Choropleth map showing whether a state had greater SAT or ACT participation in 2017 and 2018. Yellow states had greater SAT participation in 2017 and 2018, blue had greater ACT participation. Light yellow (Illinois and Colorado) switch from more ACT to more SAT\n",
    "\n",
    "![Choropleth SAT or ACT Dominant](./Exhibits/ACTorSATDominant.png)"
   ]
  },
  {
   "cell_type": "markdown",
   "metadata": {},
   "source": [
    "Choropleth showing states with one test with >2/3 participation (blue) and no tests with >2/3 participation, yellow.\n",
    "\n",
    "From what we saw in the heatmap, it seems likely that when students are taking the test that isn't standard they are likely to be high achieving students, thus when there isn't a standard test it is likely that many students are falling through the cracks even if the combined participation is high.\n",
    "\n",
    "![Standard or not Choropleth](./Exhitbits/StandardorNoStandard.png)\n",
    "\n",
    "From this map we can see that in particular the Southwest US, along the Mexico border, has a number of states without a standard test. This is also an area with a large number immigrants and people that aren't aware of the SAT or the possibility of going to college. This is the area we will focus on as the ideal place for the College Board to invest resources."
   ]
  },
  {
   "cell_type": "markdown",
   "metadata": {},
   "source": [
    "## Outside Research"
   ]
  },
  {
   "cell_type": "markdown",
   "metadata": {},
   "source": [
    "Based on the EDA and further visual analysis there are 4 states of particular interest: Colorado, Illionois, Florida and Alaska. Below we will identify why they are of interest and what led to their interesting changes in the SAT and ACT."
   ]
  },
  {
   "cell_type": "markdown",
   "metadata": {},
   "source": [
    "**Colorado**: saw an 89% spike in SAT participation and 70% decrease in ACT participation.\n",
    "\n",
    "'Colorado has given a college entrance exam each spring to all 11th graders enrolled in public schools since 2001. In 2015 the Colorado legislature passed House Bill 15-1323, requiring the state to competitively bid for a new 10th grade exam that is aligned to both the Colorado Academic Standards and an 11th grade college entrance exam. The legislation also added the opportunity for students to take an additional, optional essay as part of their college entrance exam at no cost to the student. **The selection committee chose the PSAT for 10th graders and the SAT for the 11th grade college entrance exam because of their alignment to the high school Colorado Academic Standards and because the College Board’s reports and free test preparation services could be used by all students.** For 2018, the PSAT 8/9 was added for students in grade 9. Students who choose to participate in services offered by The College Board will be connected to resources and activities designed to help identify next steps for extra support or possible acceleration.'\n",
    "\n",
    "Source: https://www.cde.state.co.us/assessment/coloradosat\n",
    "\n",
    "As we can see the SAT won the competetive bidding process to take over from the ACT as the standard test for all 11th graders starting with the class of 2018. This is what caused the huge change and shows us that states having a standard test and a competetive bidding process is the best opportunity for large change in participation rates."
   ]
  },
  {
   "cell_type": "markdown",
   "metadata": {},
   "source": [
    "**Illinois**: saw a 90% spike in SAT participation and 50% decrease in ACT participation.\n",
    "\n",
    "'In 2015, the state board called for bids for 11th grade assessments and chose the College Board’s SAT, a standardized test used commonly for college applications.'\n",
    "\n",
    "Source: https://www.chalkbeat.org/posts/chicago/2018/07/27/act-protests-state-boards-embrace-of-rival-test-provider/\n",
    "\n",
    "We can see that Illinois has the same reason as Colorado for the large swing in participation rates."
   ]
  },
  {
   "cell_type": "markdown",
   "metadata": {},
   "source": [
    "**Florida**: 14% increase in SAT participation from 83% to 97%, near universal\n",
    "\n",
    "'**Officials attributed the increase to many school districts, including those in Central Florida, offering free SAT “school day” events**, where teenagers can take the exam during a regular school day with the cost covered by their schools, not their parents.\n",
    "\n",
    "“Students have had the chance to take the SAT without any obstacles,” said Jane Dapkus, a vice president at the College Board, during a telephone briefing with reporters.'\n",
    "\n",
    "Source: https://www.orlandosentinel.com/news/education/os-ne-act-sat-florida-scores-20181024-story.html\n",
    "\n",
    "Florida did not see as large an increase as Colorado and Illinois, however, we can see that the College Board's 'SAT School Day' is credited with a large portion of the increase in participation. This shows that the College Board can take action itself in conjunction with local school districts to drive large increases in participation, though the results aren't as dramatic as with a statewide mandate."
   ]
  },
  {
   "cell_type": "markdown",
   "metadata": {},
   "source": [
    "**Alaska**: 32% drop in ACT participation without similar increase in SAT participation\n",
    "\n",
    "'Alaska's high school students no longer need to take the SAT, ACT or WorkKeys test to get their diplomas. The state law requiring the college or career readiness tests expired Thursday.\n",
    "\n",
    "As of now, the Class of 2017 will only need to meet credit requirements to get their diplomas, said Margaret MacKinnon, director of assessment and accountability at Alaska's state education department.'\n",
    "\n",
    "Source: https://www.adn.com/alaska-news/education/2016/06/30/students-no-longer-need-national-tests-to-graduate/\n",
    "\n",
    "Here we see the negative side of legislation, when Alaska's SAT / ACT madate went away far fewer students took the ACT within a year of the legislation expiring. This shows the importance of keeping close contact with legislatures and ensuring they understand the value of college readiness tests."
   ]
  },
  {
   "cell_type": "markdown",
   "metadata": {},
   "source": [
    "From these states we can see that policy is the number one driver of participation rate increases but the College Board can also increase participation by working with local communities and highlighting their SAT School Day and Khan Academy programs."
   ]
  },
  {
   "cell_type": "markdown",
   "metadata": {},
   "source": [
    "## Conclusions and Recommendations"
   ]
  },
  {
   "cell_type": "markdown",
   "metadata": {},
   "source": [
    "From our understanding of which students are likely to fall through the cracks and which states are most in need of help, Arizona is our prime target for trying to increase participation. The state does not have a 'standard' (>2/3 participation) test and is along the Mexico boarder with a large % of immigrants. Additionally lessons learned from attempting to increase participation here can likely translate to nearby states of California and Texas which see similar patterns of participation and large percentage of immigrants."
   ]
  },
  {
   "cell_type": "markdown",
   "metadata": {},
   "source": [
    "**Recomendations for Increased Participation:**\n",
    "\n",
    "Spread awareness of SAT programs and value\n",
    "- Work with local policy makers, school administrators and parents, meaningful participation increase only happens when key stakeholder are bought in\n",
    "\n",
    "Push for statewide SAT mandate\n",
    "- Fastest, most effective way to increase participation\n",
    "\n",
    "Highlight ‘SAT School Day’ and Khan Academy partnership\n",
    "- Significant success in other geographies and highlights how College Board wants to work with students, parents and teachers\n"
   ]
  },
  {
   "cell_type": "markdown",
   "metadata": {},
   "source": [
    "**Next Steps to Gain a Better Understanding and Provide more Concrete Reccomendations:**\n",
    "\n",
    "- Examine more granular data at county or school district level\n",
    "- Examine data split by race and socio-economic data\n",
    "- Follow trends over a greater number of years\n",
    "- Look more closely at state and local policies"
   ]
  }
 ],
 "metadata": {
  "anaconda-cloud": {},
  "kernelspec": {
   "display_name": "Python 3",
   "language": "python",
   "name": "python3"
  },
  "language_info": {
   "codemirror_mode": {
    "name": "ipython",
    "version": 3
   },
   "file_extension": ".py",
   "mimetype": "text/x-python",
   "name": "python",
   "nbconvert_exporter": "python",
   "pygments_lexer": "ipython3",
   "version": "3.7.4"
  }
 },
 "nbformat": 4,
 "nbformat_minor": 2
}
